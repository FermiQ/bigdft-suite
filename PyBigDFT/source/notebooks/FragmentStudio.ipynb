{
 "cells": [
  {
   "cell_type": "markdown",
   "metadata": {},
   "source": [
    "# Fragment Studio\n",
    "In this notebook, we illustrate how we store the physical systems in PyBigDFT, and hwo to manipulate its individual parts.\n",
    "\n",
    "## Basic Types\n",
    "In PyBigDFT, we represent the physical system we are calculating in a three level hierarchy. First, we have atoms. Each atom has a symbol and position, but might also have any general quantity associated with it. Next we have fragments, which represent collections of atoms. Finally we have systems, which contain a collection of named fragments."
   ]
  },
  {
   "cell_type": "markdown",
   "metadata": {},
   "source": [
    "### Atoms"
   ]
  },
  {
   "cell_type": "code",
   "execution_count": 2,
   "metadata": {},
   "outputs": [
    {
     "data": {
      "text/plain": [
       "<module 'BigDFT.Atom' from '/Users/dawson/Documents/CEACollaboration/SourceCode/ClassDesign/Build/install/lib/python2.7/site-packages/BigDFT/Atom.pyc'>"
      ]
     },
     "execution_count": 2,
     "metadata": {},
     "output_type": "execute_result"
    }
   ],
   "source": [
    "from BigDFT import Atom as A\n",
    "reload(A)"
   ]
  },
  {
   "cell_type": "code",
   "execution_count": 3,
   "metadata": {},
   "outputs": [],
   "source": [
    "at1 = A.Atom(r=[0.0, 0.0, 1.0], sym=\"He\")\n",
    "at2 = A.Atom(r=[0.52917721092, 0.0, 0.0], sym=\"Ne\", units=\"angstroem\")"
   ]
  },
  {
   "cell_type": "markdown",
   "metadata": {},
   "source": [
    "The most important elements of the Atom can be accessed through helper routines"
   ]
  },
  {
   "cell_type": "code",
   "execution_count": 4,
   "metadata": {},
   "outputs": [
    {
     "name": "stdout",
     "output_type": "stream",
     "text": [
      "('He', 'Ne')\n",
      "([0.0, 0.0, 1.0], [1.0, 0.0, 0.0])\n",
      "([0.0, 0.0, 0.52917721092], [0.52917721092, 0.0, 0.0])\n"
     ]
    }
   ],
   "source": [
    "print(at1.sym, at2.sym)\n",
    "print(at1.get_position(), at2.get_position())\n",
    "print(at1.get_position(units=\"angstroem\"), at2.get_position(units=\"angstroem\"))"
   ]
  },
  {
   "cell_type": "markdown",
   "metadata": {},
   "source": [
    "Notice how the default position value is given in bohr. Atoms behave like python dictionaries, allowing you to supplement them with any general property."
   ]
  },
  {
   "cell_type": "code",
   "execution_count": 5,
   "metadata": {},
   "outputs": [
    {
     "name": "stdout",
     "output_type": "stream",
     "text": [
      "{'source': 'QM Calculation', 'r': [0.0, 0.0, 1.0], 'sym': 'He'}\n"
     ]
    }
   ],
   "source": [
    "at1[\"source\"] = \"QM Calculation\"\n",
    "print(dict(at1))"
   ]
  },
  {
   "cell_type": "markdown",
   "metadata": {},
   "source": [
    "### Fragments\n",
    "Fragments are built from a list of atoms. "
   ]
  },
  {
   "cell_type": "code",
   "execution_count": 6,
   "metadata": {},
   "outputs": [],
   "source": [
    "from BigDFT import Fragments as F\n",
    "reload(F)\n",
    "frag1 = F.Fragment(atomlist=[at1, at2])"
   ]
  },
  {
   "cell_type": "code",
   "execution_count": 7,
   "metadata": {},
   "outputs": [
    {
     "name": "stdout",
     "output_type": "stream",
     "text": [
      "[ 0.5  0.   0.5]\n",
      "[[ 1.  0.  0.]\n",
      " [ 0.  0.  0.]\n",
      " [ 0.  0.  1.]]\n"
     ]
    }
   ],
   "source": [
    "print(frag1.centroid)\n",
    "print(frag1.ellipsoid())"
   ]
  },
  {
   "cell_type": "markdown",
   "metadata": {},
   "source": [
    "We can also create a fragment from an XYZ file."
   ]
  },
  {
   "cell_type": "code",
   "execution_count": 8,
   "metadata": {},
   "outputs": [],
   "source": [
    "from BigDFT import XYZ as X\n",
    "reload(X)\n",
    "frag2 = F.Fragment(xyzfile=X.XYZReader(\"testfiles/three.xyz\"))"
   ]
  },
  {
   "cell_type": "markdown",
   "metadata": {},
   "source": [
    "Fragments behave as lists. This makes it easy to iterate over them."
   ]
  },
  {
   "cell_type": "code",
   "execution_count": 9,
   "metadata": {},
   "outputs": [
    {
     "name": "stdout",
     "output_type": "stream",
     "text": [
      "('He', [0.0, 0.0, 1.0])\n",
      "('C', [21.333118220214985, 8.556679703057988, 1.780122066032072])\n",
      "('C', [24.02597983744632, 5.975313816902113, 4.382274882866378])\n"
     ]
    }
   ],
   "source": [
    "from copy import deepcopy\n",
    "frag3 = frag1[:1] + frag2[3:5]\n",
    "for at in frag3:\n",
    "    print(at.sym, at.get_position())"
   ]
  },
  {
   "cell_type": "code",
   "execution_count": 10,
   "metadata": {},
   "outputs": [
    {
     "name": "stdout",
     "output_type": "stream",
     "text": [
      "[ -1.75324590e-07  -8.88178420e-16   0.00000000e+00]\n"
     ]
    }
   ],
   "source": [
    "print(frag2.centroid - frag2[:36].centroid)"
   ]
  },
  {
   "cell_type": "markdown",
   "metadata": {},
   "source": [
    "### System\n",
    "At the highest level of the hierarchy are systems. Systems are collections of named fragments, and they behave like dictionaries."
   ]
  },
  {
   "cell_type": "code",
   "execution_count": 11,
   "metadata": {},
   "outputs": [],
   "source": [
    "three = F.System()\n",
    "for i in range(0, len(frag2), 36):\n",
    "    three[\"frag\"+str(i)] = frag2[i:i+36]"
   ]
  },
  {
   "cell_type": "code",
   "execution_count": 12,
   "metadata": {},
   "outputs": [
    {
     "name": "stdout",
     "output_type": "stream",
     "text": [
      "[ 18.80597739   4.82378834  12.43917457]\n",
      "[  6.966843     4.82378834  12.43917457]\n",
      "[ 30.64511125   4.82378834  12.43917457]\n",
      "[ 18.80597721   4.82378834  12.43917457]\n",
      "('frag0', <BigDFT.Fragments.Fragment object at 0x10477aa50>)\n"
     ]
    }
   ],
   "source": [
    "for frag in three.values():\n",
    "    print(frag.centroid)\n",
    "print(three.centroid)\n",
    "print(three.central_fragment)"
   ]
  },
  {
   "cell_type": "markdown",
   "metadata": {},
   "source": [
    "## Basic Manipulation\n",
    "Now we turn to the basic manipulation of BigDFT systems and their constituent parts on space."
   ]
  },
  {
   "cell_type": "code",
   "execution_count": 13,
   "metadata": {},
   "outputs": [
    {
     "name": "stdout",
     "output_type": "stream",
     "text": [
      "188\n",
      "6768\n"
     ]
    }
   ],
   "source": [
    "big = F.System()\n",
    "bigf = F.Fragment(xyzfile=X.XYZReader(\"testfiles/BigCase.xyz\"))\n",
    "for i in range(0, len(bigf), 36):\n",
    "    big[\"frag\"+str(i)] = bigf[i:i+36]\n",
    "print(len(big))\n",
    "print(sum([len(x) for x in big.values()]))"
   ]
  },
  {
   "cell_type": "markdown",
   "metadata": {},
   "source": [
    "Here we will calculate the distance of each fragment from the center."
   ]
  },
  {
   "cell_type": "code",
   "execution_count": 14,
   "metadata": {
    "collapsed": false
   },
   "outputs": [],
   "source": [
    "cxyz=big.centroid"
   ]
  },
  {
   "cell_type": "code",
   "execution_count": 15,
   "metadata": {
    "collapsed": false
   },
   "outputs": [],
   "source": [
    "import numpy as np\n",
    "dist=[]\n",
    "for frag in big.values():\n",
    "    v=frag.centroid-cxyz\n",
    "    dist.append(np.linalg.norm(v))"
   ]
  },
  {
   "cell_type": "code",
   "execution_count": 16,
   "metadata": {
    "collapsed": false
   },
   "outputs": [
    {
     "data": {
      "text/plain": [
       "8.9988646833359027"
      ]
     },
     "execution_count": 16,
     "metadata": {},
     "output_type": "execute_result"
    }
   ],
   "source": [
    "min(dist)"
   ]
  },
  {
   "cell_type": "code",
   "execution_count": 17,
   "metadata": {
    "collapsed": false
   },
   "outputs": [],
   "source": [
    "reload(F)\n",
    "DPP=[]\n",
    "for f in big.values():\n",
    "    DPP.append(np.array([F.distance(f,g) for g in big.values()]))"
   ]
  },
  {
   "cell_type": "code",
   "execution_count": 18,
   "metadata": {
    "collapsed": false
   },
   "outputs": [],
   "source": [
    "thr=18.0\n",
    "NN=[]\n",
    "for i,f in enumerate(big.values()):\n",
    "    inn=0\n",
    "    for g in DPP[i]:\n",
    "        if g< thr and g !=0.0: inn+=1\n",
    "    NN.append(inn)\n",
    "import matplotlib.pyplot as plt"
   ]
  },
  {
   "cell_type": "code",
   "execution_count": 19,
   "metadata": {
    "collapsed": false
   },
   "outputs": [
    {
     "data": {
      "image/png": "[encoded data removed]",
      "text/plain": [
       "<matplotlib.figure.Figure at 0x104792910>"
      ]
     },
     "metadata": {
      "needs_background": "light"
     },
     "output_type": "display_data"
    }
   ],
   "source": [
    "plotNN=plt.plot(dist,NN,'o')"
   ]
  },
  {
   "cell_type": "code",
   "execution_count": 20,
   "metadata": {
    "collapsed": false
   },
   "outputs": [],
   "source": [
    "%matplotlib inline\n",
    "plt.show()"
   ]
  },
  {
   "cell_type": "code",
   "execution_count": 21,
   "metadata": {
    "collapsed": false
   },
   "outputs": [
    {
     "name": "stdout",
     "output_type": "stream",
     "text": [
      "found 1 9.86628899674\n",
      "found 58 8.99898061781\n",
      "found 61 8.99886468334\n",
      "found 74 9.86611134669\n",
      "found 96 17.9979682757\n",
      "found 103 17.9978894068\n",
      "found 104 14.7135327486\n",
      "found 180 14.7133120069\n"
     ]
    }
   ],
   "source": [
    "holef=[]\n",
    "for i,n in enumerate(NN):\n",
    "    if n==8 and dist[i] < 30: \n",
    "        print 'found',i,dist[i]\n",
    "        holef.append(i)"
   ]
  },
  {
   "cell_type": "code",
   "execution_count": 22,
   "metadata": {
    "collapsed": false
   },
   "outputs": [
    {
     "name": "stdout",
     "output_type": "stream",
     "text": [
      "[  3.95779152e-05   3.96290001e-05  -3.14265335e-05]\n"
     ]
    }
   ],
   "source": [
    "from numpy import zeros\n",
    "oxyz=zeros(3)\n",
    "for h in holef:\n",
    "    oxyz+= big.values()[h].centroid\n",
    "print oxyz/len(holef)-big.centroid"
   ]
  },
  {
   "cell_type": "code",
   "execution_count": 23,
   "metadata": {
    "collapsed": false
   },
   "outputs": [],
   "source": [
    "frg3=three.values()[0]"
   ]
  },
  {
   "cell_type": "code",
   "execution_count": 24,
   "metadata": {
    "collapsed": false
   },
   "outputs": [],
   "source": [
    "c3=frg3.centroid\n",
    "cb=oxyz/len(holef)\n",
    "shift=np.mat(cb-c3).T"
   ]
  },
  {
   "cell_type": "code",
   "execution_count": 25,
   "metadata": {
    "collapsed": false
   },
   "outputs": [
    {
     "ename": "ValueError",
     "evalue": "shapes (3,1) and (3,) not aligned: 1 (dim 1) != 3 (dim 0)",
     "output_type": "error",
     "traceback": [
      "\u001b[0;31m---------------------------------------------------------------------------\u001b[0m",
      "\u001b[0;31mValueError\u001b[0m                                Traceback (most recent call last)",
      "\u001b[0;32m<ipython-input-25-06ab08bd6de1>\u001b[0m in \u001b[0;36m<module>\u001b[0;34m()\u001b[0m\n\u001b[0;32m----> 1\u001b[0;31m \u001b[0mfrg3\u001b[0m\u001b[0;34m.\u001b[0m\u001b[0mtransform\u001b[0m\u001b[0;34m(\u001b[0m\u001b[0mRt\u001b[0m\u001b[0;34m=\u001b[0m\u001b[0mshift\u001b[0m\u001b[0;34m)\u001b[0m \u001b[0;31m# this one still doesn't work\u001b[0m\u001b[0;34m\u001b[0m\u001b[0m\n\u001b[0m",
      "\u001b[0;32m/Users/dawson/Documents/CEACollaboration/SourceCode/ClassDesign/Build/install/lib/python2.7/site-packages/BigDFT/Fragments.pyc\u001b[0m in \u001b[0;36mtransform\u001b[0;34m(self, Rt)\u001b[0m\n\u001b[1;32m    302\u001b[0m         \u001b[0;32mfrom\u001b[0m \u001b[0mnumpy\u001b[0m \u001b[0;32mimport\u001b[0m \u001b[0mouter\u001b[0m\u001b[0;34m,\u001b[0m \u001b[0marray\u001b[0m\u001b[0;34m\u001b[0m\u001b[0m\n\u001b[1;32m    303\u001b[0m         \u001b[0;32mfor\u001b[0m \u001b[0mat\u001b[0m \u001b[0;32min\u001b[0m \u001b[0mself\u001b[0m\u001b[0;34m:\u001b[0m\u001b[0;34m\u001b[0m\u001b[0m\n\u001b[0;32m--> 304\u001b[0;31m             \u001b[0mat\u001b[0m\u001b[0;34m.\u001b[0m\u001b[0mset_position\u001b[0m\u001b[0;34m(\u001b[0m\u001b[0mRt\u001b[0m\u001b[0;34m.\u001b[0m\u001b[0mdot\u001b[0m\u001b[0;34m(\u001b[0m\u001b[0marray\u001b[0m\u001b[0;34m(\u001b[0m\u001b[0mat\u001b[0m\u001b[0;34m.\u001b[0m\u001b[0mget_position\u001b[0m\u001b[0;34m(\u001b[0m\u001b[0;34m)\u001b[0m\u001b[0;34m)\u001b[0m\u001b[0;34m.\u001b[0m\u001b[0mT\u001b[0m\u001b[0;34m)\u001b[0m\u001b[0;34m)\u001b[0m\u001b[0;34m\u001b[0m\u001b[0m\n\u001b[0m\u001b[1;32m    305\u001b[0m         \u001b[0;31m#import wahba as w,numpy as np\u001b[0m\u001b[0;34m\u001b[0m\u001b[0;34m\u001b[0m\u001b[0m\n\u001b[1;32m    306\u001b[0m         \u001b[0;31m# if t is None:\u001b[0m\u001b[0;34m\u001b[0m\u001b[0;34m\u001b[0m\u001b[0m\n",
      "\u001b[0;31mValueError\u001b[0m: shapes (3,1) and (3,) not aligned: 1 (dim 1) != 3 (dim 0)"
     ]
    }
   ],
   "source": [
    "frg3.transform(Rt=shift) # this one still doesn't work"
   ]
  },
  {
   "cell_type": "markdown",
   "metadata": {},
   "source": [
    "## System Calculations\n",
    "Finally, we show how to use the systems we have generated in actual calculations. First we setup the input file."
   ]
  },
  {
   "cell_type": "code",
   "execution_count": 26,
   "metadata": {},
   "outputs": [
    {
     "name": "stdout",
     "output_type": "stream",
     "text": [
      "Initialize a Calculator with OMP_NUM_THREADS=2 and command mpirun /Users/dawson/Documents/CEACollaboration/SourceCode/ClassDesign/Build/install/bin/bigdft\n"
     ]
    }
   ],
   "source": [
    "from BigDFT import Calculators as C\n",
    "code = C.SystemCalculator(omp=2, mpi_run=\"mpirun\")\n",
    "code.update_global_options(skip=True)"
   ]
  },
  {
   "cell_type": "code",
   "execution_count": 27,
   "metadata": {},
   "outputs": [],
   "source": [
    "from BigDFT import Inputfiles as I\n",
    "inp = I.Inputfile()\n",
    "inp.set_xc(\"PBE\")\n",
    "inp.set_hgrid(0.4)"
   ]
  },
  {
   "cell_type": "markdown",
   "metadata": {},
   "source": [
    "Build a system."
   ]
  },
  {
   "cell_type": "code",
   "execution_count": 29,
   "metadata": {},
   "outputs": [],
   "source": [
    "f1 = F.Fragment(xyzfile=X.XYZReader(\"testfiles/three.xyz\"))[0:36]\n",
    "sys = F.System(frag1=f1)"
   ]
  },
  {
   "cell_type": "markdown",
   "metadata": {},
   "source": [
    "Now for the geometry."
   ]
  },
  {
   "cell_type": "code",
   "execution_count": 30,
   "metadata": {},
   "outputs": [],
   "source": [
    "inp[\"posinp\"] = {\"units\":\"angstroem\"}\n",
    "inp[\"posinp\"][\"positions\"] = sys.get_posinp(\"angstroem\")"
   ]
  },
  {
   "cell_type": "code",
   "execution_count": 31,
   "metadata": {},
   "outputs": [
    {
     "name": "stdout",
     "output_type": "stream",
     "text": [
      "Creating the yaml input file \"./three.yaml\"\n",
      "Executing command:  mpirun /Users/dawson/Documents/CEACollaboration/SourceCode/ClassDesign/Build/install/bin/bigdft -n three -s Yes\n"
     ]
    }
   ],
   "source": [
    "log = code.run(name=\"test\", input=inp)"
   ]
  },
  {
   "cell_type": "code",
   "execution_count": null,
   "metadata": {},
   "outputs": [],
   "source": []
  }
 ],
 "metadata": {
  "kernelspec": {
   "display_name": "Python 2",
   "language": "python",
   "name": "python2"
  },
  "language_info": {
   "codemirror_mode": {
    "name": "ipython",
    "version": 2
   },
   "file_extension": ".py",
   "mimetype": "text/x-python",
   "name": "python",
   "nbconvert_exporter": "python",
   "pygments_lexer": "ipython2",
   "version": "2.7.15"
  }
 },
 "nbformat": 4,
 "nbformat_minor": 2
}
