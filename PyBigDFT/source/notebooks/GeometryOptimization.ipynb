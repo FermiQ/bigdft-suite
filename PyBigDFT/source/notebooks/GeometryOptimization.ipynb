{
 "cells": [
  {
   "cell_type": "markdown",
   "metadata": {},
   "source": [
    "# Geometry Optimization\n",
    "In this notebook we will show how to optimize the geometry of a molecule using BigDFT.\n",
    "\n",
    "Author note: this is related to some mini-protein calculations I want to do..."
   ]
  },
  {
   "cell_type": "markdown",
   "metadata": {},
   "source": [
    "## System Setup\n",
    "We will do an example of OH-. First we define the input positions."
   ]
  },
  {
   "cell_type": "code",
   "execution_count": 15,
   "metadata": {},
   "outputs": [],
   "source": [
    "from futile import YamlIO as Y\n",
    "\n",
    "positions =\"\"\"\n",
    "- O: [-0.931477999671, 0.004547999723, -0.117331000086]\n",
    "- H: [-1.355753693973, -0.032108553467, 0.725181911626]\n",
    "\"\"\"\n",
    "posinp = {\"positions\": Y.load(stream=positions, doc_lists=False),\n",
    "          \"units\":\"angstroem\"}"
   ]
  },
  {
   "cell_type": "markdown",
   "metadata": {},
   "source": [
    "We might also like to check the length of the bond as we do the optimization."
   ]
  },
  {
   "cell_type": "code",
   "execution_count": 16,
   "metadata": {},
   "outputs": [],
   "source": [
    "def oh_length(posinp):\n",
    "    from numpy import array\n",
    "    from numpy.linalg import norm\n",
    "    \n",
    "    pos1 = posinp[\"positions\"][0]\n",
    "    pos1 = array([float(x) for x in pos1.items()[0][1]])\n",
    "    pos2 = posinp[\"positions\"][1]\n",
    "    pos2 = array([float(x) for x in pos2.items()[0][1]])\n",
    "    \n",
    "    return norm(pos2 - pos1)"
   ]
  },
  {
   "cell_type": "code",
   "execution_count": 17,
   "metadata": {},
   "outputs": [
    {
     "name": "stdout",
     "output_type": "stream",
     "text": [
      "0.944024138499\n"
     ]
    }
   ],
   "source": [
    "print(oh_length(posinp))"
   ]
  },
  {
   "cell_type": "markdown",
   "metadata": {},
   "source": [
    "## Calculation Conditions\n",
    "Now we will setup the input file for geometry optimization."
   ]
  },
  {
   "cell_type": "code",
   "execution_count": 18,
   "metadata": {},
   "outputs": [],
   "source": [
    "from BigDFT import Inputfiles as I\n",
    "inp = I.Inputfile()\n",
    "inp.set_xc(\"PBE\")\n",
    "inp.set_hgrid(0.4)\n",
    "inp.write_orbitals_on_disk()"
   ]
  },
  {
   "cell_type": "markdown",
   "metadata": {},
   "source": [
    "We will give this run a background charge to balance out the negative ion."
   ]
  },
  {
   "cell_type": "code",
   "execution_count": 19,
   "metadata": {},
   "outputs": [],
   "source": [
    "inp[\"dft\"][\"qcharge\"] = -1.0"
   ]
  },
  {
   "cell_type": "markdown",
   "metadata": {},
   "source": [
    "Finally, the parameters for optimizing the geometry."
   ]
  },
  {
   "cell_type": "code",
   "execution_count": 20,
   "metadata": {},
   "outputs": [],
   "source": [
    "inp[\"geopt\"] = {}\n",
    "inp[\"geopt\"][\"method\"] = \"FIRE\""
   ]
  },
  {
   "cell_type": "markdown",
   "metadata": {},
   "source": [
    "And a calculator to run the calculation."
   ]
  },
  {
   "cell_type": "code",
   "execution_count": 21,
   "metadata": {},
   "outputs": [
    {
     "name": "stdout",
     "output_type": "stream",
     "text": [
      "Initialize a Calculator with OMP_NUM_THREADS=2 and command mpirun /Users/dawson/Documents/CEACollaboration/SourceCode/PurifySteps/BuildFast/install/bin/bigdft\n"
     ]
    }
   ],
   "source": [
    "from BigDFT import Calculators as C\n",
    "code = C.SystemCalculator(omp=2, mpi_run=\"mpirun\")"
   ]
  },
  {
   "cell_type": "markdown",
   "metadata": {},
   "source": [
    "## Actual Run and Convergence\n",
    "Now we will do the actual run and check the convergence."
   ]
  },
  {
   "cell_type": "code",
   "execution_count": 22,
   "metadata": {},
   "outputs": [
    {
     "name": "stdout",
     "output_type": "stream",
     "text": [
      "Creating the yaml input file \"geom/opt.yaml\"\n",
      "Run directory geom\n",
      "Executing command:  mpirun /Users/dawson/Documents/CEACollaboration/SourceCode/PurifySteps/BuildFast/install/bin/bigdft -n opt -s Yes\n",
      "('Found', 9, 'different runs')\n"
     ]
    }
   ],
   "source": [
    "result = code.run(name=\"opt\", input=inp, posinp=posinp, run_dir=\"geom\")"
   ]
  },
  {
   "cell_type": "code",
   "execution_count": 25,
   "metadata": {},
   "outputs": [
    {
     "data": {
      "text/plain": [
       "<matplotlib.figure.Figure at 0x104812890>"
      ]
     },
     "metadata": {},
     "output_type": "display_data"
    }
   ],
   "source": [
    "try:\n",
    "    result.geopt_plot()\n",
    "except:\n",
    "    print(\"No image support\")"
   ]
  },
  {
   "cell_type": "markdown",
   "metadata": {},
   "source": [
    "We can check the new bond length."
   ]
  },
  {
   "cell_type": "code",
   "execution_count": 35,
   "metadata": {},
   "outputs": [
    {
     "name": "stdout",
     "output_type": "stream",
     "text": [
      "0.978764297245\n"
     ]
    }
   ],
   "source": [
    "opt_length = oh_length(result.log[\"Atomic structure\"])\n",
    "print(opt_length)"
   ]
  },
  {
   "cell_type": "markdown",
   "metadata": {},
   "source": [
    "## Target System\n",
    "Now we will try to investigate a more interesting system with these parameters. Our goal will be to compare a few different systems and see which has the lowest energy. "
   ]
  },
  {
   "cell_type": "markdown",
   "metadata": {},
   "source": [
    "Now let's read in the target system."
   ]
  },
  {
   "cell_type": "code",
   "execution_count": 36,
   "metadata": {},
   "outputs": [],
   "source": [
    "from numpy import zeros\n",
    "positions = []\n",
    "cmat = None\n",
    "with open(\"afb.pdb\") as ifile:\n",
    "    for line in ifile:\n",
    "        split = line.split()\n",
    "        if split[0] == \"HETATM\":\n",
    "            element = split[2][0]\n",
    "            pos = split[5:8]\n",
    "            positions.append({element:pos})\n",
    "        elif split[0] == \"CONECT\":\n",
    "            if cmat is None:\n",
    "                cmat = zeros((len(positions),len(positions)))\n",
    "            i = int(split[1]) - 1\n",
    "            for j in [int(x)-1 for x in split[2:]]:\n",
    "                cmat[i,j] = 1"
   ]
  },
  {
   "cell_type": "markdown",
   "metadata": {},
   "source": [
    "We want to add a radical to each of the double bonds. So first we need to get a list of all atom pairs that are linked by a double bond."
   ]
  },
  {
   "cell_type": "code",
   "execution_count": 37,
   "metadata": {},
   "outputs": [],
   "source": [
    "bond_pairs = []\n",
    "for i, atom_i in enumerate(positions):\n",
    "    if atom_i.keys()[0] != \"C\":\n",
    "        continue\n",
    "    if sum(cmat[i,:]) == 4.0:\n",
    "        continue\n",
    "    for j, atom_j in enumerate(positions):\n",
    "        if cmat[i,j] == 0:\n",
    "            continue\n",
    "        if atom_j.keys()[0] != \"C\":\n",
    "            continue\n",
    "        if sum(cmat[:,j]) == 4.0:\n",
    "            continue\n",
    "        if (j,i) not in bond_pairs:\n",
    "            bond_pairs.append((i,j))"
   ]
  },
  {
   "cell_type": "markdown",
   "metadata": {},
   "source": [
    "Finally, we need a reasonable method of putting a radical near the double bond. We can draw a line from the center of mass of the molecule to the bond, and project out a little ways."
   ]
  },
  {
   "cell_type": "code",
   "execution_count": 38,
   "metadata": {},
   "outputs": [],
   "source": [
    "from numpy import array\n",
    "com = array([0.0, 0.0, 0.0])\n",
    "for atom in positions:\n",
    "    el, r = atom.items()[0]\n",
    "    r = array([float(x) for x in r])\n",
    "    com += r\n",
    "com /= len(positions)"
   ]
  },
  {
   "cell_type": "code",
   "execution_count": 39,
   "metadata": {},
   "outputs": [],
   "source": [
    "from numpy.linalg import norm\n",
    "radical_positions = []\n",
    "for pair in bond_pairs:\n",
    "    pos1 = array([float(x) for x in positions[pair[0]].items()[0][1]])\n",
    "    pos2 = array([float(x) for x in positions[pair[0]].items()[0][1]])\n",
    "    bond_center = 0.5*(pos1 + pos2)\n",
    "    draw_line = (bond_center - com)\n",
    "    pos3 = draw_line + (draw_line/norm(draw_line)) * 1.0 + com\n",
    "    \n",
    "    radical_positions.append({\"H\":[str(x) for x in pos3]})"
   ]
  },
  {
   "cell_type": "markdown",
   "metadata": {},
   "source": [
    "Now we merge these together into a list of positions we would like to compute."
   ]
  },
  {
   "cell_type": "code",
   "execution_count": 41,
   "metadata": {},
   "outputs": [],
   "source": [
    "new_systems = {}\n",
    "new_systems[\"Original\"] = positions\n",
    "for pair, rpos in zip(bond_pairs,radical_positions):\n",
    "    new_systems[str(pair[0])+\"-\"+str(pair[1])] = positions + [rpos]"
   ]
  },
  {
   "cell_type": "markdown",
   "metadata": {},
   "source": [
    "And run"
   ]
  },
  {
   "cell_type": "code",
   "execution_count": 42,
   "metadata": {},
   "outputs": [],
   "source": [
    "def compute_systems(geomdict, inp, code):\n",
    "    energy_values = {}\n",
    "    for label, geom in geomdict.items():\n",
    "        if len(geom) == 35:\n",
    "            inp[\"dft\"][\"qcharge\"] = 0.0\n",
    "        else:\n",
    "            inp[\"dft\"][\"qcharge\"] = -1.0\n",
    "        posinp = {\"positions\":geom, \"units\":\"angstroem\"}\n",
    "        result = code.run(name=label, input=inp, posinp=posinp, \n",
    "                          skip=False, run_dir=\"geom-target\")\n",
    "        energy_values[label] =  result.log[\"Energy (Hartree)\"]\n",
    "    return energy_values"
   ]
  },
  {
   "cell_type": "code",
   "execution_count": 17,
   "metadata": {},
   "outputs": [],
   "source": [
    "energy_vals = compute_systems(new_systems, inp, code)"
   ]
  },
  {
   "cell_type": "code",
   "execution_count": null,
   "metadata": {},
   "outputs": [],
   "source": []
  }
 ],
 "metadata": {
  "kernelspec": {
   "display_name": "Python 3",
   "language": "python",
   "name": "python3"
  },
  "language_info": {
   "codemirror_mode": {
    "name": "ipython",
    "version": 2
   },
   "file_extension": ".py",
   "mimetype": "text/x-python",
   "name": "python",
   "nbconvert_exporter": "python",
   "pygments_lexer": "ipython2",
   "version": "2.7.15"
  }
 },
 "nbformat": 4,
 "nbformat_minor": 2
}
