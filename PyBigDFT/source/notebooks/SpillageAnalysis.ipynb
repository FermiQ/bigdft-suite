{
 "cells": [
  {
   "cell_type": "markdown",
   "metadata": {},
   "source": [
    "# BigDFT Fragmentation "
   ]
  },
  {
   "cell_type": "markdown",
   "metadata": {},
   "source": [
    "In this notebook we will go through the steps needed for computing the purity indicator and spillage values. First, we define the calculator we will use."
   ]
  },
  {
   "cell_type": "code",
   "execution_count": 404,
   "metadata": {},
   "outputs": [
    {
     "data": {
      "text/plain": [
       "<module 'BigDFT.Logfiles' from '/Users/dawson/Documents/CEACollaboration/SourceCode/ClassDesign/Build/install/lib/python2.7/site-packages/BigDFT/Logfiles.pyc'>"
      ]
     },
     "execution_count": 404,
     "metadata": {},
     "output_type": "execute_result"
    }
   ],
   "source": [
    "from BigDFT import Calculators as C\n",
    "from BigDFT import PostProcessing as PP\n",
    "from BigDFT import Fragments as F\n",
    "from BigDFT import Atom as A\n",
    "from BigDFT import Logfiles as L\n",
    "reload(C)\n",
    "reload(PP)\n",
    "reload(F)\n",
    "reload(A)\n",
    "reload(L)"
   ]
  },
  {
   "cell_type": "code",
   "execution_count": 405,
   "metadata": {},
   "outputs": [
    {
     "name": "stdout",
     "output_type": "stream",
     "text": [
      "Initialize a Calculator with OMP_NUM_THREADS=2 and command mpirun /Users/dawson/Documents/CEACollaboration/SourceCode/ClassDesign/Build/install/bin/bigdft\n"
     ]
    }
   ],
   "source": [
    "code = C.SystemCalculator(omp=2, mpi_run=\"mpirun\")"
   ]
  },
  {
   "cell_type": "code",
   "execution_count": 406,
   "metadata": {},
   "outputs": [],
   "source": [
    "code.update_global_options(skip=True)"
   ]
  },
  {
   "cell_type": "markdown",
   "metadata": {},
   "source": [
    "We will store the results and inputs in a dictionary for naming ease."
   ]
  },
  {
   "cell_type": "code",
   "execution_count": 407,
   "metadata": {},
   "outputs": [],
   "source": [
    "rundir = \"spillage_dir\""
   ]
  },
  {
   "cell_type": "markdown",
   "metadata": {},
   "source": [
    "## Setup Calculation"
   ]
  },
  {
   "cell_type": "markdown",
   "metadata": {},
   "source": [
    "First we define the system, which will be three water molecules. Two are close together, and one is far away.."
   ]
  },
  {
   "cell_type": "code",
   "execution_count": 408,
   "metadata": {},
   "outputs": [],
   "source": [
    "from BigDFT import Fragments as F\n",
    "reload(F)\n",
    "fullsys = F.System()\n",
    "fullsys[\"FULL\"] = F.Fragment()\n",
    "fullsys[\"FULL\"].append({\"O\":[-0.931477999671, 0.004547999723, -0.117331000086], \"units\":\"angstroem\"})\n",
    "fullsys[\"FULL\"].append({\"H\":[-1.355753693973, -0.032108553467, 0.725181911626], \"units\":\"angstroem\"})\n",
    "fullsys[\"FULL\"].append({\"H\":[-0.003078395366, 0.011003111969, 0.053703839371], \"units\":\"angstroem\"})\n",
    "fullsys[\"FULL\"].append({\"O\":[1.500000000000, -0.003706000000, 0.113495000000], \"units\":\"angstroem\"})\n",
    "fullsys[\"FULL\"].append({\"H\":[1.796831000000, 0.762122000000, -0.351887000000], \"units\":\"angstroem\"})\n",
    "fullsys[\"FULL\"].append({\"H\":[1.773536000000, -0.747744000000, -0.399151000000], \"units\":\"angstroem\"})\n",
    "fullsys[\"FULL\"].append({\"O\":[10.500000000000, -0.003706000000, 0.113495000000], \"units\":\"angstroem\"})\n",
    "fullsys[\"FULL\"].append({\"H\":[10.796831000000, 0.762122000000, -0.351887000000], \"units\":\"angstroem\"})\n",
    "fullsys[\"FULL\"].append({\"H\":[10.773536000000, -0.747744000000, -0.399151000000], \"units\":\"angstroem\"})"
   ]
  },
  {
   "cell_type": "markdown",
   "metadata": {},
   "source": [
    "We will next define an input file for doing a calculation."
   ]
  },
  {
   "cell_type": "code",
   "execution_count": 409,
   "metadata": {},
   "outputs": [],
   "source": [
    "from BigDFT import Inputfiles as I"
   ]
  },
  {
   "cell_type": "code",
   "execution_count": 410,
   "metadata": {},
   "outputs": [],
   "source": [
    "inp = I.Inputfile()\n",
    "inp.set_xc(\"PBE\")\n",
    "inp.set_hgrid(0.4)\n",
    "inp.write_orbitals_on_disk()\n",
    "inp.calculate_dipole()\n",
    "inp[\"import\"] = \"linear\"\n",
    "inp[\"posinp\"] = {\"units\":\"angstroem\", \"positions\":fullsys.get_posinp(\"angstroem\")}"
   ]
  },
  {
   "cell_type": "code",
   "execution_count": 411,
   "metadata": {},
   "outputs": [
    {
     "name": "stdout",
     "output_type": "stream",
     "text": [
      "Creating the yaml input file \"spillage_dir/full.yaml\"\n",
      "Run directory spillage_dir\n",
      "Executing command:  mpirun /Users/dawson/Documents/CEACollaboration/SourceCode/ClassDesign/Build/install/bin/bigdft -n full -s Yes\n"
     ]
    }
   ],
   "source": [
    "log = code.run(name=\"full\", input=inp, run_dir=rundir)"
   ]
  },
  {
   "cell_type": "markdown",
   "metadata": {},
   "source": [
    "## Fragmentation Study\n",
    "In our initial calculation, we setup a system as just one large fragment. Now we will look at dividing a system into smaller parts and use the multipole information to guide this approach. First, let's consider breaking the system into individual atoms."
   ]
  },
  {
   "cell_type": "code",
   "execution_count": 412,
   "metadata": {},
   "outputs": [],
   "source": [
    "btool = PP.BigDFTool()"
   ]
  },
  {
   "cell_type": "code",
   "execution_count": 413,
   "metadata": {},
   "outputs": [],
   "source": [
    "atsys = F.System()\n",
    "atoms = [\"O1\", \"H11\", \"H12\", \"O2\", \"H21\", \"H22\", \"O3\", \"H31\", \"H32\"]\n",
    "for label, atom in zip(atoms, fullsys[\"FULL\"]):\n",
    "    atsys[label] = F.Fragment([atom])"
   ]
  },
  {
   "cell_type": "code",
   "execution_count": 414,
   "metadata": {},
   "outputs": [],
   "source": [
    "btool.set_fragment_multipoles(atsys, log)"
   ]
  },
  {
   "cell_type": "code",
   "execution_count": 415,
   "metadata": {},
   "outputs": [
    {
     "data": {
      "image/png": "[encoded data removed]",
      "text/plain": [
       "<matplotlib.figure.Figure at 0x110d637d0>"
      ]
     },
     "metadata": {
      "needs_background": "light"
     },
     "output_type": "display_data"
    }
   ],
   "source": [
    "from matplotlib import pyplot as plt\n",
    "fig, axs = plt.subplots(1,1)\n",
    "atsys.plot_purity(axs)"
   ]
  },
  {
   "cell_type": "markdown",
   "metadata": {},
   "source": [
    "Clearly the choice of atoms as a partitioning of the system is inadequate. Instead, we can refragment based on actual water molecules."
   ]
  },
  {
   "cell_type": "code",
   "execution_count": 416,
   "metadata": {},
   "outputs": [],
   "source": [
    "molsys = F.System()\n",
    "molsys[\"WAT1\"] = fullsys[\"FULL\"][0:3]\n",
    "molsys[\"WAT2\"] = fullsys[\"FULL\"][3:7]\n",
    "molsys[\"WAT3\"] = fullsys[\"FULL\"][7:10]\n",
    "btool.set_fragment_multipoles(molsys, log)"
   ]
  },
  {
   "cell_type": "code",
   "execution_count": 417,
   "metadata": {},
   "outputs": [
    {
     "data": {
      "image/png": "[encoded data removed]",
      "text/plain": [
       "<matplotlib.figure.Figure at 0x110fc96d0>"
      ]
     },
     "metadata": {
      "needs_background": "light"
     },
     "output_type": "display_data"
    }
   ],
   "source": [
    "from matplotlib import pyplot as plt\n",
    "fig, axs = plt.subplots(1,1)\n",
    "molsys.plot_purity(axs)"
   ]
  },
  {
   "cell_type": "markdown",
   "metadata": {},
   "source": [
    "Indeed we see that the water molecules themselves are much purer than the individual atoms, making them much more suitable fragments of a system. "
   ]
  },
  {
   "cell_type": "markdown",
   "metadata": {},
   "source": [
    "## QM/MM Setup\n",
    "Now let's assume that we want to do a a QM/MM calculation that accurately computes the values associated with the first water molecule. First, let's do a calculation where we only treat the first water molecule in a QM way. First we partition, and then use that to build a new input file."
   ]
  },
  {
   "cell_type": "code",
   "execution_count": 422,
   "metadata": {},
   "outputs": [],
   "source": [
    "def setup_qmmm(startsys, startinp, targetid):\n",
    "    from copy import deepcopy\n",
    "    env = deepcopy(startsys)\n",
    "    QM=F.System({\"Target\":env.pop(targetid)})\n",
    "    \n",
    "    inp = deepcopy(startinp)\n",
    "    inp[\"posinp\"] = {\"units\":\"angstroem\", \"positions\": QM.get_posinp(\"angstroem\")}\n",
    "\n",
    "    inp[\"dft\"][\"external_potential\"] = env.external_potential\n",
    "    inp[\"dft\"][\"qcharge\"] = QM.qcharge\n",
    "    \n",
    "    for i, val in enumerate(inp[\"dft\"][\"external_potential\"][\"values\"]):\n",
    "        if val['sym'] == 'O':\n",
    "            val['q0'][0] += 6.0\n",
    "        elif val['sym'] == \"H\":\n",
    "            val['q0'][0] += 1.0\n",
    "    \n",
    "    return inp, QM"
   ]
  },
  {
   "cell_type": "code",
   "execution_count": 423,
   "metadata": {},
   "outputs": [],
   "source": [
    "molsys.set_atom_multipoles(log)"
   ]
  },
  {
   "cell_type": "code",
   "execution_count": 424,
   "metadata": {},
   "outputs": [],
   "source": [
    "qmmminp, qmmmsys = setup_qmmm(molsys, inp, \"WAT1\")"
   ]
  },
  {
   "cell_type": "code",
   "execution_count": 425,
   "metadata": {},
   "outputs": [
    {
     "name": "stdout",
     "output_type": "stream",
     "text": [
      "Creating the yaml input file \"spillage_dir/qmmm.yaml\"\n",
      "Run directory spillage_dir\n",
      "Executing command:  mpirun /Users/dawson/Documents/CEACollaboration/SourceCode/ClassDesign/Build/install/bin/bigdft -n qmmm -s Yes\n"
     ]
    }
   ],
   "source": [
    "qmmmlog = code.run(name=\"qmmm\", input=qmmminp, run_dir=rundir)"
   ]
  },
  {
   "cell_type": "markdown",
   "metadata": {},
   "source": [
    "We can compare the results by looking at the multipoles."
   ]
  },
  {
   "cell_type": "code",
   "execution_count": null,
   "metadata": {},
   "outputs": [],
   "source": [
    "qmmm.system = F.System(mp_dict=qmmm.log.electrostatic_multipoles,  nat_reference=3)\n",
    "btool.set_fragment_multipoles(qmmm.system, qmmm.log)"
   ]
  },
  {
   "cell_type": "code",
   "execution_count": null,
   "metadata": {},
   "outputs": [],
   "source": [
    "def plot_error(refsys, sysdict):\n",
    "    from matplotlib import pyplot as plt\n",
    "    from matplotlib.ticker import MaxNLocator\n",
    "    from numpy import array, dot\n",
    "    from numpy.linalg import norm\n",
    "    from math import acos, pi\n",
    "    \n",
    "    mplabel = [\"$q_{0}$\", \"$q_{1,-1}$\", \"$q_{1,0}$\", \"$q_{1,1}$\",\n",
    "              \"$q_{2,-2}$\", \"$q_{2,-1}$\", \"$q_{2,0}$\", \"$q_{2,1}$\", \"$q_{2,2}$\"]\n",
    "    mplabel2 = [\"$q_0$\", \"$q_1$\", \"$q_2$\"]\n",
    "    \n",
    "    fig, axs = plt.subplots(1, 3, figsize=(14,3))\n",
    "    axs[0].set_ylabel(\"Multipole Error (AU)\",fontsize=12)\n",
    "    axs[2].set_ylabel(\"Multipole Error (Degrees)\",fontsize=12)\n",
    "    \n",
    "    axs[0].set_xticks(range(0,9))\n",
    "    axs[0].set_xticklabels(mplabel)\n",
    "    axs[1].set_xticks(range(0,3))\n",
    "    axs[1].set_xticklabels(mplabel2)\n",
    "    axs[2].set_xticks(range(0,2))\n",
    "    axs[2].set_xticklabels(mplabel2[1:])\n",
    "    \n",
    "    axs[0].set_title(\"Absolute Deviation of Components\")\n",
    "    axs[1].set_title(\"Error in Norm\")\n",
    "    axs[2].set_title(\"Error in Angle\")\n",
    "        \n",
    "    for name, sys2 in sysdict.items():\n",
    "        errors = []\n",
    "        norm_errors = []\n",
    "        angle_errors = []\n",
    "        for i in range(0, 3):\n",
    "            refval = (array(refsys.fragments[0].Q(order=i)))\n",
    "            sysval = (array(sys2.fragments[0].Q(order=i)))\n",
    "            try:\n",
    "                errval = [abs(x - y) for x, y in zip(refval, sysval)]\n",
    "            except:\n",
    "                errval = [abs(refval - sysval)]\n",
    "            errors.extend(errval)\n",
    "            norm_errors.append(norm(refval - sysval))\n",
    "            if i > 0:\n",
    "                try:\n",
    "                    angle_errors.append(acos(dot(refval,sysval)/(norm(refval)*norm(sysval)))*180/pi)\n",
    "                except:\n",
    "                    angle_errors.append(0)\n",
    "        axs[0].plot(errors, 'x--',label=name)\n",
    "        axs[1].plot(norm_errors, 'x--',label=name)\n",
    "        axs[2].plot(angle_errors, 'x--',label=name)\n",
    "    axs[0].legend()\n",
    "    plt.tight_layout()"
   ]
  },
  {
   "cell_type": "code",
   "execution_count": null,
   "metadata": {},
   "outputs": [],
   "source": [
    "plot_error(full.system, {\"QMMM\":qmmm.system})"
   ]
  },
  {
   "cell_type": "markdown",
   "metadata": {},
   "source": [
    "## Background Proof of Concept\n",
    "We suspect that we can compute more accurate multipole values by including the second water in the QM region explicitly. Let's demonstrate this before thinking about buffer generation."
   ]
  },
  {
   "cell_type": "code",
   "execution_count": null,
   "metadata": {},
   "outputs": [],
   "source": [
    "from copy import deepcopy\n",
    "temp = deepcopy(full)\n",
    "temp.system = F.System(mp_dict=temp.log.electrostatic_multipoles, frag_partition=[6, 9])\n",
    "qmmm2 = setup_qmmm(temp, 0)\n",
    "qmmm2.log = code.run(name=\"qmmm2\", input=qmmm2.inp, run_dir=rundir)\n",
    "qmmm2.system = F.System(mp_dict=qmmm2.log.electrostatic_multipoles,  nat_reference=3)\n",
    "btool.set_fragment_multipoles(qmmm2.system, qmmm2.log)"
   ]
  },
  {
   "cell_type": "markdown",
   "metadata": {},
   "source": [
    "Reference calculation rerun where we use the full system."
   ]
  },
  {
   "cell_type": "code",
   "execution_count": null,
   "metadata": {},
   "outputs": [],
   "source": [
    "temp = deepcopy(full)\n",
    "temp.system = F.System(mp_dict=temp.log.electrostatic_multipoles, frag_partition=[9])\n",
    "qmmm3 = setup_qmmm(temp, 0)\n",
    "qmmm3.log = code.run(name=\"qmmm3\", input=qmmm3.inp, run_dir=rundir)\n",
    "qmmm3.system = F.System(mp_dict=qmmm3.log.electrostatic_multipoles,  nat_reference=3)\n",
    "btool.set_fragment_multipoles(qmmm3.system, qmmm3.log)"
   ]
  },
  {
   "cell_type": "code",
   "execution_count": null,
   "metadata": {},
   "outputs": [],
   "source": [
    "plot_error(full.system, {\"$(H_2O)_1$\":qmmm.system, \"$(H_2O)_2$\":qmmm2.system, \"$(H_2O)_3$\":qmmm3.system})"
   ]
  },
  {
   "cell_type": "markdown",
   "metadata": {},
   "source": [
    "We need to be judicious in our choice of background. For example, let's rearrange the molecules in our calculation. Before, we had the first two water molecules be close to each other, while the third was far. In this calculation, the first second and third molecule are swapped."
   ]
  },
  {
   "cell_type": "code",
   "execution_count": null,
   "metadata": {},
   "outputs": [],
   "source": [
    "posinp2 = deepcopy(posinp)\n",
    "posinp2[\"positions\"] = posinp[\"positions\"][0:3] + posinp[\"positions\"][6:9] + posinp[\"positions\"][3:6]\n",
    "reorder = Result()\n",
    "reorder.inp = deepcopy(full.inp)\n",
    "reorder.inp[\"posinp\"] = posinp2\n",
    "reorder.log = code.run(name=\"reorder\", input=reorder.inp, run_dir=rundir)\n",
    "reorder.system = F.System(mp_dict=reorder.log.electrostatic_multipoles,  nat_reference=3)\n",
    "btool.set_fragment_multipoles(reorder.system, reorder.log)"
   ]
  },
  {
   "cell_type": "markdown",
   "metadata": {},
   "source": [
    "The effect of this swapping is that when we build the QMMM calculation, and include the second water molecule in the buffer region, we are now including the far water molecule, not the close."
   ]
  },
  {
   "cell_type": "code",
   "execution_count": null,
   "metadata": {},
   "outputs": [],
   "source": [
    "rmmm = setup_qmmm(reorder, 0)\n",
    "rmmm.log = code.run(name=\"rmmm\", input=rmmm.inp, run_dir=rundir)\n",
    "rmmm.system = F.System(mp_dict=rmmm.log.electrostatic_multipoles,  nat_reference=3)\n",
    "btool.set_fragment_multipoles(rmmm.system, rmmm.log)\n",
    "\n",
    "temp = deepcopy(reorder)\n",
    "temp.system = F.System(mp_dict=temp.log.electrostatic_multipoles, frag_partition=[6, 9])\n",
    "rmmm2 = setup_qmmm(temp, 0)\n",
    "rmmm2.log = code.run(name=\"rmmm2\", input=rmmm2.inp, run_dir=rundir)\n",
    "rmmm2.system = F.System(mp_dict=rmmm2.log.electrostatic_multipoles,  nat_reference=3)\n",
    "btool.set_fragment_multipoles(rmmm2.system, rmmm2.log)"
   ]
  },
  {
   "cell_type": "code",
   "execution_count": null,
   "metadata": {},
   "outputs": [],
   "source": [
    "plot_error(reorder.system, {\"$(H_2O)_1$\":rmmm.system, \"$(H_2O)_2$ Far\":rmmm2.system, \"$(H_2O)_2$ Near\":qmmm2.system})"
   ]
  },
  {
   "cell_type": "markdown",
   "metadata": {},
   "source": [
    "The above graph shows how a judicious choice of background element is crucial to reduce the error."
   ]
  },
  {
   "cell_type": "markdown",
   "metadata": {},
   "source": [
    "## Spillage Calculations\n",
    "The choice of background is important, and we need a way to automatically determine it. The spillage interaction calculator provides precisely this. It returns an array which shows the spillage between the target fragment and all other fragments."
   ]
  },
  {
   "cell_type": "code",
   "execution_count": null,
   "metadata": {},
   "outputs": [],
   "source": [
    "from BigDFT import Spillage as SP\n",
    "reload(PP)\n",
    "reload(SP)"
   ]
  },
  {
   "cell_type": "code",
   "execution_count": null,
   "metadata": {},
   "outputs": [],
   "source": [
    "btool = PP.BigDFTool()\n",
    "spillage_values = btool.compute_spillage(full.system, full.log, 0)\n",
    "print(spillage_values)"
   ]
  },
  {
   "cell_type": "markdown",
   "metadata": {},
   "source": [
    "Thus we see that the first water molecule has significant spillage with itself, and the second water molecule, making it a good choice for the buffer. "
   ]
  },
  {
   "cell_type": "markdown",
   "metadata": {},
   "source": [
    "## Spillage Application\n",
    "We have already seen how the spillage value was able to correctly predict that the nearby water molecule should have a significant effect on the observables of our system. This was of course no surprise. Now we turn our attention to some more interesting applications."
   ]
  },
  {
   "cell_type": "markdown",
   "metadata": {},
   "source": [
    "### Background Choice\n",
    "First, we will consider a similar situation, where we are trying to determine the best choice of background. In this case, we will have a more interesting system. We will have two water molecules, at a distance, and one neon molecule nearby. Which molecule should we include in our background?"
   ]
  },
  {
   "cell_type": "code",
   "execution_count": null,
   "metadata": {},
   "outputs": [],
   "source": [
    "backpos =\"\"\"\n",
    "- O: [-0.931477999671, 0.004547999723, -0.117331000086]\n",
    "- H: [-1.355753693973, -0.032108553467, 0.725181911626]\n",
    "- H: [-0.003078395366, 0.011003111969, 0.053703839371]\n",
    "\n",
    "- O: [2.500000000000, -0.003706000000, 0.113495000000]\n",
    "- H: [2.796831000000, 0.762122000000, -0.351887000000]\n",
    "- H: [2.773536000000, -0.747744000000, -0.399151000000]\n",
    "\n",
    "- Ne: [-2.500000000000, -0.003706000000, 0.113495000000]\n",
    "\"\"\""
   ]
  },
  {
   "cell_type": "code",
   "execution_count": null,
   "metadata": {},
   "outputs": [],
   "source": [
    "backfull = deepcopy(full)\n",
    "backposinp = {\"positions\": Y.load(stream=backpos, doc_lists=False),\n",
    "                          \"units\":\"angstroem\"}\n",
    "backfull.inp[\"posinp\"] = backposinp"
   ]
  },
  {
   "cell_type": "code",
   "execution_count": null,
   "metadata": {},
   "outputs": [],
   "source": [
    "backfull.log = code.run(name=\"backfull\", input=backfull.inp, run_dir=rundir)"
   ]
  },
  {
   "cell_type": "code",
   "execution_count": null,
   "metadata": {},
   "outputs": [],
   "source": [
    "backfull.system = F.System(mp_dict=backfull.log.electrostatic_multipoles, nat_reference=3)\n",
    "btool.set_fragment_multipoles(backfull.system, backfull.log)\n",
    "plot_purity(backfull.system)"
   ]
  },
  {
   "cell_type": "markdown",
   "metadata": {},
   "source": [
    "Now we can look at the spillage values:"
   ]
  },
  {
   "cell_type": "code",
   "execution_count": null,
   "metadata": {},
   "outputs": [],
   "source": [
    "spillage_values = btool.compute_spillage(backfull.system, backfull.log, 0)\n",
    "print(spillage_values)"
   ]
  },
  {
   "cell_type": "markdown",
   "metadata": {},
   "source": [
    "This would suggest that it is more important to include the neon atom than the water molecule. Let's test out this result."
   ]
  },
  {
   "cell_type": "code",
   "execution_count": null,
   "metadata": {},
   "outputs": [],
   "source": [
    "from copy import deepcopy\n",
    "temp = deepcopy(backfull)\n",
    "temp.system = F.System(mp_dict=temp.log.electrostatic_multipoles, frag_partition=[6, 7])\n",
    "backwat = setup_qmmm(temp, 0)\n",
    "backwat.log = code.run(name=\"backwat\", input=backwat.inp, run_dir=rundir)\n",
    "backwat.system = F.System(mp_dict=backwat.log.electrostatic_multipoles,  nat_reference=3)\n",
    "btool.set_fragment_multipoles(backwat.system, backwat.log)"
   ]
  },
  {
   "cell_type": "code",
   "execution_count": null,
   "metadata": {},
   "outputs": [],
   "source": [
    "backpos2 = deepcopy(backposinp)\n",
    "backpos2[\"positions\"] = backposinp[\"positions\"][0:3] + backposinp[\"positions\"][6:7] + backposinp[\"positions\"][3:6]\n",
    "backreorder = Result()\n",
    "backreorder.inp = deepcopy(backfull.inp)\n",
    "backreorder.inp[\"posinp\"] = backpos2\n",
    "backreorder.log = code.run(name=\"backreorder\", input=backreorder.inp, run_dir=rundir)\n",
    "backreorder.system = F.System(mp_dict=backreorder.log.electrostatic_multipoles,  nat_reference=3)\n",
    "btool.set_fragment_multipoles(backreorder.system, backreorder.log)\n",
    "\n",
    "backne = setup_qmmm(backreorder, 0)\n",
    "backne.log = code.run(name=\"backne\", input=backne.inp, run_dir=rundir)\n",
    "backne.system = F.System(mp_dict=backne.log.electrostatic_multipoles,  nat_reference=3)\n",
    "btool.set_fragment_multipoles(backne.system, backne.log)"
   ]
  },
  {
   "cell_type": "code",
   "execution_count": null,
   "metadata": {},
   "outputs": [],
   "source": [
    "plot_error(full.system, {\"$(H_2O)$ QM\":backwat.system, \"$Ne$ QM\":backne.system})"
   ]
  },
  {
   "cell_type": "markdown",
   "metadata": {},
   "source": [
    "### Water Distance\n",
    "For our second example, let us return to our example of three water molecules. Before we found that the far away molecule could be safely considered part of the background. But if the molecule was closer, would we find a different result? To answer this, we will need to bundle up our previous procedure."
   ]
  },
  {
   "cell_type": "code",
   "execution_count": null,
   "metadata": {},
   "outputs": [],
   "source": [
    "def evaluate_qmmm(distance):\n",
    "    from numpy import array\n",
    "    from numpy import array, dot\n",
    "    from numpy.linalg import norm\n",
    "    from math import acos, pi\n",
    "    from os.path import join\n",
    "    from copy import deepcopy\n",
    "    rundir = \"spillage_dir-distance\" + str(distance)\n",
    "    \n",
    "    # Create the system\n",
    "    posinp =\"\"\"\n",
    "- O: [-0.931477999671, 0.004547999723, -0.117331000086]\n",
    "- H: [-1.355753693973, -0.032108553467, 0.725181911626]\n",
    "- H: [-0.003078395366, 0.011003111969, 0.053703839371]\n",
    "\n",
    "- O: [1.500000000000, -0.003706000000, 0.113495000000]\n",
    "- H: [1.796831000000, 0.762122000000, -0.351887000000]\n",
    "- H: [1.773536000000, -0.747744000000, -0.399151000000]\n",
    "\"\"\"\n",
    "    added = []\n",
    "    added.append(array([-0.931477999671, 0.004547999723, -0.117331000086]))\n",
    "    added.append(array([-1.355753693973, -0.032108553467, 0.725181911626]))\n",
    "    added.append(array([-0.003078395366, 0.011003111969, 0.053703839371]))\n",
    "    \n",
    "    for i in range(0, len(added)):\n",
    "        added[i] += distance*array([-1.0, 0.0, 0.0])\n",
    "    for sym, ind in zip([\"O\", \"H\", \"H\"], [0, 1, 2]):\n",
    "        posinp += \"- \"+sym+\": [\" + str(added[ind][0]) + \", \" + \\\n",
    "                  str(added[ind][1]) + \", \" + str(added[ind][2]) + \"]\\n\"\n",
    "    # The Full System\n",
    "    full = Result()\n",
    "    full.inp = I.Inputfile()\n",
    "    full.inp.set_xc(\"PBE\")\n",
    "    full.inp.set_hgrid(0.4)\n",
    "    full.inp.write_orbitals_on_disk()\n",
    "    full.inp.calculate_dipole()\n",
    "    full.inp[\"import\"] = \"linear\"\n",
    "    full.inp[\"posinp\"] = {\"positions\": Y.load(stream=posinp, doc_lists=False),\n",
    "          \"units\":\"angstroem\"}\n",
    "    full.log = code.run(name=\"full\", input=full.inp, run_dir=rundir)\n",
    "    full.system = F.System(mp_dict=full.log.electrostatic_multipoles, nat_reference=3)\n",
    "    btool.set_fragment_multipoles(full.system, full.log)\n",
    "    \n",
    "    # The QM/MM System\n",
    "    temp = deepcopy(full)\n",
    "    temp.system = F.System(mp_dict=temp.log.electrostatic_multipoles, frag_partition=[6, 9])\n",
    "    qmmm = setup_qmmm(temp, 0)\n",
    "    qmmm.log = code.run(name=\"qmmm\", input=qmmm.inp, run_dir=rundir)\n",
    "    qmmm.system = F.System(mp_dict=qmmm.log.electrostatic_multipoles,  nat_reference=3)\n",
    "    btool.set_fragment_multipoles(qmmm.system, qmmm.log)\n",
    "    \n",
    "    # Compute the spillage\n",
    "    spillage_values = btool.compute_spillage(full.system, full.log, 0)\n",
    "    \n",
    "    # Extract the error in angle\n",
    "    angle_errors = []\n",
    "    for i in range(1, 3):\n",
    "        refval = (array(full.system.fragments[0].Q(order=i)))\n",
    "        sysval = (array(qmmm.system.fragments[0].Q(order=i)))\n",
    "        try:\n",
    "            angle_errors.append(acos(dot(refval,sysval)/(norm(refval)*norm(sysval)))*180/pi)\n",
    "        except:\n",
    "            angle_errors.append(0)\n",
    "    \n",
    "    return spillage_values[-1], angle_errors[0]"
   ]
  },
  {
   "cell_type": "code",
   "execution_count": null,
   "metadata": {},
   "outputs": [],
   "source": [
    "spillage_values = []\n",
    "errors = []\n",
    "distances = [2.0, 3.0, 4.0, 5.0, 6.0, 7.0, 8.0, 9.0, 10.0]\n",
    "for dist in distances:\n",
    "    s, a = evaluate_qmmm(dist)\n",
    "    spillage_values.append(s)\n",
    "    errors.append(a)"
   ]
  },
  {
   "cell_type": "code",
   "execution_count": null,
   "metadata": {},
   "outputs": [],
   "source": [
    "from matplotlib import pyplot as plt\n",
    "fig, axs = plt.subplots(1, 3, figsize=(14,3))\n",
    "\n",
    "axs[0].set_title(\"Spillage vs. Distance\")\n",
    "axs[1].set_title(\"Error vs. Distance\")\n",
    "axs[2].set_title(\"Error vs. Spillage\")\n",
    "\n",
    "axs[0].plot(distances, spillage_values, 'x')\n",
    "axs[1].plot(distances, errors, 'x')\n",
    "axs[2].plot(spillage_values, errors, 'x')\n",
    "\n",
    "axs[0].set_xlabel(\"Distance\",fontsize=12)\n",
    "axs[1].set_xlabel(\"Distance\",fontsize=12)\n",
    "axs[2].set_xlabel(\"Spillage Value\",fontsize=12)\n",
    "axs[0].set_ylabel(\"Spillage Value\",fontsize=12)\n",
    "axs[1].set_ylabel(\"Error in Angle\",fontsize=12)\n",
    "axs[2].set_ylabel(\"Error in Angle\",fontsize=12)\n",
    "axs[0].set_yscale(\"log\")\n",
    "axs[2].set_xscale(\"log\")\n",
    "axs[2].set_yscale(\"log\")\n",
    "plt.tight_layout()\n"
   ]
  },
  {
   "cell_type": "code",
   "execution_count": null,
   "metadata": {},
   "outputs": [],
   "source": []
  }
 ],
 "metadata": {
  "kernelspec": {
   "display_name": "Python 2",
   "language": "python",
   "name": "python2"
  },
  "language_info": {
   "codemirror_mode": {
    "name": "ipython",
    "version": 2
   },
   "file_extension": ".py",
   "mimetype": "text/x-python",
   "name": "python",
   "nbconvert_exporter": "python",
   "pygments_lexer": "ipython2",
   "version": "2.7.15"
  }
 },
 "nbformat": 4,
 "nbformat_minor": 2
}
