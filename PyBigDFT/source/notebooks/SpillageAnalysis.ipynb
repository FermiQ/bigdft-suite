{
 "cells": [
  {
   "cell_type": "markdown",
   "metadata": {},
   "source": [
    "# BigDFT Fragmentation "
   ]
  },
  {
   "cell_type": "markdown",
   "metadata": {},
   "source": [
    "In this notebook we will go through the steps needed for computing the purity indicator and spillage values. First, we define the calculator we will use."
   ]
  },
  {
   "cell_type": "code",
   "execution_count": 1,
   "metadata": {},
   "outputs": [],
   "source": [
    "from BigDFT import Calculators as C"
   ]
  },
  {
   "cell_type": "code",
   "execution_count": 2,
   "metadata": {},
   "outputs": [
    {
     "name": "stdout",
     "output_type": "stream",
     "text": [
      "Initialize a Calculator with OMP_NUM_THREADS=2 and command mpirun /Users/dawson/Documents/CEACollaboration/SourceCode/PurifySteps/BuildFast/install/bin/bigdft\n"
     ]
    }
   ],
   "source": [
    "code = C.SystemCalculator(omp=2, mpi_run=\"mpirun\")"
   ]
  },
  {
   "cell_type": "code",
   "execution_count": 3,
   "metadata": {},
   "outputs": [],
   "source": [
    "code.update_global_options(skip=False)"
   ]
  },
  {
   "cell_type": "markdown",
   "metadata": {},
   "source": [
    "We will store the results and inputs in a dictionary for naming ease."
   ]
  },
  {
   "cell_type": "code",
   "execution_count": 4,
   "metadata": {},
   "outputs": [],
   "source": [
    "class Result:\n",
    "    def __init__(self, log=None, system=None, inp=None):\n",
    "        self.log = log\n",
    "        self.system = system\n",
    "        self.inp = inp"
   ]
  },
  {
   "cell_type": "code",
   "execution_count": 5,
   "metadata": {},
   "outputs": [],
   "source": [
    "rundir = \"spillage_dir\""
   ]
  },
  {
   "cell_type": "markdown",
   "metadata": {},
   "source": [
    "## Setup Calculation"
   ]
  },
  {
   "cell_type": "markdown",
   "metadata": {},
   "source": [
    "First we define the system, which will be three water molecules. Two are close to one and other."
   ]
  },
  {
   "cell_type": "code",
   "execution_count": 6,
   "metadata": {},
   "outputs": [],
   "source": [
    "positions =\"\"\"\n",
    "- O: [-0.931477999671, 0.004547999723, -0.117331000086]\n",
    "- H: [-1.355753693973, -0.032108553467, 0.725181911626]\n",
    "- H: [-0.003078395366, 0.011003111969, 0.053703839371]\n",
    "\n",
    "- O: [1.500000000000, -0.003706000000, 0.113495000000]\n",
    "- H: [1.796831000000, 0.762122000000, -0.351887000000]\n",
    "- H: [1.773536000000, -0.747744000000, -0.399151000000]\n",
    "\n",
    "- O: [10.500000000000, -0.003706000000, 0.113495000000]\n",
    "- H: [10.796831000000, 0.762122000000, -0.351887000000]\n",
    "- H: [10.773536000000, -0.747744000000, -0.399151000000]\n",
    "\"\"\""
   ]
  },
  {
   "cell_type": "code",
   "execution_count": 7,
   "metadata": {},
   "outputs": [],
   "source": [
    "from futile import YamlIO as Y\n",
    "posinp = {\"positions\": Y.load(stream=positions, doc_lists=False),\n",
    "          \"units\":\"angstroem\"}"
   ]
  },
  {
   "cell_type": "markdown",
   "metadata": {},
   "source": [
    "We will next define an input file for doing a calculation. For reference, let's do a run using both the linear and the cubic scaling version."
   ]
  },
  {
   "cell_type": "code",
   "execution_count": 8,
   "metadata": {},
   "outputs": [],
   "source": [
    "from BigDFT import Inputfiles as I"
   ]
  },
  {
   "cell_type": "code",
   "execution_count": 9,
   "metadata": {},
   "outputs": [],
   "source": [
    "full = Result()\n",
    "full.inp = I.Inputfile()\n",
    "full.inp.set_xc(\"PBE\")\n",
    "full.inp.set_hgrid(0.4)\n",
    "full.inp.write_orbitals_on_disk()\n",
    "full.inp.calculate_dipole()\n",
    "full.inp[\"import\"] = \"linear\"\n",
    "full.inp[\"posinp\"] = posinp"
   ]
  },
  {
   "cell_type": "code",
   "execution_count": 10,
   "metadata": {},
   "outputs": [
    {
     "name": "stdout",
     "output_type": "stream",
     "text": [
      "Creating the yaml input file \"spillage_dir/full.yaml\"\n",
      "Run directory spillage_dir\n",
      "Executing command:  mpirun /Users/dawson/Documents/CEACollaboration/SourceCode/PurifySteps/BuildFast/install/bin/bigdft -n full -s Yes\n"
     ]
    }
   ],
   "source": [
    "full.log = code.run(name=\"full\", input=full.inp, run_dir=rundir, skip=True)"
   ]
  },
  {
   "cell_type": "markdown",
   "metadata": {},
   "source": [
    "## Fragmentation Study\n",
    "First we need to divide the system up into fragments. First, we will show what happens when try fragmenting the system based on atoms."
   ]
  },
  {
   "cell_type": "code",
   "execution_count": 11,
   "metadata": {},
   "outputs": [],
   "source": [
    "from BigDFT import Fragments as F\n",
    "reload(F)\n",
    "from BigDFT import PostProcessing as PP\n",
    "reload(PP)\n",
    "btool = PP.BigDFTool()"
   ]
  },
  {
   "cell_type": "code",
   "execution_count": 12,
   "metadata": {},
   "outputs": [],
   "source": [
    "full.system = F.System(mp_dict=full.log.electrostatic_multipoles, nat_reference=1)"
   ]
  },
  {
   "cell_type": "code",
   "execution_count": 13,
   "metadata": {},
   "outputs": [],
   "source": [
    "btool.set_fragment_multipoles(full.system, full.log)"
   ]
  },
  {
   "cell_type": "code",
   "execution_count": 14,
   "metadata": {},
   "outputs": [],
   "source": [
    "def plot_purity(system):\n",
    "    from matplotlib import pyplot as plt\n",
    "    from matplotlib.ticker import MaxNLocator\n",
    "    \n",
    "    frag_id = list(range(1, len(system.fragments)+1))\n",
    "    purity_values = [x.purity_indicator for x in system.fragments]\n",
    "    \n",
    "    fig, axs = plt.subplots(1,1)\n",
    "    axs.plot(frag_id, purity_values, 'x--')\n",
    "    axs.set_xlabel(\"Fragment ID\")\n",
    "    axs.set_ylabel(\"Purity Value\")\n",
    "    axs.xaxis.set_major_locator(MaxNLocator(integer=True))"
   ]
  },
  {
   "cell_type": "code",
   "execution_count": 15,
   "metadata": {},
   "outputs": [],
   "source": [
    "plot_purity(full.system)"
   ]
  },
  {
   "cell_type": "markdown",
   "metadata": {},
   "source": [
    "Clearly the choice of atoms as a partitioning of the system is inadequate. Instead, we can refragment based on actual water molecules."
   ]
  },
  {
   "cell_type": "code",
   "execution_count": 16,
   "metadata": {},
   "outputs": [],
   "source": [
    "full.system = F.System(mp_dict=full.log.electrostatic_multipoles, nat_reference=3)"
   ]
  },
  {
   "cell_type": "code",
   "execution_count": 17,
   "metadata": {},
   "outputs": [],
   "source": [
    "btool.set_fragment_multipoles(full.system, full.log)"
   ]
  },
  {
   "cell_type": "code",
   "execution_count": 18,
   "metadata": {},
   "outputs": [
    {
     "data": {
      "image/png": "[encoded data removed]",
      "text/plain": [
       "<matplotlib.figure.Figure at 0x1123caad0>"
      ]
     },
     "metadata": {
      "needs_background": "light"
     },
     "output_type": "display_data"
    }
   ],
   "source": [
    "plot_purity(full.system)"
   ]
  },
  {
   "cell_type": "markdown",
   "metadata": {},
   "source": [
    "Indeed we see that the water molecules themselves are much purer than the individual atoms, making them much more suitable fragments of a system. "
   ]
  },
  {
   "cell_type": "markdown",
   "metadata": {},
   "source": [
    "## QM/MM Setup\n",
    "Now let's assume that we want to do a a QM/MM calculation that accurately computes the values associated with the first water molecule. First, let's do a pure calculation where we only treat the first water molecule in a QM way. First we partition, and then use that to build a new input file."
   ]
  },
  {
   "cell_type": "code",
   "execution_count": null,
   "metadata": {},
   "outputs": [],
   "source": [
    "def setup_qmmm(start, target):\n",
    "    from copy import deepcopy\n",
    "    env = deepcopy(start.system)\n",
    "    QM=env.pop(target)\n",
    "    MM=env.dict()\n",
    "    \n",
    "    charge = start.system.fragments[0].Q(order=0)\n",
    "    \n",
    "    qmmm = Result()\n",
    "    qmmm.inp = deepcopy(start.inp)\n",
    "    qmmm.inp[\"posinp\"]= QM.get_posinp(units=\"angstroem\")\n",
    "    qmmm.inp[\"dft\"][\"external_potential\"] = MM\n",
    "    qmmm.inp[\"dft\"][\"qcharge\"] = charge + \n",
    "    \n",
    "    return qmmm"
   ]
  },
  {
   "cell_type": "code",
   "execution_count": null,
   "metadata": {},
   "outputs": [],
   "source": [
    "qmmm = setup_qmmm(full, 0)\n",
    "qmmm.log = code.run(name=\"qmmm\", input=qmmm.inp, run_dir=rundir)"
   ]
  },
  {
   "cell_type": "markdown",
   "metadata": {},
   "source": [
    "We can compare the results by looking at the multipoles."
   ]
  },
  {
   "cell_type": "code",
   "execution_count": null,
   "metadata": {},
   "outputs": [],
   "source": [
    "qmmm.system = F.System(mp_dict=qmmm.log.electrostatic_multipoles,  nat_reference=3)\n",
    "btool.set_fragment_multipoles(qmmm.system, qmmm.log)"
   ]
  },
  {
   "cell_type": "code",
   "execution_count": null,
   "metadata": {},
   "outputs": [],
   "source": [
    "def plot_error(refsys, sysdict):\n",
    "    from matplotlib import pyplot as plt\n",
    "    from matplotlib.ticker import MaxNLocator\n",
    "    from numpy import array, dot\n",
    "    from numpy.linalg import norm\n",
    "    from math import acos, pi\n",
    "    \n",
    "    mplabel = [\"$q_{0}$\", \"$q_{1,-1}$\", \"$q_{1,0}$\", \"$q_{1,1}$\",\n",
    "              \"$q_{2,-2}$\", \"$q_{2,-1}$\", \"$q_{2,0}$\", \"$q_{2,1}$\", \"$q_{2,2}$\"]\n",
    "    mplabel2 = [\"$q_0$\", \"$q_1$\", \"$q_2$\"]\n",
    "    \n",
    "    fig, axs = plt.subplots(1, 3, figsize=(14,3))\n",
    "    axs[0].set_ylabel(\"Multipole Error (AU)\",fontsize=12)\n",
    "    axs[2].set_ylabel(\"Multipole Error (Degrees)\",fontsize=12)\n",
    "    \n",
    "    axs[0].set_xticks(range(0,9))\n",
    "    axs[0].set_xticklabels(mplabel)\n",
    "    axs[1].set_xticks(range(0,3))\n",
    "    axs[1].set_xticklabels(mplabel2)\n",
    "    axs[2].set_xticks(range(0,2))\n",
    "    axs[2].set_xticklabels(mplabel2[1:])\n",
    "    \n",
    "    axs[0].set_title(\"Absolute Deviation of Components\")\n",
    "    axs[1].set_title(\"Error in Norm\")\n",
    "    axs[2].set_title(\"Error in Angle\")\n",
    "        \n",
    "    for name, sys2 in sysdict.items():\n",
    "        errors = []\n",
    "        norm_errors = []\n",
    "        angle_errors = []\n",
    "        for i in range(0, 3):\n",
    "            refval = (array(refsys.fragments[0].Q(order=i)))\n",
    "            sysval = (array(sys2.fragments[0].Q(order=i)))\n",
    "            try:\n",
    "                errval = [abs(x - y) for x, y in zip(refval, sysval)]\n",
    "            except:\n",
    "                errval = [abs(refval - sysval)]\n",
    "            errors.extend(errval)\n",
    "            norm_errors.append(norm(refval - sysval))\n",
    "            if i > 0:\n",
    "                try:\n",
    "                    angle_errors.append(acos(dot(refval,sysval)/(norm(refval)*norm(sysval)))*180/pi)\n",
    "                except:\n",
    "                    angle_errors.append(0)\n",
    "        axs[0].plot(errors, 'x--',label=name)\n",
    "        axs[1].plot(norm_errors, 'x--',label=name)\n",
    "        axs[2].plot(angle_errors, 'x--',label=name)\n",
    "    axs[0].legend()\n",
    "    plt.tight_layout()"
   ]
  },
  {
   "cell_type": "code",
   "execution_count": null,
   "metadata": {},
   "outputs": [],
   "source": [
    "plot_error(full.system, {\"QMMM\":qmmm.system})"
   ]
  },
  {
   "cell_type": "markdown",
   "metadata": {},
   "source": [
    "## Background Proof of Concept\n",
    "We suspect that we can compute more accurate multipole values by including the second water in the QM region explicitly. Let's demonstrate this before thinking about buffer generation."
   ]
  },
  {
   "cell_type": "code",
   "execution_count": null,
   "metadata": {},
   "outputs": [],
   "source": [
    "from copy import deepcopy\n",
    "temp = deepcopy(full)\n",
    "temp.system = F.System(mp_dict=temp.log.electrostatic_multipoles, frag_partition=[6, 9])\n",
    "qmmm2 = setup_qmmm(temp, 0)\n",
    "qmmm2.log = code.run(name=\"qmmm2\", input=qmmm2.inp, run_dir=rundir)\n",
    "qmmm2.system = F.System(mp_dict=qmmm2.log.electrostatic_multipoles,  nat_reference=3)\n",
    "btool.set_fragment_multipoles(qmmm2.system, qmmm2.log)"
   ]
  },
  {
   "cell_type": "markdown",
   "metadata": {},
   "source": [
    "Reference calculation rerun where we use the full system."
   ]
  },
  {
   "cell_type": "code",
   "execution_count": null,
   "metadata": {},
   "outputs": [],
   "source": [
    "temp = deepcopy(full)\n",
    "temp.system = F.System(mp_dict=temp.log.electrostatic_multipoles, frag_partition=[9])\n",
    "qmmm3 = setup_qmmm(temp, 0)\n",
    "qmmm3.log = code.run(name=\"qmmm3\", input=qmmm3.inp, run_dir=rundir)\n",
    "qmmm3.system = F.System(mp_dict=qmmm3.log.electrostatic_multipoles,  nat_reference=3)\n",
    "btool.set_fragment_multipoles(qmmm3.system, qmmm3.log)"
   ]
  },
  {
   "cell_type": "code",
   "execution_count": null,
   "metadata": {},
   "outputs": [],
   "source": [
    "plot_error(full.system, {\"$H_2O$\":qmmm.system, \"$(H_2O)_2$\":qmmm2.system, \"$(H_2O)_3$\":qmmm3.system})"
   ]
  },
  {
   "cell_type": "markdown",
   "metadata": {},
   "source": [
    "We need to be judicious in our choice of background. For example, let's rearrange the molecules in our calculation. Before, we had the first two water molecules be close to each other, while the third was far. In this calculation, the first second and third molecule are swapped."
   ]
  },
  {
   "cell_type": "code",
   "execution_count": null,
   "metadata": {},
   "outputs": [],
   "source": [
    "posinp2 = deepcopy(posinp)\n",
    "posinp2[\"positions\"] = posinp[\"positions\"][0:3] + posinp[\"positions\"][6:9] + posinp[\"positions\"][3:6]\n",
    "reorder = Result()\n",
    "reorder.inp = deepcopy(full.inp)\n",
    "reorder.inp[\"posinp\"] = posinp2\n",
    "reorder.log = code.run(name=\"reorder\", input=reorder.inp, run_dir=rundir)\n",
    "reorder.system = F.System(mp_dict=reorder.log.electrostatic_multipoles,  nat_reference=3)\n",
    "btool.set_fragment_multipoles(reorder.system, reorder.log)"
   ]
  },
  {
   "cell_type": "markdown",
   "metadata": {},
   "source": [
    "The effect of this swapping is that whne we build the QMMM calculation, and include the second water molecule in the buffer region, we are now including the far water molecule, not the close."
   ]
  },
  {
   "cell_type": "code",
   "execution_count": null,
   "metadata": {},
   "outputs": [],
   "source": [
    "rmmm = setup_qmmm(reorder, 0)\n",
    "rmmm.log = code.run(name=\"rmmm\", input=rmmm.inp, run_dir=rundir)\n",
    "rmmm.system = F.System(mp_dict=rmmm.log.electrostatic_multipoles,  nat_reference=3)\n",
    "btool.set_fragment_multipoles(rmmm.system, rmmm.log)\n",
    "\n",
    "temp = deepcopy(reorder)\n",
    "temp.system = F.System(mp_dict=temp.log.electrostatic_multipoles, frag_partition=[6, 9])\n",
    "rmmm2 = setup_qmmm(temp, 0)\n",
    "rmmm2.log = code.run(name=\"rmmm2\", input=rmmm2.inp, run_dir=rundir)\n",
    "rmmm2.system = F.System(mp_dict=rmmm2.log.electrostatic_multipoles,  nat_reference=3)\n",
    "btool.set_fragment_multipoles(rmmm2.system, rmmm2.log)"
   ]
  },
  {
   "cell_type": "code",
   "execution_count": null,
   "metadata": {},
   "outputs": [],
   "source": [
    "plot_error(reorder.system, {\"$H_2O$\":rmmm.system, \"$(H_2O)_2$ Reorder\":rmmm2.system, \"$(H_2O)_2$\":qmmm2.system})"
   ]
  },
  {
   "cell_type": "markdown",
   "metadata": {},
   "source": [
    "The above graph shows how a judicious choice of background element is crucial to reduce the error."
   ]
  },
  {
   "cell_type": "markdown",
   "metadata": {},
   "source": [
    "## Spillage Calculations\n",
    "The choice of background is important, and we need a way to automatically determine it. The spillage interaction calculator provides precisely this. It returns an array which shows the spillage between the target fragment and all other fragments."
   ]
  },
  {
   "cell_type": "code",
   "execution_count": null,
   "metadata": {},
   "outputs": [],
   "source": [
    "from BigDFT import Spillage as SP\n",
    "reload(PP)\n",
    "reload(SP)"
   ]
  },
  {
   "cell_type": "code",
   "execution_count": null,
   "metadata": {},
   "outputs": [],
   "source": [
    "btool = PP.BigDFTool()\n",
    "spillage_values = btool.compute_spillage(full.system, full.log, 0)"
   ]
  },
  {
   "cell_type": "code",
   "execution_count": null,
   "metadata": {},
   "outputs": [],
   "source": [
    "print(full.system.fragments[0].atoms[0])"
   ]
  }
 ],
 "metadata": {
  "kernelspec": {
   "display_name": "Python 2",
   "language": "python",
   "name": "python2"
  },
  "language_info": {
   "codemirror_mode": {
    "name": "ipython",
    "version": 2
   },
   "file_extension": ".py",
   "mimetype": "text/x-python",
   "name": "python",
   "nbconvert_exporter": "python",
   "pygments_lexer": "ipython2",
   "version": "2.7.15"
  }
 },
 "nbformat": 4,
 "nbformat_minor": 2
}
