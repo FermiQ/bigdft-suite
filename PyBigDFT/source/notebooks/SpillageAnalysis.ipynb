{
 "cells": [
  {
   "cell_type": "markdown",
   "metadata": {},
   "source": [
    "# BigDFT Fragmentation "
   ]
  },
  {
   "cell_type": "markdown",
   "metadata": {},
   "source": [
    "In this notebook we will go through the steps needed for computing the purity indicator and spillage values. First, we define the calculator we will use."
   ]
  },
  {
   "cell_type": "code",
   "execution_count": 2,
   "metadata": {},
   "outputs": [],
   "source": [
    "from BigDFT import Calculators as C"
   ]
  },
  {
   "cell_type": "code",
   "execution_count": 3,
   "metadata": {},
   "outputs": [
    {
     "name": "stdout",
     "output_type": "stream",
     "text": [
      "Initialize a Calculator with OMP_NUM_THREADS=2 and command mpirun /Users/dawson/Documents/CEACollaboration/SourceCode/PurifySteps/Build/install/bin/bigdft\n"
     ]
    }
   ],
   "source": [
    "code = C.SystemCalculator(omp=2, mpi_run=\"mpirun\")"
   ]
  },
  {
   "cell_type": "code",
   "execution_count": 4,
   "metadata": {},
   "outputs": [],
   "source": [
    "code.update_global_options(skip=True)"
   ]
  },
  {
   "cell_type": "markdown",
   "metadata": {},
   "source": [
    "## Setup Calculation"
   ]
  },
  {
   "cell_type": "markdown",
   "metadata": {},
   "source": [
    "First we define the system, which will be two water molecules."
   ]
  },
  {
   "cell_type": "code",
   "execution_count": 5,
   "metadata": {},
   "outputs": [],
   "source": [
    "positions =\"\"\"\n",
    "- O: [-0.931477999671, 0.004547999723, -0.117331000086]\n",
    "- H: [-1.355753693973, -0.032108553467, 0.725181911626]\n",
    "- H: [-0.003078395366, 0.011003111969, 0.053703839371]\n",
    "- O: [1.500000000000, -0.003706000000, 0.113495000000]\n",
    "- H: [1.796831000000, 0.762122000000, -0.351887000000]\n",
    "- H: [1.773536000000, -0.747744000000, -0.399151000000]\n",
    "\"\"\""
   ]
  },
  {
   "cell_type": "code",
   "execution_count": 6,
   "metadata": {},
   "outputs": [],
   "source": [
    "from futile import YamlIO as Y\n",
    "posinp = {\"positions\": Y.load(stream=positions, doc_lists=False),\n",
    "          \"units\":\"angstroem\"}"
   ]
  },
  {
   "cell_type": "markdown",
   "metadata": {},
   "source": [
    "We will next define an input file for doing a calculation. For reference, let's do a run using both the linear and the cubic scaling version."
   ]
  },
  {
   "cell_type": "code",
   "execution_count": 7,
   "metadata": {},
   "outputs": [],
   "source": [
    "from BigDFT import Inputfiles as I"
   ]
  },
  {
   "cell_type": "code",
   "execution_count": 8,
   "metadata": {},
   "outputs": [],
   "source": [
    "inp = I.Inputfile()\n",
    "inp.set_xc(\"PBE\")\n",
    "inp.set_hgrid(0.4)\n",
    "inp.write_orbitals_on_disk()\n",
    "inp.calculate_dipole()\n",
    "inp[\"lin_basis\"] = {}\n",
    "inp[\"lin_basis\"][\"nit\"] = 1\n",
    "inp[\"import\"] = \"linear\""
   ]
  },
  {
   "cell_type": "code",
   "execution_count": 9,
   "metadata": {},
   "outputs": [
    {
     "name": "stdout",
     "output_type": "stream",
     "text": [
      "Creating the yaml input file \"linear_dir/linear.yaml\"\n",
      "Run directory linear_dir\n",
      "Executing command:  mpirun /Users/dawson/Documents/CEACollaboration/SourceCode/PurifySteps/Build/install/bin/bigdft -n linear\n"
     ]
    }
   ],
   "source": [
    "full_qm = code.run(name=\"linear\", input=inp, posinp=posinp, \n",
    "                   run_dir=\"linear_dir\", skip=False)"
   ]
  },
  {
   "cell_type": "markdown",
   "metadata": {},
   "source": [
    "## Fragmentation Study\n",
    "First we need to divide the system up into two fragments."
   ]
  },
  {
   "cell_type": "code",
   "execution_count": 10,
   "metadata": {},
   "outputs": [
    {
     "data": {
      "text/plain": [
       "<module 'BigDFT.Fragments' from '/Users/dawson/Documents/CEACollaboration/SourceCode/PurifySteps/Build/install/lib/python2.7/site-packages/BigDFT/Fragments.pyc'>"
      ]
     },
     "execution_count": 10,
     "metadata": {},
     "output_type": "execute_result"
    }
   ],
   "source": [
    "from BigDFT import Fragments as F\n",
    "reload(F)"
   ]
  },
  {
   "cell_type": "code",
   "execution_count": 11,
   "metadata": {},
   "outputs": [],
   "source": [
    "dimer = F.System(mp_dict=full_qm.electrostatic_multipoles, nat_reference=3)"
   ]
  },
  {
   "cell_type": "code",
   "execution_count": 12,
   "metadata": {},
   "outputs": [],
   "source": [
    "dimer.dict()\n",
    "first, second = dimer.fragments"
   ]
  },
  {
   "cell_type": "code",
   "execution_count": 13,
   "metadata": {},
   "outputs": [
    {
     "data": {
      "text/plain": [
       "<module 'BigDFT.PostProcessing' from '/Users/dawson/Documents/CEACollaboration/SourceCode/PurifySteps/Build/install/lib/python2.7/site-packages/BigDFT/PostProcessing.pyc'>"
      ]
     },
     "execution_count": 13,
     "metadata": {},
     "output_type": "execute_result"
    }
   ],
   "source": [
    "from BigDFT import PostProcessing as PP\n",
    "reload(PP)"
   ]
  },
  {
   "cell_type": "code",
   "execution_count": 14,
   "metadata": {},
   "outputs": [],
   "source": [
    "btool = PP.BigDFTool()"
   ]
  },
  {
   "cell_type": "code",
   "execution_count": 15,
   "metadata": {},
   "outputs": [
    {
     "name": "stdout",
     "output_type": "stream",
     "text": [
      "{'kernel_file': '/Users/dawson/Documents/CEACollaboration/SourceCode/PurifySteps/PyBigDFT/source/notebooks/linear_dir/data-linear/density_kernel_sparse.txt', 'fragment_file': '/Users/dawson/Documents/CEACollaboration/SourceCode/PurifySteps/PyBigDFT/source/notebooks/linear_dir/data-linear/fragment.dat', 'matrix_format': 'serial_text', 'multipole_matrix_1_2': '/Users/dawson/Documents/CEACollaboration/SourceCode/PurifySteps/PyBigDFT/source/notebooks/linear_dir/data-linear/mpmat_1_1.txt', 'multipole_matrix_2_4': '/Users/dawson/Documents/CEACollaboration/SourceCode/PurifySteps/PyBigDFT/source/notebooks/linear_dir/data-linear/mpmat_2_2.txt', 'multipole_matrix_1_0': '/Users/dawson/Documents/CEACollaboration/SourceCode/PurifySteps/PyBigDFT/source/notebooks/linear_dir/data-linear/mpmat_1_-1.txt', 'multipole_matrix_1_1': '/Users/dawson/Documents/CEACollaboration/SourceCode/PurifySteps/PyBigDFT/source/notebooks/linear_dir/data-linear/mpmat_1_0.txt', 'multipole_matrix_2_1': '/Users/dawson/Documents/CEACollaboration/SourceCode/PurifySteps/PyBigDFT/source/notebooks/linear_dir/data-linear/mpmat_2_-1.txt', 'mpirun': '', 'multipole_matrix_2_3': '/Users/dawson/Documents/CEACollaboration/SourceCode/PurifySteps/PyBigDFT/source/notebooks/linear_dir/data-linear/mpmat_2_1.txt', 'multipole_matrix_2_0': '/Users/dawson/Documents/CEACollaboration/SourceCode/PurifySteps/PyBigDFT/source/notebooks/linear_dir/data-linear/mpmat_2_-2.txt', 'kernel_matmul_file': '/Users/dawson/Documents/CEACollaboration/SourceCode/PurifySteps/PyBigDFT/source/notebooks/linear_dir/data-linear/density_kernel_sparse_matmul.txt', 'overlap_file': '/Users/dawson/Documents/CEACollaboration/SourceCode/PurifySteps/PyBigDFT/source/notebooks/linear_dir/data-linear/overlap_sparse.txt', 'multipole_matrix_0_0': '/Users/dawson/Documents/CEACollaboration/SourceCode/PurifySteps/PyBigDFT/source/notebooks/linear_dir/data-linear/mpmat_0_0.txt', 'metadata_file': '/Users/dawson/Documents/CEACollaboration/SourceCode/PurifySteps/PyBigDFT/source/notebooks/linear_dir/data-linear/sparsematrix_metadata.dat', 'action': 'fragment-multipoles', 'orbital_file': '/Users/dawson/Documents/CEACollaboration/SourceCode/PurifySteps/PyBigDFT/source/notebooks/linear_dir/data-linear/orbitals.yaml', 'coeff_file': '/Users/dawson/Documents/CEACollaboration/SourceCode/PurifySteps/PyBigDFT/source/notebooks/linear_dir/data-linear/coeff.txt', 'multipole_matrix_2_2': '/Users/dawson/Documents/CEACollaboration/SourceCode/PurifySteps/PyBigDFT/source/notebooks/linear_dir/data-linear/mpmat_2_0.txt'}\n"
     ]
    }
   ],
   "source": [
    "btool.get_fragment_multipoles(full_qm, dimer)"
   ]
  },
  {
   "cell_type": "code",
   "execution_count": null,
   "metadata": {},
   "outputs": [],
   "source": []
  }
 ],
 "metadata": {
  "kernelspec": {
   "display_name": "Python 2",
   "language": "python",
   "name": "python2"
  },
  "language_info": {
   "codemirror_mode": {
    "name": "ipython",
    "version": 2
   },
   "file_extension": ".py",
   "mimetype": "text/x-python",
   "name": "python",
   "nbconvert_exporter": "python",
   "pygments_lexer": "ipython2",
   "version": "2.7.15"
  }
 },
 "nbformat": 4,
 "nbformat_minor": 2
}
