{
 "cells": [
  {
   "cell_type": "code",
   "execution_count": 76,
   "metadata": {},
   "outputs": [
    {
     "data": {
      "text/plain": [
       "<module 'futile.Utils' from '/Users/dawson/Documents/CEACollaboration/SourceCode/Base/BuildGCC/install/lib/python2.7/site-packages/futile/Utils.pyc'>"
      ]
     },
     "execution_count": 76,
     "metadata": {},
     "output_type": "execute_result"
    }
   ],
   "source": [
    "# from futile import Utils\n",
    "# from futile import YamlArgparse as YAP\n",
    "# reload(YAP)\n",
    "# reload(PP)\n",
    "# reload(Utils)"
   ]
  },
  {
   "cell_type": "markdown",
   "metadata": {},
   "source": [
    "# BigDFT Fragmentation "
   ]
  },
  {
   "cell_type": "markdown",
   "metadata": {},
   "source": [
    "In this notebook we will go through the steps needed for computing the purity indicator and spillage values. First, we define the calculator we will use."
   ]
  },
  {
   "cell_type": "code",
   "execution_count": 16,
   "metadata": {},
   "outputs": [],
   "source": [
    "from BigDFT import Calculators as C"
   ]
  },
  {
   "cell_type": "code",
   "execution_count": 17,
   "metadata": {},
   "outputs": [
    {
     "name": "stdout",
     "output_type": "stream",
     "text": [
      "Initialize a Calculator with OMP_NUM_THREADS=2 and command mpirun /Users/dawson/Documents/CEACollaboration/SourceCode/PurifySteps/Build/install/bin/bigdft\n"
     ]
    }
   ],
   "source": [
    "code = C.SystemCalculator(omp=2, mpi_run=\"mpirun\")"
   ]
  },
  {
   "cell_type": "code",
   "execution_count": 18,
   "metadata": {},
   "outputs": [],
   "source": [
    "code.update_global_options(skip=True)"
   ]
  },
  {
   "cell_type": "markdown",
   "metadata": {},
   "source": [
    "## Setup Calculation"
   ]
  },
  {
   "cell_type": "markdown",
   "metadata": {},
   "source": [
    "First we define the system, which will be two water molecules."
   ]
  },
  {
   "cell_type": "code",
   "execution_count": 19,
   "metadata": {},
   "outputs": [],
   "source": [
    "positions =\"\"\"\n",
    "- O: [-0.931477999671, 0.004547999723, -0.117331000086]\n",
    "- H: [-1.355753693973, -0.032108553467, 0.725181911626]\n",
    "- H: [-0.003078395366, 0.011003111969, 0.053703839371]\n",
    "- O: [1.500000000000, -0.003706000000, 0.113495000000]\n",
    "- H: [1.796831000000, 0.762122000000, -0.351887000000]\n",
    "- H: [1.773536000000, -0.747744000000, -0.399151000000]\n",
    "\"\"\""
   ]
  },
  {
   "cell_type": "code",
   "execution_count": 20,
   "metadata": {},
   "outputs": [],
   "source": [
    "from futile import YamlIO as Y\n",
    "posinp = {\"positions\": Y.load(stream=positions, doc_lists=False),\n",
    "          \"units\":\"angstroem\"}"
   ]
  },
  {
   "cell_type": "markdown",
   "metadata": {},
   "source": [
    "We will next define an input file for doing a calculation. For reference, let's do a run using both the linear and the cubic scaling version."
   ]
  },
  {
   "cell_type": "code",
   "execution_count": 21,
   "metadata": {},
   "outputs": [],
   "source": [
    "from BigDFT import Inputfiles as I"
   ]
  },
  {
   "cell_type": "code",
   "execution_count": 22,
   "metadata": {},
   "outputs": [],
   "source": [
    "inp = I.Inputfile()\n",
    "inp.set_xc(\"PBE\")\n",
    "inp.set_hgrid(0.4)\n",
    "inp.write_orbitals_on_disk()\n",
    "inp.calculate_dipole()\n",
    "inp[\"import\"] = \"linear\""
   ]
  },
  {
   "cell_type": "code",
   "execution_count": 24,
   "metadata": {},
   "outputs": [
    {
     "name": "stdout",
     "output_type": "stream",
     "text": [
      "Creating the yaml input file \"./linear.yaml\"\n",
      "Executing command:  mpirun /Users/dawson/Documents/CEACollaboration/SourceCode/PurifySteps/Build/install/bin/bigdft -n linear\n"
     ]
    }
   ],
   "source": [
    "full_qm = code.run(name=\"linear\", input=inp, posinp=posinp, skip=False)"
   ]
  },
  {
   "cell_type": "markdown",
   "metadata": {},
   "source": [
    "## Fragmentation Study"
   ]
  },
  {
   "cell_type": "code",
   "execution_count": 26,
   "metadata": {},
   "outputs": [],
   "source": [
    "from BigDFT import Fragments as F"
   ]
  },
  {
   "cell_type": "code",
   "execution_count": 27,
   "metadata": {},
   "outputs": [],
   "source": [
    "dimer = F.System(mp_dict=full_qm.electrostatic_multipoles, nat_reference=3)"
   ]
  },
  {
   "cell_type": "code",
   "execution_count": 28,
   "metadata": {},
   "outputs": [
    {
     "name": "stdout",
     "output_type": "stream",
     "text": [
      "(-8.1159716, -7.8840268)\n",
      "-15.9999984\n"
     ]
    }
   ],
   "source": [
    "dimer.dict()\n",
    "first, second = dimer.fragments\n",
    "print(first.Q(), second.Q())\n",
    "print(first.Q()+second.Q())"
   ]
  },
  {
   "cell_type": "code",
   "execution_count": 29,
   "metadata": {},
   "outputs": [
    {
     "name": "stdout",
     "output_type": "stream",
     "text": [
      "<BigDFT.Fragments.Fragment instance at 0x10a8431b8>\n"
     ]
    }
   ],
   "source": [
    "print(first)"
   ]
  },
  {
   "cell_type": "code",
   "execution_count": 30,
   "metadata": {},
   "outputs": [],
   "source": [
    "from BigDFT import PostProcessing as PP"
   ]
  },
  {
   "cell_type": "code",
   "execution_count": 31,
   "metadata": {},
   "outputs": [],
   "source": [
    "btool = PP.BigDFTool()"
   ]
  },
  {
   "cell_type": "code",
   "execution_count": 33,
   "metadata": {},
   "outputs": [],
   "source": [
    "btool.get_fragment_multipoles(full_qm)"
   ]
  }
 ],
 "metadata": {
  "kernelspec": {
   "display_name": "Python 2",
   "language": "python",
   "name": "python2"
  },
  "language_info": {
   "codemirror_mode": {
    "name": "ipython",
    "version": 2
   },
   "file_extension": ".py",
   "mimetype": "text/x-python",
   "name": "python",
   "nbconvert_exporter": "python",
   "pygments_lexer": "ipython2",
   "version": "2.7.15"
  }
 },
 "nbformat": 4,
 "nbformat_minor": 2
}
