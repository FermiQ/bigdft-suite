{
 "cells": [
  {
   "cell_type": "markdown",
   "metadata": {},
   "source": [
    "# Running a wavelet computation on a $CH_4$ molecule\n",
    "\n",
    "The purpose of this lesson is to get familiar with the basic variables needed to run a wavelet computation in isolated boundary conditions. At the end of the lesson, you can run a wavelet run, check the amount of needed memory and understand the important part of the output.\n",
    "We propose to use python in a Jupyter notebook to simplify the use of the `bigdft` executable and to have tools to combine pre-processing, execution, post-processing and analysis.\n",
    "\n",
    "## Introduction: Running the code\n",
    "\n",
    "`bigdft` uses dictionaries (a collection of pairs of key and value) for the input and output which are serialized by means of the yaml format.\n",
    "For an explanation of the yaml format, you can read the file [Tutorial-yaml.ipynb](./Tutorial-yaml.ipynb).\n",
    "\n",
    "So it is equivalent to use python dictionary as:"
   ]
  },
  {
   "cell_type": "code",
   "execution_count": 1,
   "metadata": {},
   "outputs": [],
   "source": [
    "from BigDFT import Calculators as calc\n",
    "\n",
    "inp = { 'dft': { 'hgrids': 0.55, 'rmult': [3.5, 9.0], 'nrepmax': 'accurate' } }"
   ]
  },
  {
   "cell_type": "markdown",
   "metadata": {},
   "source": [
    "Beside a default input file called **input.yaml**, BigDFT requires the atomic positions for the studied system and optionaly the pseudo-potential files. \n",
    "For the following tutorial, a methane molecule will be used. \n",
    "The position file is a simple XYZ file named [CH4_posinp.xyz](CH4_posinp.xyz):\n",
    "<pre>\n",
    "5  angstroemd0  # methane molecule\n",
    "free\n",
    "C        0           0           0\n",
    "H       -0.63169789 -0.63169789 -0.63169789\n",
    "H       +0.63169789 +0.63169789 -0.63169789\n",
    "H       +0.63169789 -0.63169789 +0.63169789\n",
    "H       -0.63169789 +0.63169789 +0.63169789\n",
    "</pre>\n",
    "\n",
    "We can copy this file into the default posinp file **posinp.xyz** as ``cp CH4_posinp.xyzz posinp.xyz`` or indicate it \n",
    "in the input dictionary:"
   ]
  },
  {
   "cell_type": "code",
   "execution_count": 2,
   "metadata": {},
   "outputs": [],
   "source": [
    "inp['posinp'] = 'CH4_posinp.xyz'"
   ]
  },
  {
   "cell_type": "markdown",
   "metadata": {},
   "source": [
    "The pseudo-potential files are following the ABINIT structure and are of GTH or HGH types \n",
    "(see the [pseudo-potential file page](https://www.abinit.org/psp-tables) on the\n",
    "ABINIT website for several LDA and GGA files and the\n",
    "[page](https://www.cp2k.org/static/potentials/) on the CP2K server for HGH pseudo for several functionals). \n",
    "The following files may be used for this tutorial: [**psppar.C**](./psppar.C) and [**psppar.H**](./psppar.H).\n",
    "\n",
    "Warning, to run properly, the pseudo-potential files must be **psppar.XX** where XX is the symbol used in the position file.\n",
    "The other files can have user-defined names, as explained in [Tutorial-N2.ipynb](./Tutorial-N2.ipynb) lesson.\n",
    "If the code has been compiled with MPI capabilities (which is enabled by default), running BigDFT on several cores is as easy as run\n",
    "it as a serial job. There is no need to change anything in the input files.\n",
    "\n",
    "Running BigDFT is done using the ``bigdft`` executable in a standard Unix way.\n",
    "In this notebook, we use the SystemCalculator class:"
   ]
  },
  {
   "cell_type": "code",
   "execution_count": 3,
   "metadata": {},
   "outputs": [
    {
     "name": "stdout",
     "output_type": "stream",
     "text": [
      "Initialize a Calculator with OMP_NUM_THREADS=1 and command /local/deutsch/Forge/BigDFT/build-mpif90/install/bin/bigdft\n",
      "Creating the yaml input file \"input.yaml\"\n",
      "Executing command:  /local/deutsch/Forge/BigDFT/build-mpif90/install/bin/bigdft\n"
     ]
    }
   ],
   "source": [
    "study = calc.SystemCalculator() #Create a calculator\n",
    "ch4 = study.run(input=inp)"
   ]
  },
  {
   "cell_type": "markdown",
   "metadata": {},
   "source": [
    "*ch4* is the instance of the class Logfile which can handle easily all information coming from the output file **log.yaml**.\n",
    "Then we can display some information as:"
   ]
  },
  {
   "cell_type": "code",
   "execution_count": 4,
   "metadata": {},
   "outputs": [
    {
     "name": "stdout",
     "output_type": "stream",
     "text": [
      "- Atom types:\n",
      "  - C\n",
      "  - H\n",
      "- Cell: Free BC\n",
      "- Convergence criterion on forces: 0.0\n",
      "- Max val of Forces: 0.0214711014196\n",
      "- Energy: -8.02521436642915\n",
      "- Symmetry group: disabled\n",
      "- fermi_level: -0.3414840466884\n",
      "- Number of Atoms: 5\n",
      "- Convergence criterion on Wfn. Residue: 0.0001\n",
      "- No. of KS orbitals:\n",
      "  - 4\n",
      "\n"
     ]
    }
   ],
   "source": [
    "print ch4"
   ]
  },
  {
   "cell_type": "markdown",
   "metadata": {},
   "source": [
    "## The wavelet basis set, a convergence study\n",
    "The wavelet is a systematic basis set (as plane waves are), which means than one can increase arbitrarily the accuracy of the results by varying some parameters which are defined in the `dft` dictionary (`inp['dft']`).\n",
    "\n",
    "![CH4-grid](http://bigdft.org/images/7/72/CH4-grid.png)\n",
    "\n",
    "**`hgrids`**\n",
    "      are used to set up the basis set. In free boundary conditions, the basis set is characterised\n",
    "      by a spatial expansion and a grid step, as shown in the side figure.\n",
    "      There is ''one float value'' describing the ''grid steps'' in the three space directions (''i.e.'' x, y and z)\n",
    "      or a 3D array is also accepted.\n",
    "      These values are in bohr unit and typically range from 0.3 to 0.65. The\n",
    "      harder the pseudo-potential, the lower value should be set up.\n",
    "      These values are called `hgrids`.\n",
    "        \n",
    "**`rmult`**\n",
    "      contains an array of two float values that are two multiplying factors.\n",
    "      They multiply quantities that are chemical species dependent.\n",
    "      The first factor is the most important since it\n",
    "      describes ''the spatial expansion'' of the basis set (in yellow on the figure beside).\n",
    "      Indeed the basis set is defined as a set of real space points with non-zero values.\n",
    "      These points are on a global regular mesh and located inside spheres centered on atoms.\n",
    "      The first multiplying factor is called `crmult` for Coarse grid Radius MULTiplier.\n",
    "      Increasing it means that further spatial expansion is possible for the wavefunctions. \n",
    "      Typical values are 5 to 7.\n",
    "      The second one called `frmult` for Fine grid Radius MULTiplier is related to the fine resolution.\n",
    "      This parameter is less pertinent for the convergence of energy and can be ignored.\n",
    "      It is possible to indicate only one float value, the `crmult` parameter."
   ]
  },
  {
   "cell_type": "markdown",
   "metadata": {},
   "source": [
    "## Exercise \n",
    "\n",
    "Run BigDFT for the following values of *hgrid* and *crmult* and plot the total energy convergence versus `hgrids`. \n",
    "The final total energy can be retrieved using th emethod `energy` from the result of the command `study.run`, the value is in Hartree. \n",
    "A comprehensive explanation of the screen output will be given later in this tutorial.\n",
    "\n",
    "<pre>\n",
    "hgrids = 0.55bohr / crmult = 3.5\n",
    "hgrids = 0.50bohr / crmult = 4.0\n",
    "hgrids = 0.45bohr / crmult = 4.5\n",
    "hgrids = 0.40bohr / crmult = 5.0\n",
    "hgrids = 0.35bohr / crmult = 5.5\n",
    "hgrids = 0.30bohr / crmult = 6.0\n",
    "hgrids = 0.25bohr / crmult = 6.5\n",
    "hgrids = 0.20bohr / crmult = 7.0</pre>\n",
    "\n",
    "\n",
    "This precision plot shows the systematicity of the wavelet basis set: by improving the basis set, we improve the value of the total energy.\n",
    "\n",
    "To go further, one can vary `hgrids` and `crmult` independently.\n",
    "This is shown in the previous figure with the grey line. \n",
    "The shape of the convergence curve shows that both these parameters should be modified simoultaneously in order to increase accuracy. \n",
    "Indeed, there are two kind of errors arising from the basis set. \n",
    "The first one is due to the fact the basis set can't account for quickly varying wavefunctions (value of `hgrids` should be decreased). \n",
    "The second error is the fact that the wavefunctions are constrained to stay inside the defined basis set (output values are zero). \n",
    "In the last case `crmult` should be raised."
   ]
  },
  {
   "cell_type": "code",
   "execution_count": 5,
   "metadata": {},
   "outputs": [
    {
     "name": "stdout",
     "output_type": "stream",
     "text": [
      "hgrids= 0.55 crmult= 3.5\n",
      "Creating the yaml input file \"input.yaml\"\n",
      "Executing command:  /local/deutsch/Forge/BigDFT/build-mpif90/install/bin/bigdft\n",
      "hgrids= 0.5 crmult= 4.0\n",
      "Creating the yaml input file \"input.yaml\"\n",
      "Executing command:  /local/deutsch/Forge/BigDFT/build-mpif90/install/bin/bigdft\n",
      "hgrids= 0.45 crmult= 4.5\n",
      "Creating the yaml input file \"input.yaml\"\n",
      "Executing command:  /local/deutsch/Forge/BigDFT/build-mpif90/install/bin/bigdft\n",
      "hgrids= 0.4 crmult= 5.0\n",
      "Creating the yaml input file \"input.yaml\"\n",
      "Executing command:  /local/deutsch/Forge/BigDFT/build-mpif90/install/bin/bigdft\n",
      "hgrids= 0.35 crmult= 5.5\n",
      "Creating the yaml input file \"input.yaml\"\n",
      "Executing command:  /local/deutsch/Forge/BigDFT/build-mpif90/install/bin/bigdft\n",
      "hgrids= 0.3 crmult= 6.0\n",
      "Creating the yaml input file \"input.yaml\"\n",
      "Executing command:  /local/deutsch/Forge/BigDFT/build-mpif90/install/bin/bigdft\n",
      "hgrids= 0.25 crmult= 6.5\n",
      "Creating the yaml input file \"input.yaml\"\n",
      "Executing command:  /local/deutsch/Forge/BigDFT/build-mpif90/install/bin/bigdft\n",
      "hgrids= 0.2 crmult= 7.0\n",
      "Creating the yaml input file \"input.yaml\"\n",
      "Executing command:  /local/deutsch/Forge/BigDFT/build-mpif90/install/bin/bigdft\n",
      "hgrids= 0.5 crmult= 3.5\n",
      "Creating the yaml input file \"input.yaml\"\n",
      "Executing command:  /local/deutsch/Forge/BigDFT/build-mpif90/install/bin/bigdft\n",
      "hgrids= 0.45 crmult= 3.5\n",
      "Creating the yaml input file \"input.yaml\"\n",
      "Executing command:  /local/deutsch/Forge/BigDFT/build-mpif90/install/bin/bigdft\n",
      "hgrids= 0.4 crmult= 3.5\n",
      "Creating the yaml input file \"input.yaml\"\n",
      "Executing command:  /local/deutsch/Forge/BigDFT/build-mpif90/install/bin/bigdft\n",
      "hgrids= 0.35 crmult= 3.5\n",
      "Creating the yaml input file \"input.yaml\"\n",
      "Executing command:  /local/deutsch/Forge/BigDFT/build-mpif90/install/bin/bigdft\n",
      "hgrids= 0.3 crmult= 3.5\n",
      "Creating the yaml input file \"input.yaml\"\n",
      "Executing command:  /local/deutsch/Forge/BigDFT/build-mpif90/install/bin/bigdft\n",
      "hgrids= 0.25 crmult= 3.5\n",
      "Creating the yaml input file \"input.yaml\"\n",
      "Executing command:  /local/deutsch/Forge/BigDFT/build-mpif90/install/bin/bigdft\n",
      "hgrids= 0.2 crmult= 3.5\n",
      "Creating the yaml input file \"input.yaml\"\n",
      "Executing command:  /local/deutsch/Forge/BigDFT/build-mpif90/install/bin/bigdft\n"
     ]
    }
   ],
   "source": [
    "results = []\n",
    "Hgrids = []\n",
    "hgrids = 0.55\n",
    "crmult = 3.5\n",
    "#First curve varying both hgrids and crmult\n",
    "while hgrids >= 0.20:\n",
    "    inp['dft']['hgrids'] = hgrids\n",
    "    inp['dft']['rmult'] = crmult\n",
    "    print 'hgrids=',hgrids,'crmult=',crmult\n",
    "    results.append(study.run(input=inp))\n",
    "    Hgrids.append(hgrids)\n",
    "    hgrids -= 0.05\n",
    "    crmult += 0.5\n",
    "\n",
    "#Second curve varying only hgrids with crmult=3.5\n",
    "crmult = 3.5\n",
    "hgrids = 0.55\n",
    "res2 = [ results[0] ]\n",
    "while hgrids > 0.25:\n",
    "    hgrids -= 0.05\n",
    "    inp['dft']['hgrids'] = hgrids\n",
    "    inp['dft']['rmult'] = crmult\n",
    "    print 'hgrids=',hgrids,'crmult=',crmult\n",
    "    res2.append(study.run(input=inp))"
   ]
  },
  {
   "cell_type": "code",
   "execution_count": 6,
   "metadata": {},
   "outputs": [
    {
     "data": {
      "image/png": "[encoded data removed]",
      "text/plain": [
       "<matplotlib.figure.Figure at 0x7f5bd0243490>"
      ]
     },
     "metadata": {},
     "output_type": "display_data"
    }
   ],
   "source": [
    "import matplotlib.pyplot as plt\n",
    "import numpy as np\n",
    "%matplotlib inline\n",
    "\n",
    "HtoeV = 27.21138386 #Conversion Hartree to meV\n",
    "\n",
    "emin = HtoeV*results[-1].energy\n",
    "ener = [ HtoeV*l.energy - emin for l in results ]\n",
    "\n",
    "ener2 = [ HtoeV*l.energy - emin for l in res2 ]\n",
    "\n",
    "plt.figure(figsize=(15,7))\n",
    "# Plot with matplotlib\n",
    "plt.plot(Hgrids, ener,  marker='o', ls='-', color='#ff0000', label='varying hgrids+crmult')  \n",
    "plt.plot(Hgrids, ener2, marker='s', ls='-', color='#888888', label='crmult=3.5')  \n",
    "\n",
    "plt.yscale('log')\n",
    "plt.xlim(0.55,0.25)\n",
    "plt.xlabel('Grid step (Bohr)')\n",
    "plt.ylabel('Total energy precision (eV)')\n",
    "plt.title('Total energy convergence versus the grid step for the CH$_4$ molecule')\n",
    "plt.legend(loc=3)\n",
    "plt.show()"
   ]
  },
  {
   "cell_type": "markdown",
   "metadata": {},
   "source": [
    "## Fine tuning of the basis set\n",
    "The multi-scale property of the wavelets is used in BigDFT and a two level grid is used for the calculation. \n",
    "We've seen previously the coarse grid definition using the the multiplying factor `rmult`. \n",
    "The second multiplying value on this line of the input file is used for the fine grid and is called `frmult`. \n",
    "Like `crmult`, it defines a factor for the radii used to define the fine grid region where the number of degrees of freedom\n",
    "is indeed eight times the one of the coarse grid. It allows to define region\n",
    "near the atoms where the wavefunctions are allowed to vary more\n",
    "quickly. Typical values for this factor are 8 to 10. It's worth to\n",
    "note that even if the value of the multiplier is greater than `crmult` it defines a smaller region due to the fact that\n",
    "the units which are associated to these radii are significantly different.\n",
    "\n",
    "The physical quantities used by `crmult` and `frmult` can be changed in the pseudo-potential by adding\n",
    "an additional line with two values in bohr. The two values that the\n",
    "code is using (either computed or read from the pseudo-potential files) are output in the following way in the screen output:\n",
    "        \n",
    "<pre>\n",
    " - Symbol                              : C #Type No.  01\n",
    "   No. of Electrons                    :  4\n",
    "   No. of Atoms                        :  1\n",
    "   Radii of active regions (AU):\n",
    "     Coarse                            :  1.58437\n",
    "     Fine                              :  0.30452\n",
    "     Coarse PSP                        :  1.30510\n",
    "     Source                            : Hard-Coded\n",
    " - Symbol                              : H #Type No.  02\n",
    "   No. of Electrons                    :  1\n",
    "   No. of Atoms                        :  4\n",
    "   Radii of active regions (AU):\n",
    "     Coarse                            :  1.46342\n",
    "     Fine                              :  0.20000\n",
    "     Coarse PSP                        :  0.00000\n",
    "     Source                            : Hard-Coded</pre>"
   ]
  },
  {
   "cell_type": "markdown",
   "metadata": {},
   "source": [
    "## Analysing the output\n",
    "\n",
    "The output of BigDFT is divided into four parts:\n",
    "* Input values are printed out, including a summary of the\n",
    "  different input files (DFT calculation parameters, atom positions,\n",
    "  pseudo-potential values...);\n",
    "* Input wavefunction creation, usually called \"input guess\";\n",
    "* The SCF (Self-Consistent Field) loop itself;\n",
    "* The post SCF calculations including the forces calculation and\n",
    "  other possible treatment like a finite size effect estimation or a\n",
    "  virtual states determination.\n",
    "\n",
    "### The system parameters output\n",
    "All the read values from the different input files are printed\n",
    "out at the program startup. Some additional values are provided there\n",
    "also, like the memory consumption. Values are given for one process,\n",
    "which corresponds to one core in an MPI environment."
   ]
  },
  {
   "cell_type": "code",
   "execution_count": 7,
   "metadata": {},
   "outputs": [
    {
     "name": "stdout",
     "output_type": "stream",
     "text": [
      "Accumulated memory requirements during principal run stages (MiB.KiB): {Density Construction: 23.723,\n",
      "  Hamiltonian application: 23.922, Kernel calculation: 39.271, Orbitals Orthonormalization: 23.922,\n",
      "  Poisson Solver: 36.205}\n",
      "Estimated Memory Peak (MB): 39\n",
      "Memory requirements for principal quantities (MiB.KiB): {All (distributed) orbitals: 0.749,\n",
      "  Full Uncompressed (ISF) grid: 3.224, Nonlocal Pseudopotential Arrays: 0.46, Single orbital: 0.94,\n",
      "  Subspace Matrix: 0.1, Wavefunction storage size: 5.123, Workspaces storage size: 0.211}\n",
      "\n",
      "Estimated Memory Peak 39 MB\n"
     ]
    }
   ],
   "source": [
    "import yaml\n",
    "print yaml.dump(ch4.memory)\n",
    "\n",
    "print 'Estimated Memory Peak',ch4.memory_peak,'MB'"
   ]
  },
  {
   "cell_type": "markdown",
   "metadata": {},
   "source": [
    "The overall memory requirement needed for this calculation is thus: 39 MB (Estimated Memory Peak) which is provided by the`memory_peak` attribute.\n",
    "\n",
    "In this example, the memory requirement is given for one process run and the peak of memory will be in the initialisation during the Kernel calculation, while the SCF loop will reach 36MB during the Poisson solver calculation. For bigger systems, with more orbitals, the peak of memory is usually reached during the Hamiltonian application.\n",
    "\n",
    "### Exercise\n",
    "\n",
    "Run a script to estimate the memory requirement of a run before submitting it to the queue system of a super-computer\n",
    "using the `dry_run` option.\n",
    "\n",
    "It reads the same input, and is thus convenient to validate inputs.\n",
    "\n",
    "Try several values from 1 to 6 and discuss the memory distribution."
   ]
  },
  {
   "cell_type": "code",
   "execution_count": 8,
   "metadata": {},
   "outputs": [
    {
     "name": "stdout",
     "output_type": "stream",
     "text": [
      "Initialize a Calculator with OMP_NUM_THREADS=1 and command /local/deutsch/Forge/BigDFT/build-mpif90/install/bin/bigdft\n",
      "Creating the yaml input file \"input.yaml\"\n",
      "Executing command:   /local/deutsch/Forge/BigDFT/build-mpif90/install/bin/bigdft-tool -l -n 1\n",
      "Accumulated memory requirements during principal run stages (MiB.KiB):\n",
      "  Density Construction: 240.179\n",
      "  Hamiltonian application: 242.635\n",
      "  Kernel calculation: 350.242\n",
      "  Orbitals Orthonormalization: 242.635\n",
      "  Poisson Solver: 347.662\n",
      "Estimated Memory Peak (MB): 350\n",
      "Memory requirements for principal quantities (MiB.KiB):\n",
      "  All (distributed) orbitals: 9.35\n",
      "  Full Uncompressed (ISF) grid: 29.538\n",
      "  Nonlocal Pseudopotential Arrays: 0.424\n",
      "  Single orbital: 1.172\n",
      "  Subspace Matrix: 0.1\n",
      "  Wavefunction storage size: 65.402\n",
      "  Workspaces storage size: 2.73\n",
      "\n",
      "Creating the yaml input file \"input.yaml\"\n",
      "Executing command:   /local/deutsch/Forge/BigDFT/build-mpif90/install/bin/bigdft-tool -l -n 2\n",
      "Accumulated memory requirements during principal run stages (MiB.KiB):\n",
      "  Density Construction: 240.179\n",
      "  Hamiltonian application: 242.635\n",
      "  Kernel calculation: 350.242\n",
      "  Orbitals Orthonormalization: 242.635\n",
      "  Poisson Solver: 347.662\n",
      "Estimated Memory Peak (MB): 350\n",
      "Memory requirements for principal quantities (MiB.KiB):\n",
      "  All (distributed) orbitals: 9.35\n",
      "  Full Uncompressed (ISF) grid: 29.538\n",
      "  Nonlocal Pseudopotential Arrays: 0.424\n",
      "  Single orbital: 1.172\n",
      "  Subspace Matrix: 0.1\n",
      "  Wavefunction storage size: 65.402\n",
      "  Workspaces storage size: 2.73\n",
      "\n",
      "Creating the yaml input file \"input.yaml\"\n",
      "Executing command:   /local/deutsch/Forge/BigDFT/build-mpif90/install/bin/bigdft-tool -l -n 3\n",
      "Accumulated memory requirements during principal run stages (MiB.KiB):\n",
      "  Density Construction: 240.179\n",
      "  Hamiltonian application: 242.635\n",
      "  Kernel calculation: 350.242\n",
      "  Orbitals Orthonormalization: 242.635\n",
      "  Poisson Solver: 347.662\n",
      "Estimated Memory Peak (MB): 350\n",
      "Memory requirements for principal quantities (MiB.KiB):\n",
      "  All (distributed) orbitals: 9.35\n",
      "  Full Uncompressed (ISF) grid: 29.538\n",
      "  Nonlocal Pseudopotential Arrays: 0.424\n",
      "  Single orbital: 1.172\n",
      "  Subspace Matrix: 0.1\n",
      "  Wavefunction storage size: 65.402\n",
      "  Workspaces storage size: 2.73\n",
      "\n",
      "Creating the yaml input file \"input.yaml\"\n",
      "Executing command:   /local/deutsch/Forge/BigDFT/build-mpif90/install/bin/bigdft-tool -l -n 4\n",
      "Accumulated memory requirements during principal run stages (MiB.KiB):\n",
      "  Density Construction: 240.179\n",
      "  Hamiltonian application: 242.635\n",
      "  Kernel calculation: 350.242\n",
      "  Orbitals Orthonormalization: 242.635\n",
      "  Poisson Solver: 347.662\n",
      "Estimated Memory Peak (MB): 350\n",
      "Memory requirements for principal quantities (MiB.KiB):\n",
      "  All (distributed) orbitals: 9.35\n",
      "  Full Uncompressed (ISF) grid: 29.538\n",
      "  Nonlocal Pseudopotential Arrays: 0.424\n",
      "  Single orbital: 1.172\n",
      "  Subspace Matrix: 0.1\n",
      "  Wavefunction storage size: 65.402\n",
      "  Workspaces storage size: 2.73\n",
      "\n",
      "Creating the yaml input file \"input.yaml\"\n",
      "Executing command:   /local/deutsch/Forge/BigDFT/build-mpif90/install/bin/bigdft-tool -l -n 5\n",
      "Accumulated memory requirements during principal run stages (MiB.KiB):\n",
      "  Density Construction: 240.179\n",
      "  Hamiltonian application: 242.635\n",
      "  Kernel calculation: 350.242\n",
      "  Orbitals Orthonormalization: 242.635\n",
      "  Poisson Solver: 347.662\n",
      "Estimated Memory Peak (MB): 350\n",
      "Memory requirements for principal quantities (MiB.KiB):\n",
      "  All (distributed) orbitals: 9.35\n",
      "  Full Uncompressed (ISF) grid: 29.538\n",
      "  Nonlocal Pseudopotential Arrays: 0.424\n",
      "  Single orbital: 1.172\n",
      "  Subspace Matrix: 0.1\n",
      "  Wavefunction storage size: 65.402\n",
      "  Workspaces storage size: 2.73\n",
      "\n",
      "Creating the yaml input file \"input.yaml\"\n",
      "Executing command:   /local/deutsch/Forge/BigDFT/build-mpif90/install/bin/bigdft-tool -l -n 6\n",
      "Accumulated memory requirements during principal run stages (MiB.KiB):\n",
      "  Density Construction: 240.179\n",
      "  Hamiltonian application: 242.635\n",
      "  Kernel calculation: 350.242\n",
      "  Orbitals Orthonormalization: 242.635\n",
      "  Poisson Solver: 347.662\n",
      "Estimated Memory Peak (MB): 350\n",
      "Memory requirements for principal quantities (MiB.KiB):\n",
      "  All (distributed) orbitals: 9.35\n",
      "  Full Uncompressed (ISF) grid: 29.538\n",
      "  Nonlocal Pseudopotential Arrays: 0.424\n",
      "  Single orbital: 1.172\n",
      "  Subspace Matrix: 0.1\n",
      "  Wavefunction storage size: 65.402\n",
      "  Workspaces storage size: 2.73\n",
      "\n",
      "mpi= 1 Estimated memory peak (MB) 350\n",
      "mpi= 2 Estimated memory peak (MB) 350\n",
      "mpi= 3 Estimated memory peak (MB) 350\n",
      "mpi= 4 Estimated memory peak (MB) 350\n",
      "mpi= 5 Estimated memory peak (MB) 350\n",
      "mpi= 6 Estimated memory peak (MB) 350\n"
     ]
    }
   ],
   "source": [
    "study = calc.SystemCalculator(dry_run=True) #Create a calculator\n",
    "peak = []\n",
    "for i in range(1,7):\n",
    "    study.set_global_option('dry_mpi',i)\n",
    "    dry = study.run(input=inp)\n",
    "    peak.append(dry.memory_peak)\n",
    "    print yaml.dump(dry.memory,default_flow_style=False)\n",
    "for i,p in enumerate(peak):\n",
    "    print \"mpi=\",i+1,\"Estimated memory peak (MB)\",p"
   ]
  },
  {
   "cell_type": "markdown",
   "metadata": {},
   "source": [
    "BigDFT distributes the orbitals over the available processes.\n",
    "The value `All (distributed) orbitals` does not decrease anymore after 4 processes since there are only 4 bands in our example). \n",
    "This means that running a parallel job with more processors than orbitals will result in a bad speedup. \n",
    "The number of cores involved in the calculation might be however increased via OMP parallelisation, as it is indicated in [Scalability with MPI and OpenMP](./Tutorial-Scalability.ipynb) lesson.\n",
    "\n",
    "\n",
    "## The input guess\n",
    "The initial wavefunctions in BigDFT are calculated using the atomic orbitals for all the electrons of the s, p,\n",
    "d shells, obtained from the solution of the PSP self-consistent equation for the isolated atom."
   ]
  },
  {
   "cell_type": "code",
   "execution_count": 9,
   "metadata": {},
   "outputs": [
    {
     "name": "stdout",
     "output_type": "stream",
     "text": [
      "Accuracy estimation for this run: {Convergence Criterion: 0.00102, Energy: 0.00408}\n",
      "Atomic Input Orbital Generation:\n",
      "- Atom Type: C\n",
      "  Electronic configuration:\n",
      "    p: [2/3, 2/3, 2/3]\n",
      "    s: [2.0]\n",
      "- Atom Type: H\n",
      "  Electronic configuration:\n",
      "    s: [1.0]\n",
      "Deviation from normalization: 0.000283\n",
      "EKS: -7.159653160338806\n",
      "Energies: {EH: 15.0389122216, EXC: -3.14884745743, Ekin: 7.21088056472, Enl: 0.774148885702,\n",
      "  Epot: -10.5898361897, EvXC: -4.11747215738}\n",
      "Expected kinetic energy: 7.2067994418\n",
      "GPU acceleration: false\n",
      "IG wavefunctions defined: true\n",
      "Input Guess Overlap Matrices: {Calculated: true, Diagonalized: true}\n",
      "Orbitals:\n",
      "- {e: -0.6493539153869, f: 2.0}\n",
      "- {e: -0.3625626366055, f: 2.0}\n",
      "- {e: -0.3624675839372, f: 2.0}\n",
      "- {e: -0.3624675839372, f: 2.0}\n",
      "- {e: 0.3980916655348, f: 0.0}\n",
      "- {e: 0.3983087771728, f: 0.0}\n",
      "- {e: 0.3983087771728, f: 0.0}\n",
      "- {e: 0.5993393223683, f: 0.0}\n",
      "Poisson Solver:\n",
      "  BC: Free\n",
      "  Box: [75, 75, 75]\n",
      "  MPI tasks: 1\n",
      "Total No. of Atomic Input Orbitals: 8\n",
      "Total electronic charge: 7.999998911585\n",
      "Wavelet conversion succeeded: true\n",
      "\n"
     ]
    }
   ],
   "source": [
    "print yaml.dump(ch4.log['Input Hamiltonian'])"
   ]
  },
  {
   "cell_type": "markdown",
   "metadata": {},
   "source": [
    "The corresponding hamiltonian is then diagonalised and the\n",
    "n_band (``norb`` in the code notations) lower eigenfunctions are used to start the SCF loop. \n",
    "BigDFT outputs the eigenvalues, in the following example, 8 electrons were used in the\n",
    "input guess and the resulting first fourth eigenfunctions will be used\n",
    "for a four band calculation.\n",
    "\n",
    "<pre>\n",
    "Input Guess Overlap Matrices: {Calculated: true, Diagonalized: true}\n",
    "Orbitals:\n",
    "- {e: -0.6493539153869, f: 2.0}\n",
    "- {e: -0.3625626366055, f: 2.0}\n",
    "- {e: -0.3624675839372, f: 2.0}\n",
    "- {e: -0.3624675839372, f: 2.0} -- Last InputGuess eval, H-L IG gap:  20.6959 eV\n",
    "- {e: 0.3980916655348, f: 0.0}  -- First virtual eval\n",
    "- {e: 0.3983087771728, f: 0.0}\n",
    "- {e: 0.3983087771728, f: 0.0}\n",
    "- {e: 0.5993393223683, f: 0.0}\n",
    "</pre>\n",
    "\n",
    "## The SCF loop\n",
    "The SCF loop follows a direct minimisation scheme and is made of the following steps:\n",
    "* Calculate the charge density from the previous wavefunctions.\n",
    "* Apply the Poisson solver to obtain the Hartree potential from the\n",
    "  charges and calculate the exchange-correlation energy and the energy\n",
    "  of the XC potential thanks to the chosen functional.\n",
    "* Apply the resulting hamiltonian on the current wavefunctions.\n",
    "* Precondition the result and apply a steepest descent or a DIIS\n",
    "  history method. This depends on ``idsx``, not specified in the\n",
    "  present input. It is therefore set to the default\n",
    "  value, which is 6 (for an history of 6 previous set of vectors. To perform a SD \n",
    "  minimisation one should add \"``idsx: 0``\" to the *dft* dictionary of *inp*.\n",
    "* Orthogonalise the new wavefunctions.\n",
    "\n",
    "Finally the total energy and the square norm of the residue\n",
    "(gnrm) are printed out. The *gnrm* value is the stopping criterion. \n",
    "It can be chosen using `gnrm_cv` in the *dft* dictionary. \n",
    "The default value (1e-4) is used here and a good value can reach 1e-5."
   ]
  },
  {
   "cell_type": "code",
   "execution_count": 10,
   "metadata": {},
   "outputs": [
    {
     "name": "stdout",
     "output_type": "stream",
     "text": [
      "gnrm_cv by default 0.0001\n"
     ]
    }
   ],
   "source": [
    "print 'gnrm_cv by default',ch4.gnrm_cv"
   ]
  },
  {
   "cell_type": "markdown",
   "metadata": {},
   "source": [
    "The minimisation scheme coupled with DIIS (and thanks to the good preconditioner) \n",
    "is a very efficient way to obtain convergence for systems with a gap, even with a very small one. \n",
    "Usual run should reach the 1e-4 stop criterion within 15 to 25 iterations. \n",
    "Otherwise, there is an issue with the system, either there is no gap, \n",
    "or the input guess is too symmetric due to the LCAO diagonalization, specific spin polarization..."
   ]
  },
  {
   "cell_type": "code",
   "execution_count": 11,
   "metadata": {},
   "outputs": [
    {
     "data": {
      "image/png": "[encoded data removed]",
      "text/plain": [
       "<matplotlib.figure.Figure at 0x7f5bd0243190>"
      ]
     },
     "metadata": {},
     "output_type": "display_data"
    }
   ],
   "source": [
    "ch4.wfn_plot()"
   ]
  },
  {
   "cell_type": "markdown",
   "metadata": {},
   "source": [
    "### The post-SCF treatments\n",
    "At the end of the SCF loop, a diagonalisation of the current hamiltonian is done to obtain Kohn-Sham eigenfunctions. The\n",
    "corresponding eigenvalues are also given."
   ]
  },
  {
   "cell_type": "code",
   "execution_count": 12,
   "metadata": {},
   "outputs": [
    {
     "name": "stdout",
     "output_type": "stream",
     "text": [
      "[BandArray([[-0.6164673 , -0.34150619, -0.34148405, -0.34148405]])]\n"
     ]
    }
   ],
   "source": [
    "print ch4.evals"
   ]
  },
  {
   "cell_type": "markdown",
   "metadata": {},
   "source": [
    "The forces are then calculated."
   ]
  },
  {
   "cell_type": "code",
   "execution_count": 13,
   "metadata": {},
   "outputs": [
    {
     "name": "stdout",
     "output_type": "stream",
     "text": [
      "- C:\n",
      "  - -9.330684410542e-06\n",
      "  - -9.330684413021e-06\n",
      "  - -9.330684363889e-06\n",
      "- H:\n",
      "  - 0.0123963461844\n",
      "  - 0.01239634618441\n",
      "  - 0.0123963461844\n",
      "- H:\n",
      "  - -0.01234495856958\n",
      "  - -0.01234495856959\n",
      "  - 0.01230290163917\n",
      "- H:\n",
      "  - -0.01234495856958\n",
      "  - 0.01230290163918\n",
      "  - -0.0123449585696\n",
      "- H:\n",
      "  - 0.01230290163918\n",
      "  - -0.01234495856959\n",
      "  - -0.0123449585696\n",
      "\n"
     ]
    }
   ],
   "source": [
    "print yaml.dump(ch4.forces,default_flow_style=False)"
   ]
  },
  {
   "cell_type": "markdown",
   "metadata": {},
   "source": [
    "Some other post-SCF may be done depending on the parameters in the *dft* dictionary of *inp*.\n",
    "\n",
    "### Exercise\n",
    "Run `bigdft` when varying the DIIS history length and discuss the memory consumption.\n",
    "\n",
    "Reducing the DIIS history is a good way to reduce the memory consumption when one cannot increase the\n",
    "number of processes. Of course this implies more iterations in SCF loops."
   ]
  },
  {
   "cell_type": "markdown",
   "metadata": {},
   "source": [
    "## Adding a charge\n",
    "BigDFT can treat charged system without the requirement to add a compensating background like in plane waves.\n",
    "The additional charge to add to the system is set in the *dft* dictionary with the *qcharge* key. \n",
    "In the following example an electron has been added (-1):"
   ]
  },
  {
   "cell_type": "code",
   "execution_count": 14,
   "metadata": {},
   "outputs": [],
   "source": [
    "inp3 = {}\n",
    "inp3['dft'] = { 'hgrids': 0.55, 'nrepmax': 'accurate' }\n",
    "inp3['posinp'] = 'CH3-_posinp.xyz'"
   ]
  },
  {
   "cell_type": "markdown",
   "metadata": {},
   "source": [
    "### Exercise \n",
    "Remove the last hydrogen atom in the previous methane example and modify to add an electron. \n",
    "Then run BigDFT for an electronic convergence.\n",
    "\n",
    "One can notice that the total charge in the system is indeed -8 thanks to the additional charge. \n",
    "The convergence rate is still good for this CH$_3^-$ radical since it is a closed shell system."
   ]
  },
  {
   "cell_type": "code",
   "execution_count": 15,
   "metadata": {},
   "outputs": [
    {
     "name": "stdout",
     "output_type": "stream",
     "text": [
      "Initialize a Calculator with OMP_NUM_THREADS=1 and command /local/deutsch/Forge/BigDFT/build-mpif90/install/bin/bigdft\n",
      "Creating the yaml input file \"input.yaml\"\n",
      "Executing command:  /local/deutsch/Forge/BigDFT/build-mpif90/install/bin/bigdft\n",
      "- Atom types:\n",
      "  - C\n",
      "  - H\n",
      "- Cell: Free BC\n",
      "- Convergence criterion on forces: 0.0\n",
      "- Max val of Forces: 0.04637974703569\n",
      "- Energy: -7.325181238047086\n",
      "- Symmetry group: disabled\n",
      "- fermi_level: -0.1956187539288\n",
      "- Number of Atoms: 4\n",
      "- Convergence criterion on Wfn. Residue: 0.0001\n",
      "- No. of KS orbitals:\n",
      "  - 4\n",
      "\n"
     ]
    },
    {
     "data": {
      "image/png": "[encoded data removed]",
      "text/plain": [
       "<matplotlib.figure.Figure at 0x7f5bd018e650>"
      ]
     },
     "metadata": {},
     "output_type": "display_data"
    }
   ],
   "source": [
    "study = calc.SystemCalculator() #Use a new calculator)\n",
    "ch3m = study.run(input=inp3)\n",
    "print ch3m\n",
    "ch3m.wfn_plot()"
   ]
  },
  {
   "cell_type": "markdown",
   "metadata": {},
   "source": [
    "## Running a geometry optimisation\n",
    "In the previous charged example the geometry of the radical is kept the same than for the methane molecule, while it is likely to\n",
    "change. One can thus optimize the geometry with BigDFT.\n",
    "\n",
    "To run geometry calculations (molecular dynamics, structure\n",
    "optimisations...) one should add another dictionary *geopt* in the input which contains the method to use.\n",
    "\n",
    "In the log file, all input variables are indicated with their default value.\n",
    "\n",
    "Here, we look for a local minimum so we can use the keyword `LBFGS`.\n",
    "We can add also the stopping criteria.\n",
    "There are two stopping criteria: the first `ncount_cluster_x` being the number of loops (force evaluations) and the second `forcemax` is the maximum on forces. For isolated systems, the first criterion is well adapted\n",
    "while the second is good for periodic boundary conditions."
   ]
  },
  {
   "cell_type": "code",
   "execution_count": 16,
   "metadata": {},
   "outputs": [
    {
     "name": "stdout",
     "output_type": "stream",
     "text": [
      "Initialize a Calculator with OMP_NUM_THREADS=1 and command /local/deutsch/Forge/BigDFT/build-mpif90/install/bin/bigdft\n",
      "Creating the yaml input file \"input.yaml\"\n",
      "Executing command:  /local/deutsch/Forge/BigDFT/build-mpif90/install/bin/bigdft\n",
      "('Found', 19, 'different runs')\n"
     ]
    }
   ],
   "source": [
    "inpg = {}\n",
    "inpg['dft'] = { 'hgrids': 0.55, 'nrepmax': 'accurate' }\n",
    "inpg['posinp'] = 'CH4_posinp.xyz'\n",
    "inpg['geopt'] = { 'method': 'LBFGS', 'ncount_cluster_x': 20}\n",
    "study = calc.SystemCalculator() #Use a new calculator)\n",
    "ch4geopt = study.run(input=inpg)"
   ]
  },
  {
   "cell_type": "code",
   "execution_count": 17,
   "metadata": {},
   "outputs": [
    {
     "data": {
      "image/png": "[encoded data removed]",
      "text/plain": [
       "<matplotlib.figure.Figure at 0x7f5bcb45e310>"
      ]
     },
     "metadata": {},
     "output_type": "display_data"
    }
   ],
   "source": [
    "%matplotlib inline\n",
    "ch4geopt.geopt_plot()"
   ]
  },
  {
   "cell_type": "markdown",
   "metadata": {},
   "source": [
    "### Exercise\n",
    "Take the CH$_3^-$ radical [**CH3-_posinp.xyz**](./CH3-_posinp.xyz) file and run a geometry optimisation.\n",
    "\n",
    "The evolution of the forces during relaxation can be easily obtained using the `geop_plot` function to the result of the calculation.\n",
    "\n",
    "At each iteration, BigDFT outputs a file **posout_XXXX.xyz** in the directory **data** with the geometry of the iteration\n",
    "XXX. You can visualize it using v_sim (select all files in the \"Browser\" tab)."
   ]
  }
 ],
 "metadata": {
  "kernelspec": {
   "display_name": "Python 2",
   "language": "python",
   "name": "python2"
  },
  "language_info": {
   "codemirror_mode": {
    "name": "ipython",
    "version": 2
   },
   "file_extension": ".py",
   "mimetype": "text/x-python",
   "name": "python",
   "nbconvert_exporter": "python",
   "pygments_lexer": "ipython2",
   "version": "2.7.15rc1"
  }
 },
 "nbformat": 4,
 "nbformat_minor": 2
}
