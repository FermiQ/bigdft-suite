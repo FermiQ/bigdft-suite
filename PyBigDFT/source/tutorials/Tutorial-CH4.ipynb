{
 "cells": [
  {
   "cell_type": "markdown",
   "metadata": {},
   "source": [
    "# Running a wavelet computation on a $CH_4$ molecule\n",
    "\n",
    "The purpose of this lesson is to get familiar with the basic variables needed to run a wavelet computation in isolated boundary conditions. At the end of the lesson, you can run a wavelet run, check the amount of needed memory and understand the important part of the output.\n",
    "We propose to use python in a Jupyter notebook to simplify the use of the `bigdft` executable and to have tools to combine pre-processing, execution, post-processing and analysis.\n",
    "\n",
    "## Introduction: Running the code\n",
    "\n",
    "As already explained in the [N2 molecule tutorial](./Tutorial-N2.ipynb).`bigdft` uses dictionaries (a collection of pairs of key and value) for the input and output which are serialized by means of the yaml format.\n",
    "This allows us to manipulate dictionaries instead of files and define simple actions on them for the basic code operations, instead of manually modifying the input keys.\n",
    "\n",
    "We here introduce the `BigDFT.Inputfiles.Inpufile` class, which is a generalisation of a python dictionary and that has as class methods the _same_ methods that are available in the `BigDFT.InputActions` module.\n"
   ]
  },
  {
   "cell_type": "code",
   "execution_count": 1,
   "metadata": {
    "collapsed": false
   },
   "outputs": [],
   "source": [
    "#the dictionary below:\n",
    "inp = { 'dft': { 'hgrids': 0.55, 'rmult': [3.5, 9.0]} }\n",
    "# becomes\n",
    "from BigDFT import Inputfiles as I\n",
    "inp=I.Inputfile()\n",
    "inp.set_hgrid(0.55)\n",
    "inp.set_rmult([3.5,9.0])"
   ]
  },
  {
   "cell_type": "markdown",
   "metadata": {},
   "source": [
    "Beside a default input file called **input.yaml**, BigDFT requires the atomic positions for the studied system and optionaly the pseudo-potential files. \n",
    "For the following tutorial, a methane molecule will be used. \n",
    "The position file is a simple XYZ file named [CH4_posinp.xyz](CH4_posinp.xyz):\n",
    "<pre>\n",
    "5  angstroemd0  # methane molecule\n",
    "free\n",
    "C        0           0           0\n",
    "H       -0.63169789 -0.63169789 -0.63169789\n",
    "H       +0.63169789 +0.63169789 -0.63169789\n",
    "H       +0.63169789 -0.63169789 +0.63169789\n",
    "H       -0.63169789 +0.63169789 +0.63169789\n",
    "</pre>\n",
    "\n",
    "We can copy this file into the default posinp file **posinp.xyz** as ``cp CH4_posinp.xyzz posinp.xyz`` or indicate it \n",
    "in the input dictionary:"
   ]
  },
  {
   "cell_type": "code",
   "execution_count": 2,
   "metadata": {
    "collapsed": true
   },
   "outputs": [],
   "source": [
    "inp.set_atomic_positions('CH4_posinp.xyz')"
   ]
  },
  {
   "cell_type": "markdown",
   "metadata": {},
   "source": [
    "The pseudo-potential files are following the ABINIT structure and are of GTH or HGH types \n",
    "(see the [pseudo-potential file page](https://www.abinit.org/psp-tables) on the\n",
    "ABINIT website for several LDA and GGA files and the\n",
    "[page](https://www.cp2k.org/static/potentials/) on the CP2K server for HGH pseudo for several functionals). \n",
    "The following files may be used for this tutorial: [**psppar.C**](./psppar.C) and [**psppar.H**](./psppar.H).\n",
    "\n",
    "Warning, to run properly, the pseudo-potential files must be **psppar.XX** where XX is the symbol used in the position file.\n",
    "The other files can have user-defined names, as explained in [Tutorial-N2.ipynb](./Tutorial-N2.ipynb) lesson.\n",
    "If the code has been compiled with MPI capabilities (which is enabled by default), running BigDFT on several cores is as easy as run\n",
    "it as a serial job. There is no need to change anything in the input files.\n",
    "\n",
    "Running BigDFT is done using the ``bigdft`` executable in a standard Unix way.\n",
    "In this notebook, we use the SystemCalculator class:"
   ]
  },
  {
   "cell_type": "code",
   "execution_count": 3,
   "metadata": {
    "collapsed": false
   },
   "outputs": [
    {
     "name": "stdout",
     "output_type": "stream",
     "text": [
      "Initialize a Calculator with OMP_NUM_THREADS=2 and command /local/binaries/gfortran-fpe-1.8/install/bin/bigdft\n",
      "Creating the yaml input file \"./input.yaml\"\n",
      "Executing command:  /local/binaries/gfortran-fpe-1.8/install/bin/bigdft\n"
     ]
    }
   ],
   "source": [
    "from BigDFT import Calculators as calc\n",
    "reload(calc)\n",
    "study = calc.SystemCalculator() #Create a calculator\n",
    "ch4 = study.run(input=inp)"
   ]
  },
  {
   "cell_type": "markdown",
   "metadata": {},
   "source": [
    "*ch4* is the instance of the class Logfile which can handle easily all information coming from the output file **log.yaml**.\n",
    "Then we can display some information as:"
   ]
  },
  {
   "cell_type": "code",
   "execution_count": 4,
   "metadata": {
    "collapsed": false
   },
   "outputs": [
    {
     "name": "stdout",
     "output_type": "stream",
     "text": [
      "- Atom types:\n",
      "  - C\n",
      "  - H\n",
      "- Cell: Free BC\n",
      "- Convergence criterion on forces: 0.0\n",
      "- Max val of Forces: 0.0214711014196\n",
      "- Energy: -8.025214366429553\n",
      "- Symmetry group: disabled\n",
      "- fermi_level: -0.3414840466884\n",
      "- Number of Atoms: 5\n",
      "- Convergence criterion on Wfn. Residue: 0.0001\n",
      "- No. of KS orbitals:\n",
      "  - 4\n",
      "\n"
     ]
    }
   ],
   "source": [
    "print ch4"
   ]
  },
  {
   "cell_type": "markdown",
   "metadata": {},
   "source": [
    "# The wavelet basis set, a convergence study\n",
    "\n",
    "Daubechies Wavelets is a systematic basis set (as plane waves are), which means than one can increase arbitrarily the accuracy of the results by varying some parameters which are defined in the `dft` dictionary (`inp['dft']`).\n",
    "We here explain what are the meaning and the typical values for the principal parameters, `hgrid` and `rmult`.\n",
    "\n",
    "![CH4-grid](http://bigdft.org/images/7/72/CH4-grid.png)\n",
    "\n",
    "**`hgrids`**\n",
    "      are used to set up the basis set. In free boundary conditions, the basis set is characterised\n",
    "      by a spatial expansion and a grid step, as shown in the side figure.\n",
    "      There is ''one float value'' describing the ''grid steps'' in the three space directions (''i.e.'' x, y and z)\n",
    "      or a 3D array is also accepted.\n",
    "      These values are in bohr unit and typically range from 0.3 to 0.65. The\n",
    "      harder the pseudo-potential, the lower value should be set up.\n",
    "      These values are called `hgrids` in the input dictionary, and can be set by the `set_hgrid` method of the \n",
    "      `Inpufile` class.\n",
    "        \n",
    "**`rmult`**\n",
    "      contains an array of two float values that are two multiplying factors.\n",
    "      They multiply quantities that are chemical species dependent.\n",
    "      The first factor is the most important since it\n",
    "      describes ''the spatial expansion'' of the basis set (in yellow on the figure beside).\n",
    "      Indeed the basis set is defined as a set of real space points with non-zero values.\n",
    "      These points are on a global regular mesh and located inside spheres centered on atoms.\n",
    "      The first multiplying factor is called `crmult` for Coarse grid Radius MULTiplier.\n",
    "      Increasing it means that further spatial expansion is possible for the wavefunctions. \n",
    "      Typical values are 5 to 7.\n",
    "      The second one called `frmult` for Fine grid Radius MULTiplier is related to the fine resolution.\n",
    "      This parameter is less pertinent for the convergence of energy and can be ignored.\n",
    "      It is possible to indicate only one float value, the `crmult` parameter.\n",
    "      Such parameters can be set by the method `set_rmult` of `Inputfile` class."
   ]
  },
  {
   "cell_type": "markdown",
   "metadata": {},
   "source": [
    "## Exercise \n",
    "\n",
    "Run BigDFT for the following values of *hgrid* and *crmult* and plot the total energy convergence versus `hgrids`. \n",
    "The final total energy can be retrieved using th emethod `energy` from the result of each of the runs. The unit of the energies is in Hartree. \n",
    "This tutorial also explains how to use the ``Dataset`` class.\n",
    "\n",
    "<pre>\n",
    "hgrids = 0.55bohr / crmult = 3.5\n",
    "hgrids = 0.50bohr / crmult = 4.0\n",
    "hgrids = 0.45bohr / crmult = 4.5\n",
    "hgrids = 0.40bohr / crmult = 5.0\n",
    "hgrids = 0.35bohr / crmult = 5.5\n",
    "hgrids = 0.30bohr / crmult = 6.0\n",
    "hgrids = 0.25bohr / crmult = 6.5\n",
    "hgrids = 0.20bohr / crmult = 7.0</pre>\n",
    "\n",
    "\n",
    "This precision plot shows the systematicity of the wavelet basis set: by improving the basis set, we improve the absolute value of the total energy.\n",
    "\n",
    "<!-- To go further, one can vary `hgrids` and `crmult` independently.\n",
    "This is shown in the previous figure with the grey line. \n",
    "The shape of the convergence curve shows that both these parameters should be modified simoultaneously in order to increase accuracy. -->\n",
    "Indeed, there are two kind of errors arising from the basis set. \n",
    "The first one is due to the fact the basis set can't account for quickly varying wavefunctions (value of `hgrids` should be decreased). \n",
    "The second error is the fact that the wavefunctions are constrained to stay inside the defined basis set (output values are zero). \n",
    "In the last case `crmult` should be raised."
   ]
  },
  {
   "cell_type": "markdown",
   "metadata": {},
   "source": [
    "# Construction of the input dataset dictionaries\n",
    "Let us build three different dataset of inputfiles, the first two varying `hgrid` and `crmult` and the last by varying the two toghether.\n",
    "We also label each of the input dictionaries by a unique name identifying the run."
   ]
  },
  {
   "cell_type": "code",
   "execution_count": null,
   "metadata": {
    "collapsed": true
   },
   "outputs": [],
   "source": [
    "from BigDFT import Datasets as D\n",
    "h_and_c_dataset=D.Dataset('h_and_c')\n",
    "for h,c in zip(hgrids,crmult):\n",
    "    inp_run=copy.deepcopy(inp)\n",
    "    inp_run['dft']['hgrids'] = h\n",
    "    inp_run['dft']['rmult'] = [c,9.0] #only change crmult\n",
    "    label_run='h='+str(h)+'c='+str(c)\n",
    "    h_and_c_dataset.append({'name': label_run,'input': inp_run})"
   ]
  },
  {
   "cell_type": "code",
   "execution_count": 20,
   "metadata": {
    "collapsed": true
   },
   "outputs": [],
   "source": [
    "import copy\n",
    "hgrids = [ 0.55 - i*0.05 for i in range(8)]\n",
    "crmult = [ 3.5 + i*0.5 for i in range(8)]"
   ]
  },
  {
   "cell_type": "code",
   "execution_count": 6,
   "metadata": {
    "collapsed": true
   },
   "outputs": [],
   "source": [
    "h_only_dataset=[]\n",
    "for h in hgrids:\n",
    "    inp_run=copy.deepcopy(inp)\n",
    "    inp_run['dft']['hgrids'] = h\n",
    "    label_run='h='+str(h)\n",
    "    h_only_dataset.append({'name': label_run,'input': inp_run}) "
   ]
  },
  {
   "cell_type": "code",
   "execution_count": 7,
   "metadata": {
    "collapsed": false
   },
   "outputs": [],
   "source": [
    "c_only_dataset=[]\n",
    "for c in crmult:\n",
    "    inp_run=copy.deepcopy(inp)\n",
    "    inp_run['dft']['rmult'] = [c,9.0] #only change crmult\n",
    "    label_run='c='+str(c)\n",
    "    c_only_dataset.append({'name': label_run,'input': inp_run}) "
   ]
  },
  {
   "cell_type": "code",
   "execution_count": 8,
   "metadata": {
    "collapsed": true
   },
   "outputs": [],
   "source": [
    "h_and_c_dataset=[]\n",
    "for h,c in zip(hgrids,crmult):\n",
    "    inp_run=copy.deepcopy(inp)\n",
    "    inp_run['dft']['hgrids'] = h\n",
    "    inp_run['dft']['rmult'] = [c,9.0] #only change crmult\n",
    "    label_run='h='+str(h)+'c='+str(c)\n",
    "    h_and_c_dataset.append({'name': label_run,'input': inp_run})"
   ]
  },
  {
   "cell_type": "markdown",
   "metadata": {},
   "source": [
    "We then define a function that runs the calculation written in the dataset and store their result \n",
    "in a corresponding dictionary key `log`:"
   ]
  },
  {
   "cell_type": "code",
   "execution_count": 9,
   "metadata": {
    "collapsed": false
   },
   "outputs": [],
   "source": [
    "def run_dataset(dataset):\n",
    "    for configuration in dataset:\n",
    "        if 'log' not in configuration: \n",
    "            configuration['log']=study.run(name=configuration['name'],input=configuration['input'])\n",
    "            #the same command could have been written as\n",
    "            #configuration['log']=study.run(**configuration)"
   ]
  },
  {
   "cell_type": "markdown",
   "metadata": {},
   "source": [
    "We then run the three datasets:"
   ]
  },
  {
   "cell_type": "code",
   "execution_count": 10,
   "metadata": {
    "collapsed": false
   },
   "outputs": [
    {
     "name": "stdout",
     "output_type": "stream",
     "text": [
      "Creating the yaml input file \"h=0.55.yaml\"\n",
      "Executing command:  /local/binaries/gfortran-fpe-1.8/install/bin/bigdft -n h=0.55\n",
      "Creating the yaml input file \"h=0.5.yaml\"\n",
      "Executing command:  /local/binaries/gfortran-fpe-1.8/install/bin/bigdft -n h=0.5\n",
      "Creating the yaml input file \"h=0.45.yaml\"\n",
      "Executing command:  /local/binaries/gfortran-fpe-1.8/install/bin/bigdft -n h=0.45\n",
      "Creating the yaml input file \"h=0.4.yaml\"\n",
      "Executing command:  /local/binaries/gfortran-fpe-1.8/install/bin/bigdft -n h=0.4\n",
      "Creating the yaml input file \"h=0.35.yaml\"\n",
      "Executing command:  /local/binaries/gfortran-fpe-1.8/install/bin/bigdft -n h=0.35\n",
      "Creating the yaml input file \"h=0.3.yaml\"\n",
      "Executing command:  /local/binaries/gfortran-fpe-1.8/install/bin/bigdft -n h=0.3\n",
      "Creating the yaml input file \"h=0.25.yaml\"\n",
      "Executing command:  /local/binaries/gfortran-fpe-1.8/install/bin/bigdft -n h=0.25\n",
      "Creating the yaml input file \"h=0.2.yaml\"\n",
      "Executing command:  /local/binaries/gfortran-fpe-1.8/install/bin/bigdft -n h=0.2\n",
      "Creating the yaml input file \"c=3.5.yaml\"\n",
      "Executing command:  /local/binaries/gfortran-fpe-1.8/install/bin/bigdft -n c=3.5\n",
      "Creating the yaml input file \"c=4.0.yaml\"\n",
      "Executing command:  /local/binaries/gfortran-fpe-1.8/install/bin/bigdft -n c=4.0\n",
      "Creating the yaml input file \"c=4.5.yaml\"\n",
      "Executing command:  /local/binaries/gfortran-fpe-1.8/install/bin/bigdft -n c=4.5\n",
      "Creating the yaml input file \"c=5.0.yaml\"\n",
      "Executing command:  /local/binaries/gfortran-fpe-1.8/install/bin/bigdft -n c=5.0\n",
      "Creating the yaml input file \"c=5.5.yaml\"\n",
      "Executing command:  /local/binaries/gfortran-fpe-1.8/install/bin/bigdft -n c=5.5\n",
      "Creating the yaml input file \"c=6.0.yaml\"\n",
      "Executing command:  /local/binaries/gfortran-fpe-1.8/install/bin/bigdft -n c=6.0\n",
      "Creating the yaml input file \"c=6.5.yaml\"\n",
      "Executing command:  /local/binaries/gfortran-fpe-1.8/install/bin/bigdft -n c=6.5\n",
      "Creating the yaml input file \"c=7.0.yaml\"\n",
      "Executing command:  /local/binaries/gfortran-fpe-1.8/install/bin/bigdft -n c=7.0\n",
      "Creating the yaml input file \"h=0.55c=3.5.yaml\"\n",
      "Executing command:  /local/binaries/gfortran-fpe-1.8/install/bin/bigdft -n h=0.55c=3.5\n",
      "Creating the yaml input file \"h=0.5c=4.0.yaml\"\n",
      "Executing command:  /local/binaries/gfortran-fpe-1.8/install/bin/bigdft -n h=0.5c=4.0\n",
      "Creating the yaml input file \"h=0.45c=4.5.yaml\"\n",
      "Executing command:  /local/binaries/gfortran-fpe-1.8/install/bin/bigdft -n h=0.45c=4.5\n",
      "Creating the yaml input file \"h=0.4c=5.0.yaml\"\n",
      "Executing command:  /local/binaries/gfortran-fpe-1.8/install/bin/bigdft -n h=0.4c=5.0\n",
      "Creating the yaml input file \"h=0.35c=5.5.yaml\"\n",
      "Executing command:  /local/binaries/gfortran-fpe-1.8/install/bin/bigdft -n h=0.35c=5.5\n",
      "Creating the yaml input file \"h=0.3c=6.0.yaml\"\n",
      "Executing command:  /local/binaries/gfortran-fpe-1.8/install/bin/bigdft -n h=0.3c=6.0\n",
      "Creating the yaml input file \"h=0.25c=6.5.yaml\"\n",
      "Executing command:  /local/binaries/gfortran-fpe-1.8/install/bin/bigdft -n h=0.25c=6.5\n",
      "Creating the yaml input file \"h=0.2c=7.0.yaml\"\n",
      "Executing command:  /local/binaries/gfortran-fpe-1.8/install/bin/bigdft -n h=0.2c=7.0\n"
     ]
    }
   ],
   "source": [
    "run_dataset(h_only_dataset)\n",
    "run_dataset(c_only_dataset)\n",
    "run_dataset(h_and_c_dataset)"
   ]
  },
  {
   "cell_type": "markdown",
   "metadata": {},
   "source": [
    "We now store the energies of each of the dataset runs, and identify the minimum as the minimum value from the `h_and_c` dataset:"
   ]
  },
  {
   "cell_type": "code",
   "execution_count": 14,
   "metadata": {
    "collapsed": true
   },
   "outputs": [],
   "source": [
    "import matplotlib.pyplot as plt\n",
    "import numpy as np\n",
    "energies_h=np.array([c['log'].energy for c in h_only_dataset])\n",
    "energies_c=np.array([c['log'].energy for c in c_only_dataset])\n",
    "energies_hc=np.array([c['log'].energy for c in h_and_c_dataset])\n",
    "#find the minimum\n",
    "emin=np.min(energies_hc)"
   ]
  },
  {
   "cell_type": "markdown",
   "metadata": {},
   "source": [
    "We plot the energy values varying the grid spacing or the extension"
   ]
  },
  {
   "cell_type": "code",
   "execution_count": 21,
   "metadata": {
    "collapsed": false
   },
   "outputs": [
    {
     "data": {
      "text/plain": [
       "<matplotlib.legend.Legend at 0x7f4c812f6b90>"
      ]
     },
     "execution_count": 21,
     "metadata": {},
     "output_type": "execute_result"
    },
    {
     "data": {
      "image/png": "[encoded data removed]",
      "text/plain": [
       "<matplotlib.figure.Figure at 0x7f4c813e6150>"
      ]
     },
     "metadata": {},
     "output_type": "display_data"
    }
   ],
   "source": [
    "%matplotlib inline\n",
    "plt.xlabel('Grid step (Bohr)')\n",
    "plt.plot(hgrids,energies_h-emin,label='crmult=3.5')\n",
    "plt.plot(hgrids,energies_hc-emin,label='varying hgrids+crmult')\n",
    "plt.yscale('log')\n",
    "plt.legend(loc='best')"
   ]
  },
  {
   "cell_type": "code",
   "execution_count": 22,
   "metadata": {
    "collapsed": false
   },
   "outputs": [
    {
     "data": {
      "text/plain": [
       "<matplotlib.legend.Legend at 0x7f4c812e0910>"
      ]
     },
     "execution_count": 22,
     "metadata": {},
     "output_type": "execute_result"
    },
    {
     "data": {
      "image/png": "[encoded data removed]",
      "text/plain": [
       "<matplotlib.figure.Figure at 0x7f4c8111ee50>"
      ]
     },
     "metadata": {},
     "output_type": "display_data"
    }
   ],
   "source": [
    "plt.xlabel('Crmult value')\n",
    "plt.plot(crmult,energies_c-emin,label='hgrid=0.55')\n",
    "plt.plot(crmult,energies_hc-emin,label='varying hgrids+crmult')\n",
    "plt.yscale('log')\n",
    "plt.legend(loc='best')"
   ]
  },
  {
   "cell_type": "markdown",
   "metadata": {},
   "source": [
    "## Considerations\n",
    "We see that _both_ the parameters `hgrids` and `rmult` have to be decreased and increased (respectively) in order to achieve convergence. Increasing only one of the two parameter will eventually lead to saturation of the absolute error on the energy."
   ]
  },
  {
   "cell_type": "code",
   "execution_count": null,
   "metadata": {
    "collapsed": false
   },
   "outputs": [],
   "source": [
    "import matplotlib.pyplot as plt\n",
    "import numpy as np\n",
    "\n",
    "\n",
    "HtoeV = 27.21138386 #Conversion Hartree to meV\n",
    "\n",
    "emin = HtoeV*results[-1].energy\n",
    "ener = [ HtoeV*l.energy - emin for l in results ]\n",
    "\n",
    "ener2 = [ HtoeV*l.energy - emin for l in res2 ]\n",
    "\n",
    "plt.figure(figsize=(15,7))\n",
    "# Plot with matplotlib\n",
    "plt.plot(Hgrids, ener,  marker='o', ls='-', color='#ff0000', label='varying hgrids+crmult')  \n",
    "plt.plot(Hgrids, ener2, marker='s', ls='-', color='#888888', label='crmult=3.5')  \n",
    "\n",
    "plt.yscale('log')\n",
    "plt.xlim(0.55,0.25)\n",
    "plt.xlabel('Grid step (Bohr)')\n",
    "plt.ylabel('Total energy precision (eV)')\n",
    "plt.title('Total energy convergence versus the grid step for the CH$_4$ molecule')\n",
    "plt.legend(loc=3)\n",
    "plt.show()"
   ]
  },
  {
   "cell_type": "code",
   "execution_count": null,
   "metadata": {
    "collapsed": true
   },
   "outputs": [],
   "source": []
  },
  {
   "cell_type": "markdown",
   "metadata": {},
   "source": [
    "## Fine tuning of the basis set\n",
    "The multi-scale property of the wavelets is used in BigDFT and a two level grid is used for the calculation. \n",
    "We've seen previously the coarse grid definition using the the multiplying factor `rmult`. \n",
    "The second multiplying value on this line of the input file is used for the fine grid and is called `frmult`. \n",
    "Like `crmult`, it defines a factor for the radii used to define the fine grid region where the number of degrees of freedom\n",
    "is indeed eight times the one of the coarse grid. It allows to define region\n",
    "near the atoms where the wavefunctions are allowed to vary more\n",
    "quickly. Typical values for this factor are 8 to 10. It's worth to\n",
    "note that even if the value of the multiplier is greater than `crmult` it defines a smaller region due to the fact that\n",
    "the units which are associated to these radii are significantly different.\n",
    "\n",
    "The physical quantities used by `crmult` and `frmult` can be changed in the pseudo-potential by adding\n",
    "an additional line with two values in bohr. The two values that the\n",
    "code is using (either computed or read from the pseudo-potential files) are output in the following way in the screen output:\n",
    "        \n",
    "<pre>\n",
    " - Symbol                              : C #Type No.  01\n",
    "   No. of Electrons                    :  4\n",
    "   No. of Atoms                        :  1\n",
    "   Radii of active regions (AU):\n",
    "     Coarse                            :  1.58437\n",
    "     Fine                              :  0.30452\n",
    "     Coarse PSP                        :  1.30510\n",
    "     Source                            : Hard-Coded\n",
    " - Symbol                              : H #Type No.  02\n",
    "   No. of Electrons                    :  1\n",
    "   No. of Atoms                        :  4\n",
    "   Radii of active regions (AU):\n",
    "     Coarse                            :  1.46342\n",
    "     Fine                              :  0.20000\n",
    "     Coarse PSP                        :  0.00000\n",
    "     Source                            : Hard-Coded</pre>"
   ]
  },
  {
   "cell_type": "markdown",
   "metadata": {},
   "source": [
    "## Analysing the output\n",
    "\n",
    "The output of BigDFT is divided into four parts:\n",
    "* Input values are printed out, including a summary of the\n",
    "  different input files (DFT calculation parameters, atom positions,\n",
    "  pseudo-potential values...);\n",
    "* Input wavefunction creation, usually called \"input guess\";\n",
    "* The SCF (Self-Consistent Field) loop itself;\n",
    "* The post SCF calculations including the forces calculation and\n",
    "  other possible treatment like a finite size effect estimation or a\n",
    "  virtual states determination.\n",
    "\n",
    "### The system parameters output\n",
    "All the read values from the different input files are printed\n",
    "out at the program startup. Some additional values are provided there\n",
    "also, like the memory consumption. Values are given for one process,\n",
    "which corresponds to one core in an MPI environment."
   ]
  },
  {
   "cell_type": "code",
   "execution_count": null,
   "metadata": {
    "collapsed": false
   },
   "outputs": [],
   "source": [
    "import yaml\n",
    "print yaml.dump(ch4.memory,default_flow_style=False)\n",
    "\n",
    "print 'Estimated Memory Peak',ch4.memory_peak,'MB'"
   ]
  },
  {
   "cell_type": "markdown",
   "metadata": {},
   "source": [
    "The overall memory requirement needed for this calculation is thus: 39 MB (Estimated Memory Peak) which is provided by the`memory_peak` attribute.\n",
    "\n",
    "In this example, the memory requirement is given for one process run and the peak of memory will be in the initialisation during the Kernel calculation, while the SCF loop will reach 36MB during the Poisson solver calculation. For bigger systems, with more orbitals, the peak of memory is usually reached during the Hamiltonian application.\n",
    "\n",
    "### Exercise\n",
    "\n",
    "Run a script to estimate the memory requirement of a run before submitting it to the queue system of a super-computer\n",
    "using the `dry_run` option.\n",
    "\n",
    "It reads the same input, and is thus convenient to validate inputs.\n",
    "\n",
    "Try several values from 1 to 6 and discuss the memory distribution."
   ]
  },
  {
   "cell_type": "code",
   "execution_count": null,
   "metadata": {
    "collapsed": false
   },
   "outputs": [],
   "source": [
    "study = calc.SystemCalculator(dry_run=True) #Create a calculator\n",
    "peak = []\n",
    "for i in range(1,7):\n",
    "    study.set_global_option('dry_mpi',i)\n",
    "    dry = study.run(input=inp)\n",
    "    peak.append(dry.memory_peak)\n",
    "    print yaml.dump(dry.memory,default_flow_style=False)\n",
    "for i,p in enumerate(peak):\n",
    "    print \"mpi=\",i+1,\"Estimated memory peak (MB)\",p"
   ]
  },
  {
   "cell_type": "markdown",
   "metadata": {},
   "source": [
    "BigDFT distributes the orbitals over the available processes.\n",
    "The value `All (distributed) orbitals` does not decrease anymore after 4 processes since there are only 4 bands in our example). \n",
    "This means that running a parallel job with more processors than orbitals will result in a bad speedup. \n",
    "The number of cores involved in the calculation might be however increased via OMP parallelisation, as it is indicated in [Scalability with MPI and OpenMP](./Tutorial-Scalability.ipynb) lesson.\n",
    "\n",
    "\n",
    "## The input guess\n",
    "The initial wavefunctions in BigDFT are calculated using the atomic orbitals for all the electrons of the s, p,\n",
    "d shells, obtained from the solution of the PSP self-consistent equation for the isolated atom."
   ]
  },
  {
   "cell_type": "code",
   "execution_count": null,
   "metadata": {
    "collapsed": false
   },
   "outputs": [],
   "source": [
    "print yaml.dump(ch4.log['Input Hamiltonian'])"
   ]
  },
  {
   "cell_type": "markdown",
   "metadata": {},
   "source": [
    "The corresponding hamiltonian is then diagonalised and the\n",
    "n_band (``norb`` in the code notations) lower eigenfunctions are used to start the SCF loop. \n",
    "BigDFT outputs the eigenvalues, in the following example, 8 electrons were used in the\n",
    "input guess and the resulting first fourth eigenfunctions will be used\n",
    "for a four band calculation.\n",
    "\n",
    "<pre>\n",
    "Input Guess Overlap Matrices: {Calculated: true, Diagonalized: true}\n",
    "Orbitals:\n",
    "- {e: -0.6493539153869, f: 2.0}\n",
    "- {e: -0.3625626366055, f: 2.0}\n",
    "- {e: -0.3624675839372, f: 2.0}\n",
    "- {e: -0.3624675839372, f: 2.0} -- Last InputGuess eval, H-L IG gap:  20.6959 eV\n",
    "- {e: 0.3980916655348, f: 0.0}  -- First virtual eval\n",
    "- {e: 0.3983087771728, f: 0.0}\n",
    "- {e: 0.3983087771728, f: 0.0}\n",
    "- {e: 0.5993393223683, f: 0.0}\n",
    "</pre>\n",
    "\n",
    "## The SCF loop\n",
    "The SCF loop follows a direct minimisation scheme and is made of the following steps:\n",
    "* Calculate the charge density from the previous wavefunctions.\n",
    "* Apply the Poisson solver to obtain the Hartree potential from the\n",
    "  charges and calculate the exchange-correlation energy and the energy\n",
    "  of the XC potential thanks to the chosen functional.\n",
    "* Apply the resulting hamiltonian on the current wavefunctions.\n",
    "* Precondition the result and apply a steepest descent or a DIIS\n",
    "  history method. This depends on ``idsx``, not specified in the\n",
    "  present input. It is therefore set to the default\n",
    "  value, which is 6 (for an history of 6 previous set of vectors. To perform a SD \n",
    "  minimisation one should add \"``idsx: 0``\" to the *dft* dictionary of *inp*.\n",
    "* Orthogonalise the new wavefunctions.\n",
    "\n",
    "Finally the total energy and the square norm of the residue\n",
    "(gnrm) are printed out. The *gnrm* value is the stopping criterion. \n",
    "It can be chosen using `gnrm_cv` in the *dft* dictionary. \n",
    "The default value (1e-4) is used here and a good value can reach 1e-5."
   ]
  },
  {
   "cell_type": "code",
   "execution_count": null,
   "metadata": {
    "collapsed": false
   },
   "outputs": [],
   "source": [
    "print 'gnrm_cv by default',ch4.gnrm_cv"
   ]
  },
  {
   "cell_type": "markdown",
   "metadata": {},
   "source": [
    "The minimisation scheme coupled with DIIS (and thanks to the good preconditioner) \n",
    "is a very efficient way to obtain convergence for systems with a gap, even with a very small one. \n",
    "Usual run should reach the 1e-4 stop criterion within 15 to 25 iterations. \n",
    "Otherwise, there is an issue with the system, either there is no gap, \n",
    "or the input guess is too symmetric due to the LCAO diagonalization, specific spin polarization..."
   ]
  },
  {
   "cell_type": "code",
   "execution_count": null,
   "metadata": {
    "collapsed": false
   },
   "outputs": [],
   "source": [
    "ch4.wfn_plot()"
   ]
  },
  {
   "cell_type": "markdown",
   "metadata": {},
   "source": [
    "### The post-SCF treatments\n",
    "At the end of the SCF loop, a diagonalisation of the current hamiltonian is done to obtain Kohn-Sham eigenfunctions. The\n",
    "corresponding eigenvalues are also given."
   ]
  },
  {
   "cell_type": "code",
   "execution_count": null,
   "metadata": {
    "collapsed": false
   },
   "outputs": [],
   "source": [
    "print ch4.evals"
   ]
  },
  {
   "cell_type": "markdown",
   "metadata": {},
   "source": [
    "The forces are then calculated."
   ]
  },
  {
   "cell_type": "code",
   "execution_count": null,
   "metadata": {
    "collapsed": false
   },
   "outputs": [],
   "source": [
    "print yaml.dump(ch4.forces,default_flow_style=False)"
   ]
  },
  {
   "cell_type": "markdown",
   "metadata": {},
   "source": [
    "Some other post-SCF may be done depending on the parameters in the *dft* dictionary of *inp*.\n",
    "\n",
    "### Exercise\n",
    "Run `bigdft` when varying the DIIS history length and discuss the memory consumption.\n",
    "\n",
    "Reducing the DIIS history is a good way to reduce the memory consumption when one cannot increase the\n",
    "number of processes. Of course this implies more iterations in SCF loops."
   ]
  },
  {
   "cell_type": "markdown",
   "metadata": {},
   "source": [
    "## Adding a charge\n",
    "BigDFT can treat charged system without the requirement to add a compensating background like in plane waves.\n",
    "The additional charge to add to the system is set in the *dft* dictionary with the *qcharge* key. \n",
    "In the following example an electron has been added (-1):"
   ]
  },
  {
   "cell_type": "code",
   "execution_count": null,
   "metadata": {
    "collapsed": true
   },
   "outputs": [],
   "source": [
    "inp3 = {}\n",
    "inp3['dft'] = { 'hgrids': 0.55, 'nrepmax': 'accurate' }\n",
    "inp3['posinp'] = 'CH3-_posinp.xyz'"
   ]
  },
  {
   "cell_type": "markdown",
   "metadata": {},
   "source": [
    "### Exercise \n",
    "Remove the last hydrogen atom in the previous methane example and modify to add an electron. \n",
    "Then run BigDFT for an electronic convergence.\n",
    "\n",
    "One can notice that the total charge in the system is indeed -8 thanks to the additional charge. \n",
    "The convergence rate is still good for this CH$_3^-$ radical since it is a closed shell system."
   ]
  },
  {
   "cell_type": "code",
   "execution_count": null,
   "metadata": {
    "collapsed": false
   },
   "outputs": [],
   "source": [
    "study = calc.SystemCalculator() #Use a new calculator)\n",
    "ch3m = study.run(input=inp3)\n",
    "print ch3m\n",
    "ch3m.wfn_plot()"
   ]
  },
  {
   "cell_type": "markdown",
   "metadata": {},
   "source": [
    "## Running a geometry optimisation\n",
    "In the previous charged example the geometry of the radical is kept the same than for the methane molecule, while it is likely to\n",
    "change. One can thus optimize the geometry with BigDFT.\n",
    "\n",
    "To run geometry calculations (molecular dynamics, structure\n",
    "optimisations...) one should add another dictionary *geopt* in the input which contains the method to use.\n",
    "\n",
    "In the log file, all input variables are indicated with their default value.\n",
    "\n",
    "Here, we look for a local minimum so we can use the keyword `LBFGS`.\n",
    "We can add also the stopping criteria.\n",
    "There are two stopping criteria: the first `ncount_cluster_x` being the number of loops (force evaluations) and the second `forcemax` is the maximum on forces. For isolated systems, the first criterion is well adapted\n",
    "while the second is good for periodic boundary conditions."
   ]
  },
  {
   "cell_type": "code",
   "execution_count": null,
   "metadata": {
    "collapsed": false
   },
   "outputs": [],
   "source": [
    "inpg = {}\n",
    "inpg['dft'] = { 'hgrids': 0.55, 'nrepmax': 'accurate' }\n",
    "inpg['posinp'] = 'CH4_posinp.xyz'\n",
    "inpg['geopt'] = { 'method': 'LBFGS', 'ncount_cluster_x': 20}\n",
    "study = calc.SystemCalculator() #Use a new calculator)\n",
    "ch4geopt = study.run(input=inpg)"
   ]
  },
  {
   "cell_type": "code",
   "execution_count": null,
   "metadata": {
    "collapsed": false
   },
   "outputs": [],
   "source": [
    "%matplotlib inline\n",
    "ch4geopt.geopt_plot()"
   ]
  },
  {
   "cell_type": "markdown",
   "metadata": {},
   "source": [
    "### Exercise\n",
    "Take the CH$_3^-$ radical [**CH3-_posinp.xyz**](./CH3-_posinp.xyz) file and run a geometry optimisation.\n",
    "\n",
    "The evolution of the forces during relaxation can be easily obtained using the `geop_plot` function to the result of the calculation.\n",
    "\n",
    "At each iteration, BigDFT outputs a file **posout_XXXX.xyz** in the directory **data** with the geometry of the iteration\n",
    "XXX. You can visualize it using v_sim (select all files in the \"Browser\" tab)."
   ]
  }
 ],
 "metadata": {
  "kernelspec": {
   "display_name": "Python 2",
   "language": "python",
   "name": "python2"
  },
  "language_info": {
   "codemirror_mode": {
    "name": "ipython",
    "version": 2
   },
   "file_extension": ".py",
   "mimetype": "text/x-python",
   "name": "python",
   "nbconvert_exporter": "python",
   "pygments_lexer": "ipython2",
   "version": "2.7.6"
  }
 },
 "nbformat": 4,
 "nbformat_minor": 2
}
