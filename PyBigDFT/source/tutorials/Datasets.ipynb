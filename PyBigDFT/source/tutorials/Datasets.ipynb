{
 "cells": [
  {
   "cell_type": "markdown",
   "metadata": {},
   "source": [
    "# Usage of Dataset class\n",
    "We here show the API of the Dataset class, conceived to run and collects ensemble calculations."
   ]
  },
  {
   "cell_type": "code",
   "execution_count": 1,
   "metadata": {},
   "outputs": [],
   "source": [
    "from BigDFT import Datasets as D, Calculators as C, Inputfiles as I\n",
    "import numpy as np\n",
    "import matplotlib.pyplot as plt"
   ]
  },
  {
   "cell_type": "markdown",
   "metadata": {},
   "source": [
    "As first explanatory example we present the analysis of the convergence of the Ground State (GS) energy of a $CO$\n",
    "with respect to the size of the simulation domain"
   ]
  },
  {
   "cell_type": "markdown",
   "metadata": {},
   "source": [
    "## Analysis of dataset for the convergence of the GS of the CO molecule"
   ]
  },
  {
   "cell_type": "markdown",
   "metadata": {},
   "source": [
    "We instanciate on object of the system calculator class which specifies the number of threads and mpi processor used for the computation, we also instanciate the Dataset object that manage the ensemble of calculation needed for the convergence analysis "
   ]
  },
  {
   "cell_type": "code",
   "execution_count": 2,
   "metadata": {},
   "outputs": [
    {
     "name": "stdout",
     "output_type": "stream",
     "text": [
      "Initialize a Calculator with OMP_NUM_THREADS=2 and command mpirun -np 4 /local/deutsch/Forge/BigDFT/build-mpif90/install/bin/bigdft\n"
     ]
    }
   ],
   "source": [
    "code=C.SystemCalculator(omp=2,mpi_run='mpirun -np 4',skip=True)\n",
    "study = D.Dataset(label='CO_GS',run_dir='CO_GS',posinp='CO_posinp.xyz',molecule_shape = 'linear')"
   ]
  },
  {
   "cell_type": "markdown",
   "metadata": {},
   "source": [
    "study is characterized by its label 'CO_GS' and contains the path run_dir in which all the calculation of the dataset will be performed and the name of the posinp of the molecule. The variable `molecule_shape` has been introduced to show how further information can be passed to the dataset instances. This information can be extracted as follows"
   ]
  },
  {
   "cell_type": "code",
   "execution_count": 3,
   "metadata": {},
   "outputs": [
    {
     "name": "stdout",
     "output_type": "stream",
     "text": [
      "{'molecule_shape': 'linear', 'run_dir': 'CO_GS', 'posinp': 'CO_posinp.xyz', 'label': 'CO_GS'}\n",
      "linear\n"
     ]
    }
   ],
   "source": [
    "print study.global_options()\n",
    "print study.get_global_option('molecule_shape')"
   ]
  },
  {
   "cell_type": "markdown",
   "metadata": {},
   "source": [
    "Global options can be also added and removed as follows"
   ]
  },
  {
   "cell_type": "code",
   "execution_count": 4,
   "metadata": {},
   "outputs": [
    {
     "name": "stdout",
     "output_type": "stream",
     "text": [
      "{'molecule_shape': 'linear', 'run_dir': 'CO_GS', 'posinp': 'CO_posinp.xyz', 'new_option': 'value', 'label': 'CO_GS'}\n"
     ]
    }
   ],
   "source": [
    "study.update_global_options(new_option = 'value')\n",
    "print study.global_options()"
   ]
  },
  {
   "cell_type": "code",
   "execution_count": 5,
   "metadata": {},
   "outputs": [
    {
     "data": {
      "text/plain": [
       "{'label': 'CO_GS',\n",
       " 'molecule_shape': 'linear',\n",
       " 'posinp': 'CO_posinp.xyz',\n",
       " 'run_dir': 'CO_GS'}"
      ]
     },
     "execution_count": 5,
     "metadata": {},
     "output_type": "execute_result"
    }
   ],
   "source": [
    "# remove the new_option key\n",
    "study.pop_global_option('new_option')\n",
    "study.global_options()"
   ]
  },
  {
   "cell_type": "code",
   "execution_count": 6,
   "metadata": {},
   "outputs": [
    {
     "data": {
      "text/plain": [
       "{'dft': {'gnrm_cv': 1e-05, 'hgrids': 0.37}}"
      ]
     },
     "execution_count": 6,
     "metadata": {},
     "output_type": "execute_result"
    }
   ],
   "source": [
    "# Define the default parameters of the input file\n",
    "inp = I.Inputfile()\n",
    "inp.set_hgrid(0.37)\n",
    "inp.set_wavefunction_convergence(gnrm=1.0e-5)\n",
    "inp"
   ]
  },
  {
   "cell_type": "markdown",
   "metadata": {},
   "source": [
    "We introduce a list of values of rmult. The convergence analysis will be performed on this parameter"
   ]
  },
  {
   "cell_type": "code",
   "execution_count": 7,
   "metadata": {},
   "outputs": [],
   "source": [
    "rmult = [5.0,6.0,7.0,8.0]"
   ]
  },
  {
   "cell_type": "markdown",
   "metadata": {},
   "source": [
    "We prepare the study for the convergence analysis by appending the run associated to the values of rmult. Each run\n",
    "is caractherized by an id and contain the InputFile object as input as well as the code used to perform the calculation. If the same id is provided more than one the function gives a Value Error"
   ]
  },
  {
   "cell_type": "code",
   "execution_count": 8,
   "metadata": {},
   "outputs": [],
   "source": [
    "for r in rmult:\n",
    "    inp.set_rmult(coarse=r,fine=9.0)\n",
    "    study.append_run(id={'rmult':r},runner=code,input=inp)"
   ]
  },
  {
   "cell_type": "markdown",
   "metadata": {},
   "source": [
    "The following member of the Dataset class show how to refer to the various calculation of study"
   ]
  },
  {
   "cell_type": "code",
   "execution_count": 9,
   "metadata": {},
   "outputs": [
    {
     "name": "stdout",
     "output_type": "stream",
     "text": [
      "[{'runs': [0, 1, 2, 3], 'calc': <BigDFT.Calculators.SystemCalculator instance at 0x7fa258b38518>}]\n",
      "[{'rmult': 5.0}, {'rmult': 6.0}, {'rmult': 7.0}, {'rmult': 8.0}]\n"
     ]
    }
   ],
   "source": [
    "print study.calculators\n",
    "print study.ids"
   ]
  },
  {
   "cell_type": "code",
   "execution_count": 10,
   "metadata": {},
   "outputs": [
    {
     "name": "stdout",
     "output_type": "stream",
     "text": [
      "{'rmult': 7.0}\n",
      "{'molecule_shape': 'linear', 'run_dir': 'CO_GS', 'posinp': 'CO_posinp.xyz', 'input': {'dft': {'rmult': [7.0, 9.0], 'hgrids': 0.37, 'gnrm_cv': 1e-05}}, 'label': 'CO_GS'}\n"
     ]
    }
   ],
   "source": [
    "# Extract the study id and runs parameters for each value of the runs key in the study.calculator.\n",
    "# Shows just one for shortness\n",
    "i = 2\n",
    "print study.ids[i]\n",
    "print study.runs[i]"
   ]
  },
  {
   "cell_type": "markdown",
   "metadata": {},
   "source": [
    "Study.names contains a list of strings with the ids of the run. May be useful for labelling."
   ]
  },
  {
   "cell_type": "code",
   "execution_count": 11,
   "metadata": {},
   "outputs": [
    {
     "data": {
      "text/plain": [
       "['rmult:5.0', 'rmult:6.0', 'rmult:7.0', 'rmult:8.0']"
      ]
     },
     "execution_count": 11,
     "metadata": {},
     "output_type": "execute_result"
    }
   ],
   "source": [
    "study.names"
   ]
  },
  {
   "cell_type": "markdown",
   "metadata": {},
   "source": [
    "The appended simulation can be executed with the run method. The skip=True in the code instance guarantees that computation already performed are not executed again"
   ]
  },
  {
   "cell_type": "code",
   "execution_count": 12,
   "metadata": {},
   "outputs": [
    {
     "name": "stdout",
     "output_type": "stream",
     "text": [
      "Copy the posinp file 'CO_posinp.xyz' into 'CO_GS'\n",
      "Creating the yaml input file \"CO_GS/rmult:5.0.yaml\"\n",
      "Run directory CO_GS\n",
      "Executing command:  mpirun -np 4 /local/deutsch/Forge/BigDFT/build-mpif90/install/bin/bigdft -n rmult:5.0 -s Yes\n",
      "Copy the posinp file 'CO_posinp.xyz' into 'CO_GS'\n",
      "Creating the yaml input file \"CO_GS/rmult:6.0.yaml\"\n",
      "Run directory CO_GS\n",
      "Executing command:  mpirun -np 4 /local/deutsch/Forge/BigDFT/build-mpif90/install/bin/bigdft -n rmult:6.0 -s Yes\n",
      "Copy the posinp file 'CO_posinp.xyz' into 'CO_GS'\n",
      "Creating the yaml input file \"CO_GS/rmult:7.0.yaml\"\n",
      "Run directory CO_GS\n",
      "Executing command:  mpirun -np 4 /local/deutsch/Forge/BigDFT/build-mpif90/install/bin/bigdft -n rmult:7.0 -s Yes\n",
      "Copy the posinp file 'CO_posinp.xyz' into 'CO_GS'\n",
      "Creating the yaml input file \"CO_GS/rmult:8.0.yaml\"\n",
      "Run directory CO_GS\n",
      "Executing command:  mpirun -np 4 /local/deutsch/Forge/BigDFT/build-mpif90/install/bin/bigdft -n rmult:8.0 -s Yes\n"
     ]
    },
    {
     "data": {
      "text/plain": [
       "{0: <BigDFT.Logfiles.Logfile instance at 0x7fa28fb9c680>,\n",
       " 1: <BigDFT.Logfiles.Logfile instance at 0x7fa2587f87a0>,\n",
       " 2: <BigDFT.Logfiles.Logfile instance at 0x7fa25875e4d0>,\n",
       " 3: <BigDFT.Logfiles.Logfile instance at 0x7fa2586885f0>}"
      ]
     },
     "execution_count": 12,
     "metadata": {},
     "output_type": "execute_result"
    }
   ],
   "source": [
    "study.run()"
   ]
  },
  {
   "cell_type": "markdown",
   "metadata": {},
   "source": [
    "The class member study.results contain a dictionary with the logfiles of the computations performed by the run method. The cardinal key respects the order of the append_run"
   ]
  },
  {
   "cell_type": "code",
   "execution_count": 13,
   "metadata": {},
   "outputs": [
    {
     "data": {
      "text/plain": [
       "{0: <BigDFT.Logfiles.Logfile instance at 0x7fa28fb9c680>,\n",
       " 1: <BigDFT.Logfiles.Logfile instance at 0x7fa2587f87a0>,\n",
       " 2: <BigDFT.Logfiles.Logfile instance at 0x7fa25875e4d0>,\n",
       " 3: <BigDFT.Logfiles.Logfile instance at 0x7fa2586885f0>}"
      ]
     },
     "execution_count": 13,
     "metadata": {},
     "output_type": "execute_result"
    }
   ],
   "source": [
    "results = study.results\n",
    "results"
   ]
  },
  {
   "cell_type": "markdown",
   "metadata": {},
   "source": [
    "Several operation can be performed on the results by using the methods of the logfile class. Here we provide some examples"
   ]
  },
  {
   "cell_type": "markdown",
   "metadata": {},
   "source": [
    "Perform a convergence plot of the total energy w.r.t. the domain size"
   ]
  },
  {
   "cell_type": "code",
   "execution_count": 34,
   "metadata": {},
   "outputs": [
    {
     "name": "stdout",
     "output_type": "stream",
     "text": [
      "5.0 -21.661153985 rmult:5.0\n",
      "6.0 -21.6613458421 rmult:6.0\n",
      "7.0 -21.6613579336 rmult:7.0\n",
      "8.0 -21.6613594644 rmult:8.0\n"
     ]
    },
    {
     "data": {
      "image/png": "[encoded data removed]",
      "text/plain": [
       "<matplotlib.figure.Figure at 0x7fa25629a810>"
      ]
     },
     "metadata": {
      "needs_background": "light"
     },
     "output_type": "display_data"
    }
   ],
   "source": [
    "for calc in study.calculators[0]['runs']:\n",
    "    print study.ids[calc]['rmult'], results[calc].energy, study.names[calc]\n",
    "    plt.scatter(study.ids[calc]['rmult'],results[calc].energy,label=study.names[calc])\n",
    "plt.legend()\n",
    "plt.title('Energy',size=12)\n",
    "plt.ylim(-21.661,-21.662)\n",
    "plt.show()"
   ]
  },
  {
   "cell_type": "markdown",
   "metadata": {},
   "source": [
    "Other useful quantities can be extract using the methods of the logfile class, for instance"
   ]
  },
  {
   "cell_type": "code",
   "execution_count": 15,
   "metadata": {},
   "outputs": [
    {
     "name": "stdout",
     "output_type": "stream",
     "text": [
      "[-0.0002296574, -0.0002296574, 0.09288163]\n",
      "[-1.07897861 -0.5212773  -0.44461433 -0.44461428 -0.33423529]\n",
      "[5.0, 9.0]\n",
      "{'norm(P)': 0.0928822004, 'P vector': [-0.0002296574, -0.0002296574, 0.09288163]}\n"
     ]
    }
   ],
   "source": [
    "print results[0].dipole\n",
    "print results[0].evals[0][0]\n",
    "print results[0].log['dft']['rmult']\n",
    "print results[0].log['Electric Dipole Moment (AU)']"
   ]
  },
  {
   "cell_type": "code",
   "execution_count": 16,
   "metadata": {},
   "outputs": [
    {
     "data": {
      "image/png": "[encoded data removed]",
      "text/plain": [
       "<matplotlib.figure.Figure at 0x7fa258630310>"
      ]
     },
     "metadata": {
      "needs_background": "light"
     },
     "output_type": "display_data"
    }
   ],
   "source": [
    "dos = results[0].get_dos(label=study.names[0])\n",
    "dos.append_from_bandarray(results[2].evals,label=study.names[2])\n",
    "dos.plot(sigma = 0.2)"
   ]
  },
  {
   "cell_type": "markdown",
   "metadata": {},
   "source": [
    "## Post processing analysis: fetch_results and post-processing function"
   ]
  },
  {
   "cell_type": "markdown",
   "metadata": {},
   "source": [
    "Results associated to specific id and/or attribute can be extracted as follows:"
   ]
  },
  {
   "cell_type": "code",
   "execution_count": 17,
   "metadata": {},
   "outputs": [
    {
     "data": {
      "text/plain": [
       "[<BigDFT.Logfiles.Logfile instance at 0x7fa28fb9c680>,\n",
       " <BigDFT.Logfiles.Logfile instance at 0x7fa2587f87a0>,\n",
       " <BigDFT.Logfiles.Logfile instance at 0x7fa25875e4d0>,\n",
       " <BigDFT.Logfiles.Logfile instance at 0x7fa2586885f0>]"
      ]
     },
     "execution_count": 17,
     "metadata": {},
     "output_type": "execute_result"
    }
   ],
   "source": [
    "study.fetch_results()"
   ]
  },
  {
   "cell_type": "markdown",
   "metadata": {},
   "source": [
    "If an attribute and/or an id is provided fetch_results extracts only the wanted results, for instance"
   ]
  },
  {
   "cell_type": "code",
   "execution_count": 18,
   "metadata": {},
   "outputs": [
    {
     "name": "stdout",
     "output_type": "stream",
     "text": [
      "[-21.66115398501919, -21.661345842050096, -21.661357933587652, -21.661359464434042]\n",
      "[-21.661359464434042]\n"
     ]
    }
   ],
   "source": [
    "print  study.fetch_results(attribute='energy')\n",
    "print  study.fetch_results({'rmult' : 8},attribute='energy')"
   ]
  },
  {
   "cell_type": "markdown",
   "metadata": {},
   "source": [
    "It is also possible to define a post-processing function that is passed to the dataset instance. This function\n",
    "is called after the run and the output of study.run() and contains the output of the post-processing function.\n",
    "We show some examples."
   ]
  },
  {
   "cell_type": "markdown",
   "metadata": {},
   "source": [
    "Extraction of the ground state dipole"
   ]
  },
  {
   "cell_type": "code",
   "execution_count": 19,
   "metadata": {},
   "outputs": [],
   "source": [
    "def get_dipole(dataset):\n",
    "    dipole = dataset.fetch_results(attribute='dipole')\n",
    "    return dipole"
   ]
  },
  {
   "cell_type": "code",
   "execution_count": 20,
   "metadata": {},
   "outputs": [],
   "source": [
    "study.set_postprocessing_function(get_dipole)"
   ]
  },
  {
   "cell_type": "code",
   "execution_count": 21,
   "metadata": {},
   "outputs": [
    {
     "name": "stdout",
     "output_type": "stream",
     "text": [
      "Copy the posinp file 'CO_posinp.xyz' into 'CO_GS'\n",
      "Creating the yaml input file \"CO_GS/rmult:5.0.yaml\"\n",
      "Run directory CO_GS\n",
      "Executing command:  mpirun -np 4 /local/deutsch/Forge/BigDFT/build-mpif90/install/bin/bigdft -n rmult:5.0 -s Yes\n",
      "Copy the posinp file 'CO_posinp.xyz' into 'CO_GS'\n",
      "Creating the yaml input file \"CO_GS/rmult:6.0.yaml\"\n",
      "Run directory CO_GS\n",
      "Executing command:  mpirun -np 4 /local/deutsch/Forge/BigDFT/build-mpif90/install/bin/bigdft -n rmult:6.0 -s Yes\n",
      "Copy the posinp file 'CO_posinp.xyz' into 'CO_GS'\n",
      "Creating the yaml input file \"CO_GS/rmult:7.0.yaml\"\n",
      "Run directory CO_GS\n",
      "Executing command:  mpirun -np 4 /local/deutsch/Forge/BigDFT/build-mpif90/install/bin/bigdft -n rmult:7.0 -s Yes\n",
      "Copy the posinp file 'CO_posinp.xyz' into 'CO_GS'\n",
      "Creating the yaml input file \"CO_GS/rmult:8.0.yaml\"\n",
      "Run directory CO_GS\n",
      "Executing command:  mpirun -np 4 /local/deutsch/Forge/BigDFT/build-mpif90/install/bin/bigdft -n rmult:8.0 -s Yes\n"
     ]
    },
    {
     "data": {
      "text/plain": [
       "[[-0.0002296574, -0.0002296574, 0.09288163],\n",
       " [-3.391146e-05, -3.391146e-05, 0.09150228],\n",
       " [-2.716707e-06, -2.716707e-06, 0.09138863],\n",
       " [-1.027985e-05, -1.027985e-05, 0.09137423]]"
      ]
     },
     "execution_count": 21,
     "metadata": {},
     "output_type": "execute_result"
    }
   ],
   "source": [
    "dipole_GS = study.run()\n",
    "dipole_GS"
   ]
  },
  {
   "cell_type": "markdown",
   "metadata": {},
   "source": [
    "Extraction of the box size"
   ]
  },
  {
   "cell_type": "code",
   "execution_count": 22,
   "metadata": {},
   "outputs": [],
   "source": [
    "def get_size(study): # how to do def get_size(study,unit)\n",
    "    sizes = []\n",
    "    results = study.fetch_results()\n",
    "    for calc,res in enumerate(results):\n",
    "        sizes.append(res.log['Sizes of the simulation domain']['AU'])\n",
    "    return sizes"
   ]
  },
  {
   "cell_type": "code",
   "execution_count": 23,
   "metadata": {},
   "outputs": [],
   "source": [
    "study.set_postprocessing_function(get_size)"
   ]
  },
  {
   "cell_type": "code",
   "execution_count": 24,
   "metadata": {},
   "outputs": [
    {
     "name": "stdout",
     "output_type": "stream",
     "text": [
      "Copy the posinp file 'CO_posinp.xyz' into 'CO_GS'\n",
      "Creating the yaml input file \"CO_GS/rmult:5.0.yaml\"\n",
      "Run directory CO_GS\n",
      "Executing command:  mpirun -np 4 /local/deutsch/Forge/BigDFT/build-mpif90/install/bin/bigdft -n rmult:5.0 -s Yes\n",
      "Copy the posinp file 'CO_posinp.xyz' into 'CO_GS'\n",
      "Creating the yaml input file \"CO_GS/rmult:6.0.yaml\"\n",
      "Run directory CO_GS\n",
      "Executing command:  mpirun -np 4 /local/deutsch/Forge/BigDFT/build-mpif90/install/bin/bigdft -n rmult:6.0 -s Yes\n",
      "Copy the posinp file 'CO_posinp.xyz' into 'CO_GS'\n",
      "Creating the yaml input file \"CO_GS/rmult:7.0.yaml\"\n",
      "Run directory CO_GS\n",
      "Executing command:  mpirun -np 4 /local/deutsch/Forge/BigDFT/build-mpif90/install/bin/bigdft -n rmult:7.0 -s Yes\n",
      "Copy the posinp file 'CO_posinp.xyz' into 'CO_GS'\n",
      "Creating the yaml input file \"CO_GS/rmult:8.0.yaml\"\n",
      "Run directory CO_GS\n",
      "Executing command:  mpirun -np 4 /local/deutsch/Forge/BigDFT/build-mpif90/install/bin/bigdft -n rmult:8.0 -s Yes\n"
     ]
    },
    {
     "data": {
      "text/plain": [
       "[[15.54, 15.54, 15.91],\n",
       " [18.87, 18.87, 18.87],\n",
       " [21.83, 21.83, 21.83],\n",
       " [25.16, 25.16, 25.16]]"
      ]
     },
     "execution_count": 24,
     "metadata": {},
     "output_type": "execute_result"
    }
   ],
   "source": [
    "boxsize = study.run()\n",
    "boxsize"
   ]
  },
  {
   "cell_type": "markdown",
   "metadata": {},
   "source": [
    "## Usage of Dataset for the computation of the statical polarizability tensor $\\alpha$"
   ]
  },
  {
   "cell_type": "markdown",
   "metadata": {},
   "source": [
    "We choose a single value of rmult, among the ones computed in the gs analysis, and compute the statical polarizability tensor of the $CO$ molecule"
   ]
  },
  {
   "cell_type": "code",
   "execution_count": 25,
   "metadata": {},
   "outputs": [
    {
     "name": "stdout",
     "output_type": "stream",
     "text": [
      "rmult value :  7.0\n"
     ]
    }
   ],
   "source": [
    "ind = 2\n",
    "print 'rmult value : ', study.ids[ind]['rmult']"
   ]
  },
  {
   "cell_type": "code",
   "execution_count": 26,
   "metadata": {},
   "outputs": [
    {
     "name": "stdout",
     "output_type": "stream",
     "text": [
      "[-2.716707e-06, -2.716707e-06, 0.09138863]\n",
      "[[-2.716707e-06, -2.716707e-06, 0.09138863]]\n"
     ]
    }
   ],
   "source": [
    "# The ground state dipole can be extracted in several ways from the previous analysis\n",
    "print dipole_GS[ind]\n",
    "print study.fetch_results(study.ids[ind],attribute='dipole')"
   ]
  },
  {
   "cell_type": "code",
   "execution_count": 27,
   "metadata": {},
   "outputs": [
    {
     "data": {
      "text/plain": [
       "{'dft': {'gnrm_cv': 1e-05, 'hgrids': 0.37, 'rmult': [7.0, 9.0]}}"
      ]
     },
     "execution_count": 27,
     "metadata": {},
     "output_type": "execute_result"
    }
   ],
   "source": [
    "# set the input file for the statical polarizability computation\n",
    "inp.set_rmult(coarse = study.ids[ind]['rmult'], fine = 9.0)\n",
    "inp"
   ]
  },
  {
   "cell_type": "markdown",
   "metadata": {},
   "source": [
    "Define the dataset (called ef, i.e. electric field) for the computation of $\\alpha$ and append the relevan runs"
   ]
  },
  {
   "cell_type": "code",
   "execution_count": 28,
   "metadata": {},
   "outputs": [],
   "source": [
    "intensity=1.e-2 #assume that this value is compatible with the linear response regime\n",
    "ef=D.Dataset(label='alpha',run_dir='CO_alpha',input=inp,posinp='CO_posinp.xyz',d0=dipole_GS[ind],F=intensity)\n",
    "for idir,coord in enumerate(['x','y','z']):\n",
    "    el=np.zeros(3)\n",
    "    el[idir]=intensity\n",
    "    inp.apply_electric_field(el.tolist())\n",
    "    ef.append_run({'id': coord,'F':intensity},code,input=inp)"
   ]
  },
  {
   "cell_type": "code",
   "execution_count": 29,
   "metadata": {},
   "outputs": [
    {
     "name": "stdout",
     "output_type": "stream",
     "text": [
      "[{'id': 'x', 'F': 0.01}, {'id': 'y', 'F': 0.01}, {'id': 'z', 'F': 0.01}]\n"
     ]
    }
   ],
   "source": [
    "print ef.ids"
   ]
  },
  {
   "cell_type": "code",
   "execution_count": 30,
   "metadata": {},
   "outputs": [],
   "source": [
    "def extract_alpha(ef):\n",
    "    \"\"\"\n",
    "    alpha_ij isthe i-th component of the vector d-d0, computed with a field in the j-th direction,\n",
    "    divided for the intensity of the field.\n",
    "    \"\"\"\n",
    "    d0=np.array(ef.get_global_option('d0'))\n",
    "    F=ef.get_global_option('F')\n",
    "    d=ef.fetch_results(attribute='dipole')\n",
    "    alpha=np.mat(np.zeros(9)).reshape(3,3)\n",
    "    for idir in range(3):\n",
    "        alpha[idir]=(np.array(d[idir])-d0)/F\n",
    "    return alpha"
   ]
  },
  {
   "cell_type": "code",
   "execution_count": 31,
   "metadata": {},
   "outputs": [],
   "source": [
    "ef.set_postprocessing_function(extract_alpha)"
   ]
  },
  {
   "cell_type": "code",
   "execution_count": 32,
   "metadata": {},
   "outputs": [
    {
     "name": "stdout",
     "output_type": "stream",
     "text": [
      "Create the sub-directory 'CO_alpha'\n",
      "Copy the posinp file 'CO_posinp.xyz' into 'CO_alpha'\n",
      "Creating the yaml input file \"CO_alpha/F:0.01,id:x.yaml\"\n",
      "Run directory CO_alpha\n",
      "Executing command:  mpirun -np 4 /local/deutsch/Forge/BigDFT/build-mpif90/install/bin/bigdft -n F:0.01,id:x -s Yes\n",
      "Copy the posinp file 'CO_posinp.xyz' into 'CO_alpha'\n",
      "Creating the yaml input file \"CO_alpha/F:0.01,id:y.yaml\"\n",
      "Run directory CO_alpha\n",
      "Executing command:  mpirun -np 4 /local/deutsch/Forge/BigDFT/build-mpif90/install/bin/bigdft -n F:0.01,id:y -s Yes\n",
      "Copy the posinp file 'CO_posinp.xyz' into 'CO_alpha'\n",
      "Creating the yaml input file \"CO_alpha/F:0.01,id:z.yaml\"\n",
      "Run directory CO_alpha\n",
      "Executing command:  mpirun -np 4 /local/deutsch/Forge/BigDFT/build-mpif90/install/bin/bigdft -n F:0.01,id:z -s Yes\n"
     ]
    },
    {
     "data": {
      "text/plain": [
       "matrix([[ 1.26637417e+01, -2.31315400e-04,  4.23620000e-02],\n",
       "        [-2.31315400e-04,  1.26637417e+01,  4.23620000e-02],\n",
       "        [ 4.21875400e-04,  4.21875400e-04,  1.60751070e+01]])"
      ]
     },
     "execution_count": 32,
     "metadata": {},
     "output_type": "execute_result"
    }
   ],
   "source": [
    "alpha = ef.run()\n",
    "alpha"
   ]
  },
  {
   "cell_type": "markdown",
   "metadata": {},
   "source": [
    "A list of posinp for several molecules can be found as follows"
   ]
  },
  {
   "cell_type": "code",
   "execution_count": 33,
   "metadata": {},
   "outputs": [
    {
     "name": "stdout",
     "output_type": "stream",
     "text": [
      "{'units': 'angstroem', 'positions': [{'C': [0.0, 0.0, 0.0], 'sym': 'C'}, {'sym': 'O', 'O': [0.0, 0.0, 1.1282]}], 'global monopole': 0.0}\n"
     ]
    }
   ],
   "source": [
    "from BigDFT.Database import Molecules\n",
    "CO=Molecules.Molecule('CO')\n",
    "print CO"
   ]
  },
  {
   "cell_type": "markdown",
   "metadata": {},
   "source": [
    "so this analysis can be easily performed for other cases."
   ]
  },
  {
   "cell_type": "code",
   "execution_count": null,
   "metadata": {},
   "outputs": [],
   "source": []
  }
 ],
 "metadata": {
  "kernelspec": {
   "display_name": "Python 2",
   "language": "python",
   "name": "python2"
  },
  "language_info": {
   "codemirror_mode": {
    "name": "ipython",
    "version": 2
   },
   "file_extension": ".py",
   "mimetype": "text/x-python",
   "name": "python",
   "nbconvert_exporter": "python",
   "pygments_lexer": "ipython2",
   "version": "2.7.15+"
  }
 },
 "nbformat": 4,
 "nbformat_minor": 2
}
