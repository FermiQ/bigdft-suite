{
 "cells": [
  {
   "cell_type": "markdown",
   "metadata": {},
   "source": [
    "# Basics of BigDFT: first runs and managing different calculations, N2 molecule as example\n",
    "\n",
    "With this lesson you will have to deal with the different outputs of BigDFT code, such as to learn how to manipulate basic DFT objects.\n",
    "We will use python and notebook to handle the input variables and run the calculations. The advantage is that you can automatize easily the calculations. It is also possible to run in a shell all these calculations.\n",
    "\n",
    "First you need to have the correct environment variables: the script \"bigdftvars.sh\" from the install/bin directory of bigdft has to be sourced (\"source bigdftvars.sh\") before doing this tutorial and load the module python *BigDFT*."
   ]
  },
  {
   "cell_type": "code",
   "execution_count": 1,
   "metadata": {},
   "outputs": [],
   "source": [
    "from BigDFT import Calculators as calc"
   ]
  },
  {
   "cell_type": "markdown",
   "metadata": {},
   "source": [
    "The main executable of the BigDFT suite is *bigdft*.\n",
    "\n",
    "## Atomic position file: 'posinp.xyz'\n",
    "\n",
    "A simple file with the position of atoms is enough to run bigdft performing a single-point calculation (calculating the ground state energy of the system). \n",
    "Consider for example the N2 molecule, given by the <a href=\"http://bigdft.org/images/f/f1/N2_posinp.xyz\">posinp.xyz</a> file:\n",
    "<pre>\n",
    "2 angstroem\n",
    "free\n",
    "N 0. 0. 0.\n",
    "N 0. 0. 1.11499</pre>\n",
    "Copy it into the current directory."
   ]
  },
  {
   "cell_type": "code",
   "execution_count": 2,
   "metadata": {},
   "outputs": [
    {
     "name": "stdout",
     "output_type": "stream",
     "text": [
      "Initialize a Calculator with OMP_NUM_THREADS= 1\n",
      "used command /local/deutsch/Forge/BigDFT/build-mpif90/install/bin/bigdft\n",
      "Executing command:  /local/deutsch/Forge/BigDFT/build-mpif90/install/bin/bigdft\n"
     ]
    },
    {
     "data": {
      "text/plain": [
       "<BigDFT.Logfiles.Logfile instance at 0x7f5e96fba7a0>"
      ]
     },
     "execution_count": 2,
     "metadata": {},
     "output_type": "execute_result"
    }
   ],
   "source": [
    "study = calc.SystemCalculator() #Create a calculator\n",
    "study.run() #run the code"
   ]
  },
  {
   "cell_type": "markdown",
   "metadata": {},
   "source": [
    "You can see exactly what the command is performed (you can do it in a bash shell).\n",
    "\n",
    "Different files are created:\n",
    "* [input_minimal.yaml](./input_minimal) which contains the minimal set of input variables to perform the run;\n",
    "* [log.yaml](./log.yaml) which contains the log of the run with all calculated quantities;\n",
    "* [time.yaml](./time.yaml) and [forces_posinp.xyz](./forces_posinp.xyz) which we will see later.\n",
    "\n",
    "*bigdft* uses the yaml format which is a serialisation of the dict structure used in python. \n",
    "If you look at the [input_minimal.yaml](./input_minimal) file, you can see:"
   ]
  },
  {
   "cell_type": "raw",
   "metadata": {},
   "source": [
    "  #---------------------------------------------------------------------- Minimal input file\n",
    "  #This file indicates the minimal set of input variables which has to be given to perform \n",
    "  #the run. The code would produce the same output if this file is used as input.\n",
    " posinp:\n",
    "   units: angstroem\n",
    "   positions:\n",
    "   - N: [0.0, 0.0, 0.0]\n",
    "   - N: [0.0, 0.0, 1.114989995956421]\n",
    "   properties:\n",
    "     format: xyz\n",
    "     source: posinp.xyz"
   ]
  },
  {
   "cell_type": "markdown",
   "metadata": {},
   "source": [
    "In this case, only the atomic positions are indicated using a yaml format.\n",
    "\n",
    "In the log file [log.yaml](./log.yaml), BigDFT automatically displays all the input parameters used for the calculations. \n",
    "\n",
    "The parameters which were not explicitly given are set to a default value, except the atomic positions of course, which has to be given. Since they do not exist, their default values are applied to the code. Basically, they correspond to a single-point LDA calculation, without k-points nor spin-polarisation.\n",
    "Because the format is the same, it is possible to use the 'log.yaml' file as input file"
   ]
  },
  {
   "cell_type": "markdown",
   "metadata": {},
   "source": [
    "## Using a naming scheme for Input/Output files"
   ]
  },
  {
   "cell_type": "markdown",
   "metadata": {},
   "source": [
    "All input parameters can be found in a yaml file with a naming prefix. By default, this prefix is *input* (or *posinp.xyz* for atomic input positions). One can choose the naming prefix by providing an argument to bigdft command line.\n",
    "\n",
    "Upon launching, BigDFT will look by default for those input (and posinp) files to see which parameters it should use, but one can also decide to rename all those files with a particular name for more practicity. One then has to give this name when launching, so that BigDFT knows what to look for.\n",
    "Imagine for example that you are interested in visualizing the wavefunctions output of the calculation. To do that, you should enter the suitable parameters in the .yaml file. \n",
    "\n",
    "Let us do it! Create a new calculation set by using the \"LDA\" prefix and rename all relevant files with the LDA prefix.\n",
    "Instead of creating a yaml input file *LDA.yaml* by hand, we use the power of python creating a dictionay which will be serialized into yaml by our *SystemCalculator* class."
   ]
  },
  {
   "cell_type": "code",
   "execution_count": 3,
   "metadata": {},
   "outputs": [],
   "source": [
    "dico = dict()\n",
    "dico['dft'] = dict(ixc='LDA')\n",
    "dico['output'] = dict(orbitals='binary')"
   ]
  },
  {
   "cell_type": "markdown",
   "metadata": {},
   "source": [
    "The wavefunctions will be present at the end of calculation, by indicating the value of the key *orbitals* in the output dictionary."
   ]
  },
  {
   "cell_type": "code",
   "execution_count": 4,
   "metadata": {},
   "outputs": [
    {
     "name": "stdout",
     "output_type": "stream",
     "text": [
      "Add a \"posinp\" key with the value \"posinp.xyz\" into the dictionary input\n",
      "Creating from a dictionary the yaml input file \"LDA.yaml\"\n",
      "Executing command:  /local/deutsch/Forge/BigDFT/build-mpif90/install/bin/bigdft -n LDA\n"
     ]
    },
    {
     "data": {
      "text/plain": [
       "<BigDFT.Logfiles.Logfile instance at 0x7f5e96fba518>"
      ]
     },
     "execution_count": 4,
     "metadata": {},
     "output_type": "execute_result"
    }
   ],
   "source": [
    "#Run the code with the LDA prefix, using a python dictionary (dico) and the file 'posinp.xyz' for the atomic positions.\n",
    "study.run(name=\"LDA\",input=dico,posinp='posinp.xyz')"
   ]
  },
  {
   "cell_type": "markdown",
   "metadata": {},
   "source": [
    "When using a naming scheme, the output files are placed in a directory called  **data-LDA**. In our LDA example, the wavefunctions of the system can thus be found in the **data-LDA** directory:"
   ]
  },
  {
   "cell_type": "code",
   "execution_count": 5,
   "metadata": {},
   "outputs": [
    {
     "name": "stdout",
     "output_type": "stream",
     "text": [
      "time-LDA.yaml\t\t\t  wavefunction-k001-NR.bin.b000004\n",
      "wavefunction-k001-NR.bin.b000001  wavefunction-k001-NR.bin.b000005\n",
      "wavefunction-k001-NR.bin.b000002  wavefunction-rhoij.bin\n",
      "wavefunction-k001-NR.bin.b000003\n"
     ]
    }
   ],
   "source": [
    "!ls data-LDA"
   ]
  },
  {
   "cell_type": "markdown",
   "metadata": {},
   "source": [
    "Here 001 means the first K-point (meaningless in this case), N stands for non spin-polarized, R for real part and the remaining number is the orbital ID. Post-processing of these files is done in the fourth tutorial.\n",
    "\n",
    "In the same spirit, another calculation can be done with different parameters. Imagine we want to perform a Hartree-Fock calculation. In BigDFT, this can be done by putting the ixc input variable to HF (or 100). So, we use the same dictionary changing only the *dft* key.\n",
    "We add also a *posinp* key to indicate what atomic positions file we use (this was done when we indicate posinp='posinp.xyz' into the *run* method)."
   ]
  },
  {
   "cell_type": "code",
   "execution_count": 6,
   "metadata": {},
   "outputs": [
    {
     "name": "stdout",
     "output_type": "stream",
     "text": [
      "Creating from a dictionary the yaml input file \"HF.yaml\"\n",
      "Executing command:  /local/deutsch/Forge/BigDFT/build-mpif90/install/bin/bigdft -n HF\n"
     ]
    },
    {
     "data": {
      "text/plain": [
       "<BigDFT.Logfiles.Logfile instance at 0x7f5e9703cab8>"
      ]
     },
     "execution_count": 6,
     "metadata": {},
     "output_type": "execute_result"
    }
   ],
   "source": [
    "dico['dft']['ixc'] = 'HF'\n",
    "dico['posinp'] = 'posinp.xyz'\n",
    "study.run(name=\"HF\",input=dico) #Run the code with the name scheme HF"
   ]
  },
  {
   "cell_type": "markdown",
   "metadata": {},
   "source": [
    "This time, an error will occur which is specified at the end of the file [log-HF.yaml](./log-HF.yaml)\n",
    "and also in [debug/bigdft-err-0.yaml](./debug/bigdft-err-0.yaml):"
   ]
  },
  {
   "cell_type": "raw",
   "metadata": {},
   "source": [
    " Additional Info:\n",
    "   The pseudopotential parameter file \"psppar.N\" is lacking, and no registered pseudo found \n",
    "   for \"N\""
   ]
  },
  {
   "cell_type": "markdown",
   "metadata": {},
   "source": [
    "This is because the pseudopotential is assigned by default in the code only for LDA and PBE XC approximations. You can find <a href=\"http://bigdft.org/images/f/f5/Psppar.N\">here</a> the pseudopotential which is taken by default in the LDA run. Put it in a psppar.N file, and run the calculation."
   ]
  },
  {
   "cell_type": "code",
   "execution_count": 7,
   "metadata": {},
   "outputs": [
    {
     "name": "stdout",
     "output_type": "stream",
     "text": [
      "Executing command:  /local/deutsch/Forge/BigDFT/build-mpif90/install/bin/bigdft -n HF\n"
     ]
    },
    {
     "data": {
      "text/plain": [
       "<BigDFT.Logfiles.Logfile instance at 0x7f5ec84706c8>"
      ]
     },
     "execution_count": 7,
     "metadata": {},
     "output_type": "execute_result"
    }
   ],
   "source": [
    "study.run(name=\"HF\") #Run the code with the name scheme"
   ]
  },
  {
   "cell_type": "markdown",
   "metadata": {},
   "source": [
    "When possible, care should be taken in choosing a pseudopotential which has been generated with the same XC approximation used. Unfortunately, at present HGH data are only available for semilocal functionals. For example, the same exercise as follows could have been done with Hybrid XC functionals, like for example PBE0 (ixc=-406). See the <a href=\"http://bigdft.org/Wiki/index.php?title=XC_codes\">XC codes</a> for a list of the supported XC functionals. Data of the calculations can be analysed."
   ]
  },
  {
   "cell_type": "code",
   "execution_count": 8,
   "metadata": {},
   "outputs": [
    {
     "name": "stdout",
     "output_type": "stream",
     "text": [
      "Creating from a dictionary the yaml input file \"PBE0.yaml\"\n",
      "Executing command:  /local/deutsch/Forge/BigDFT/build-mpif90/install/bin/bigdft -n PBE0\n"
     ]
    },
    {
     "data": {
      "text/plain": [
       "<BigDFT.Logfiles.Logfile instance at 0x7f5ed0940320>"
      ]
     },
     "execution_count": 8,
     "metadata": {},
     "output_type": "execute_result"
    }
   ],
   "source": [
    "dico['dft']['ixc'] = 'PBE0'\n",
    "study.run(name=\"PBE0\",input=dico) #Run the code with the name scheme PBE0"
   ]
  },
  {
   "cell_type": "markdown",
   "metadata": {},
   "source": [
    "For each run, you can see a string as <BigDFT.Logfiles.Logfile instance at 0x....>. The *run* method returns an instance of Logfile which contains all useful information about the corresponding calculation. We will see in another [tutorial](./Tutorial-N2-solution.ipynb) how to use it.\n",
    "\n",
    "<h2>Exercise</h2>\n",
    "\n",
    "Compare the values of the HOMO and HOMO-1 eigenvalues for the LDA and the HF run.\n",
    "Change the values of the hgrid and crmult to find the converged values.\n",
    "Note that, both in the LDA and in the HF calculation, a norm-conserving PSP is used.\n",
    "The results can be compared to all-electron calculations, done with different basis sets, from references (units are eV) \n",
    "(1) S.&nbsp;Hamel <i>et&nbsp;al.</i> J. Electron Spectrospcopy and Related Phenomena 123 (2002) 345-363 and (2) P.&nbsp;Politzer, F.&nbsp;Abu-Awwad, Theor. Chem. Acc. (1998), 99, 83-87:\n",
    "\n",
    "<table>\n",
    "  <tr> <td></td>                      <td>LDA(1)</td>  <td>HF(1)</td>   <td>HF(2)</td>   <td>(Exp.)</td></tr>\n",
    "  <tr> <td>3&sigma;<sub>g</sub></td>  <td>10.36</td>   <td>17.25</td>   <td>17.31</td>   <td>(15.60)</td></tr>\n",
    " <tr> <td>1&pi;<sub>u</sub></td>      <td>11.84</td>   <td>16.71</td>   <td>17.02</td>   <td>(16.98)</td></tr>\n",
    " <tr> <td>2&sigma;<sub>u</sub></td>   <td>13.41</td>   <td>21.25</td>   <td>21.08</td>   <td>(18.78)</td></tr>\n",
    "</table>\n",
    " \n",
    "The results depends, of course, on the precision chosen for the calculation, and of the presence of the pseudopotential.\n",
    "As it is well-known, the pseudopotential appoximation is however much less severe than the approximation induced by typical XC functionals. We might see that, even in the HF case, the presence of a LDA-based pseudopotential (of rather good quality) does not alter so much the results. Here you can find the values from BigDFT calculation using a very good precision (*hgrid=0.3*, *crmult=7.0*). \n",
    "Note that 1 ha=27.21138386 eV.\n",
    " \n",
    "<table>\n",
    "  <tr> <td></td>                        <td>LDA</td>    <td>HF</td></tr>\n",
    "  <tr> <td> 3&sigma;<sub>g</sub></td>   <td>10.40</td>  <td>17.32</td></tr>\n",
    "  <tr> <td> 1&pi;<sub>u</sub></td>      <td>11.75</td>  <td>16.62</td></tr>\n",
    "  <tr> <td> 2&sigma;<sub>u</sub></td>   <td>13.52</td>  <td>21.30</td></tr>\n",
    "</table>\n",
    "\n",
    "How much do these values differ from the calculation with default parameters? Do they converge to a given value?\n",
    "What is the *correlation* for the N2 molecule in (PSP) LDA?\n",
    "\n",
    "See here the [solution](./Tutorial-N2-solution.ipynb)."
   ]
  }
 ],
 "metadata": {
  "kernelspec": {
   "display_name": "Python 2",
   "language": "python",
   "name": "python2"
  },
  "language_info": {
   "codemirror_mode": {
    "name": "ipython",
    "version": 2
   },
   "file_extension": ".py",
   "mimetype": "text/x-python",
   "name": "python",
   "nbconvert_exporter": "python",
   "pygments_lexer": "ipython2",
   "version": "2.7.15rc1"
  }
 },
 "nbformat": 4,
 "nbformat_minor": 2
}
